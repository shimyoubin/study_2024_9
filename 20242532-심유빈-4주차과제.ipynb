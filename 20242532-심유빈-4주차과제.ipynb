{
 "cells": [
  {
   "cell_type": "code",
   "execution_count": 4,
   "metadata": {},
   "outputs": [
    {
     "name": "stdout",
     "output_type": "stream",
     "text": [
      "Requirement already satisfied: numpy in c:\\users\\109-1\\appdata\\local\\programs\\python\\python312\\lib\\site-packages (2.1.1)\n",
      "Note: you may need to restart the kernel to use updated packages.\n"
     ]
    },
    {
     "name": "stderr",
     "output_type": "stream",
     "text": [
      "\n",
      "[notice] A new release of pip is available: 24.0 -> 24.2\n",
      "[notice] To update, run: python.exe -m pip install --upgrade pip\n"
     ]
    }
   ],
   "source": [
    "pip install numpy"
   ]
  },
  {
   "cell_type": "code",
   "execution_count": 5,
   "metadata": {},
   "outputs": [
    {
     "data": {
      "text/plain": [
       "array([[              0, 140734920546800],\n",
       "       [              1,              -1]])"
      ]
     },
     "execution_count": 5,
     "metadata": {},
     "output_type": "execute_result"
    }
   ],
   "source": [
    "import numpy as np\n",
    "\n",
    "a = np.ndarray(shape=(2,2), dtype = int)\n",
    "a"
   ]
  },
  {
   "cell_type": "code",
   "execution_count": 6,
   "metadata": {},
   "outputs": [
    {
     "name": "stdout",
     "output_type": "stream",
     "text": [
      "Help on class ndarray in module numpy:\n",
      "\n",
      "class ndarray(builtins.object)\n",
      " |  ndarray(shape, dtype=float, buffer=None, offset=0,\n",
      " |          strides=None, order=None)\n",
      " |\n",
      " |  An array object represents a multidimensional, homogeneous array\n",
      " |  of fixed-size items.  An associated data-type object describes the\n",
      " |  format of each element in the array (its byte-order, how many bytes it\n",
      " |  occupies in memory, whether it is an integer, a floating point number,\n",
      " |  or something else, etc.)\n",
      " |\n",
      " |  Arrays should be constructed using `array`, `zeros` or `empty` (refer\n",
      " |  to the See Also section below).  The parameters given here refer to\n",
      " |  a low-level method (`ndarray(...)`) for instantiating an array.\n",
      " |\n",
      " |  For more information, refer to the `numpy` module and examine the\n",
      " |  methods and attributes of an array.\n",
      " |\n",
      " |  Parameters\n",
      " |  ----------\n",
      " |  (for the __new__ method; see Notes below)\n",
      " |\n",
      " |  shape : tuple of ints\n",
      " |      Shape of created array.\n",
      " |  dtype : data-type, optional\n",
      " |      Any object that can be interpreted as a numpy data type.\n",
      " |  buffer : object exposing buffer interface, optional\n",
      " |      Used to fill the array with data.\n",
      " |  offset : int, optional\n",
      " |      Offset of array data in buffer.\n",
      " |  strides : tuple of ints, optional\n",
      " |      Strides of data in memory.\n",
      " |  order : {'C', 'F'}, optional\n",
      " |      Row-major (C-style) or column-major (Fortran-style) order.\n",
      " |\n",
      " |  Attributes\n",
      " |  ----------\n",
      " |  T : ndarray\n",
      " |      Transpose of the array.\n",
      " |  data : buffer\n",
      " |      The array's elements, in memory.\n",
      " |  dtype : dtype object\n",
      " |      Describes the format of the elements in the array.\n",
      " |  flags : dict\n",
      " |      Dictionary containing information related to memory use, e.g.,\n",
      " |      'C_CONTIGUOUS', 'OWNDATA', 'WRITEABLE', etc.\n",
      " |  flat : numpy.flatiter object\n",
      " |      Flattened version of the array as an iterator.  The iterator\n",
      " |      allows assignments, e.g., ``x.flat = 3`` (See `ndarray.flat` for\n",
      " |      assignment examples; TODO).\n",
      " |  imag : ndarray\n",
      " |      Imaginary part of the array.\n",
      " |  real : ndarray\n",
      " |      Real part of the array.\n",
      " |  size : int\n",
      " |      Number of elements in the array.\n",
      " |  itemsize : int\n",
      " |      The memory use of each array element in bytes.\n",
      " |  nbytes : int\n",
      " |      The total number of bytes required to store the array data,\n",
      " |      i.e., ``itemsize * size``.\n",
      " |  ndim : int\n",
      " |      The array's number of dimensions.\n",
      " |  shape : tuple of ints\n",
      " |      Shape of the array.\n",
      " |  strides : tuple of ints\n",
      " |      The step-size required to move from one element to the next in\n",
      " |      memory. For example, a contiguous ``(3, 4)`` array of type\n",
      " |      ``int16`` in C-order has strides ``(8, 2)``.  This implies that\n",
      " |      to move from element to element in memory requires jumps of 2 bytes.\n",
      " |      To move from row-to-row, one needs to jump 8 bytes at a time\n",
      " |      (``2 * 4``).\n",
      " |  ctypes : ctypes object\n",
      " |      Class containing properties of the array needed for interaction\n",
      " |      with ctypes.\n",
      " |  base : ndarray\n",
      " |      If the array is a view into another array, that array is its `base`\n",
      " |      (unless that array is also a view).  The `base` array is where the\n",
      " |      array data is actually stored.\n",
      " |\n",
      " |  See Also\n",
      " |  --------\n",
      " |  array : Construct an array.\n",
      " |  zeros : Create an array, each element of which is zero.\n",
      " |  empty : Create an array, but leave its allocated memory unchanged (i.e.,\n",
      " |          it contains \"garbage\").\n",
      " |  dtype : Create a data-type.\n",
      " |  numpy.typing.NDArray : An ndarray alias :term:`generic <generic type>`\n",
      " |                         w.r.t. its `dtype.type <numpy.dtype.type>`.\n",
      " |\n",
      " |  Notes\n",
      " |  -----\n",
      " |  There are two modes of creating an array using ``__new__``:\n",
      " |\n",
      " |  1. If `buffer` is None, then only `shape`, `dtype`, and `order`\n",
      " |     are used.\n",
      " |  2. If `buffer` is an object exposing the buffer interface, then\n",
      " |     all keywords are interpreted.\n",
      " |\n",
      " |  No ``__init__`` method is needed because the array is fully initialized\n",
      " |  after the ``__new__`` method.\n",
      " |\n",
      " |  Examples\n",
      " |  --------\n",
      " |  These examples illustrate the low-level `ndarray` constructor.  Refer\n",
      " |  to the `See Also` section above for easier ways of constructing an\n",
      " |  ndarray.\n",
      " |\n",
      " |  First mode, `buffer` is None:\n",
      " |\n",
      " |  >>> import numpy as np\n",
      " |  >>> np.ndarray(shape=(2,2), dtype=float, order='F')\n",
      " |  array([[0.0e+000, 0.0e+000], # random\n",
      " |         [     nan, 2.5e-323]])\n",
      " |\n",
      " |  Second mode:\n",
      " |\n",
      " |  >>> np.ndarray((2,), buffer=np.array([1,2,3]),\n",
      " |  ...            offset=np.int_().itemsize,\n",
      " |  ...            dtype=int) # offset = 1*itemsize, i.e. skip first element\n",
      " |  array([2, 3])\n",
      " |\n",
      " |  Methods defined here:\n",
      " |\n",
      " |  __abs__(self, /)\n",
      " |      abs(self)\n",
      " |\n",
      " |  __add__(self, value, /)\n",
      " |      Return self+value.\n",
      " |\n",
      " |  __and__(self, value, /)\n",
      " |      Return self&value.\n",
      " |\n",
      " |  __array__(...)\n",
      " |      a.__array__([dtype], *, copy=None)\n",
      " |\n",
      " |      For ``dtype`` parameter it returns a new reference to self if\n",
      " |      ``dtype`` is not given or it matches array's data type.\n",
      " |      A new array of provided data type is returned if ``dtype``\n",
      " |      is different from the current data type of the array.\n",
      " |      For ``copy`` parameter it returns a new reference to self if\n",
      " |      ``copy=False`` or ``copy=None`` and copying isn't enforced by ``dtype``\n",
      " |      parameter. The method returns a new array for ``copy=True``, regardless of\n",
      " |      ``dtype`` parameter.\n",
      " |\n",
      " |      A more detailed explanation of the ``__array__`` interface\n",
      " |      can be found in :ref:`dunder_array.interface`.\n",
      " |\n",
      " |  __array_finalize__(...)\n",
      " |      a.__array_finalize__(obj, /)\n",
      " |\n",
      " |      Present so subclasses can call super. Does nothing.\n",
      " |\n",
      " |  __array_function__(...)\n",
      " |\n",
      " |  __array_namespace__(...)\n",
      " |\n",
      " |  __array_ufunc__(...)\n",
      " |\n",
      " |  __array_wrap__(...)\n",
      " |      a.__array_wrap__(array[, context], /)\n",
      " |\n",
      " |      Returns a view of `array` with the same type as self.\n",
      " |\n",
      " |  __bool__(self, /)\n",
      " |      True if self else False\n",
      " |\n",
      " |  __buffer__(self, flags, /)\n",
      " |      Return a buffer object that exposes the underlying memory of the object.\n",
      " |\n",
      " |  __complex__(...)\n",
      " |\n",
      " |  __contains__(self, key, /)\n",
      " |      Return bool(key in self).\n",
      " |\n",
      " |  __copy__(...)\n",
      " |      a.__copy__()\n",
      " |\n",
      " |      Used if :func:`copy.copy` is called on an array. Returns a copy of the array.\n",
      " |\n",
      " |      Equivalent to ``a.copy(order='K')``.\n",
      " |\n",
      " |  __deepcopy__(...)\n",
      " |      a.__deepcopy__(memo, /)\n",
      " |\n",
      " |      Used if :func:`copy.deepcopy` is called on an array.\n",
      " |\n",
      " |  __delitem__(self, key, /)\n",
      " |      Delete self[key].\n",
      " |\n",
      " |  __divmod__(self, value, /)\n",
      " |      Return divmod(self, value).\n",
      " |\n",
      " |  __dlpack__(...)\n",
      " |      a.__dlpack__(*, stream=None, max_version=None, dl_device=None, copy=None)\n",
      " |\n",
      " |      DLPack Protocol: Part of the Array API.\n",
      " |\n",
      " |  __dlpack_device__(...)\n",
      " |      a.__dlpack_device__()\n",
      " |\n",
      " |      DLPack Protocol: Part of the Array API.\n",
      " |\n",
      " |  __eq__(self, value, /)\n",
      " |      Return self==value.\n",
      " |\n",
      " |  __float__(self, /)\n",
      " |      float(self)\n",
      " |\n",
      " |  __floordiv__(self, value, /)\n",
      " |      Return self//value.\n",
      " |\n",
      " |  __format__(...)\n",
      " |      Default object formatter.\n",
      " |\n",
      " |      Return str(self) if format_spec is empty. Raise TypeError otherwise.\n",
      " |\n",
      " |  __ge__(self, value, /)\n",
      " |      Return self>=value.\n",
      " |\n",
      " |  __getitem__(self, key, /)\n",
      " |      Return self[key].\n",
      " |\n",
      " |  __gt__(self, value, /)\n",
      " |      Return self>value.\n",
      " |\n",
      " |  __iadd__(self, value, /)\n",
      " |      Return self+=value.\n",
      " |\n",
      " |  __iand__(self, value, /)\n",
      " |      Return self&=value.\n",
      " |\n",
      " |  __ifloordiv__(self, value, /)\n",
      " |      Return self//=value.\n",
      " |\n",
      " |  __ilshift__(self, value, /)\n",
      " |      Return self<<=value.\n",
      " |\n",
      " |  __imatmul__(self, value, /)\n",
      " |      Return self@=value.\n",
      " |\n",
      " |  __imod__(self, value, /)\n",
      " |      Return self%=value.\n",
      " |\n",
      " |  __imul__(self, value, /)\n",
      " |      Return self*=value.\n",
      " |\n",
      " |  __index__(self, /)\n",
      " |      Return self converted to an integer, if self is suitable for use as an index into a list.\n",
      " |\n",
      " |  __int__(self, /)\n",
      " |      int(self)\n",
      " |\n",
      " |  __invert__(self, /)\n",
      " |      ~self\n",
      " |\n",
      " |  __ior__(self, value, /)\n",
      " |      Return self|=value.\n",
      " |\n",
      " |  __ipow__(self, value, /)\n",
      " |      Return self**=value.\n",
      " |\n",
      " |  __irshift__(self, value, /)\n",
      " |      Return self>>=value.\n",
      " |\n",
      " |  __isub__(self, value, /)\n",
      " |      Return self-=value.\n",
      " |\n",
      " |  __iter__(self, /)\n",
      " |      Implement iter(self).\n",
      " |\n",
      " |  __itruediv__(self, value, /)\n",
      " |      Return self/=value.\n",
      " |\n",
      " |  __ixor__(self, value, /)\n",
      " |      Return self^=value.\n",
      " |\n",
      " |  __le__(self, value, /)\n",
      " |      Return self<=value.\n",
      " |\n",
      " |  __len__(self, /)\n",
      " |      Return len(self).\n",
      " |\n",
      " |  __lshift__(self, value, /)\n",
      " |      Return self<<value.\n",
      " |\n",
      " |  __lt__(self, value, /)\n",
      " |      Return self<value.\n",
      " |\n",
      " |  __matmul__(self, value, /)\n",
      " |      Return self@value.\n",
      " |\n",
      " |  __mod__(self, value, /)\n",
      " |      Return self%value.\n",
      " |\n",
      " |  __mul__(self, value, /)\n",
      " |      Return self*value.\n",
      " |\n",
      " |  __ne__(self, value, /)\n",
      " |      Return self!=value.\n",
      " |\n",
      " |  __neg__(self, /)\n",
      " |      -self\n",
      " |\n",
      " |  __or__(self, value, /)\n",
      " |      Return self|value.\n",
      " |\n",
      " |  __pos__(self, /)\n",
      " |      +self\n",
      " |\n",
      " |  __pow__(self, value, mod=None, /)\n",
      " |      Return pow(self, value, mod).\n",
      " |\n",
      " |  __radd__(self, value, /)\n",
      " |      Return value+self.\n",
      " |\n",
      " |  __rand__(self, value, /)\n",
      " |      Return value&self.\n",
      " |\n",
      " |  __rdivmod__(self, value, /)\n",
      " |      Return divmod(value, self).\n",
      " |\n",
      " |  __reduce__(...)\n",
      " |      a.__reduce__()\n",
      " |\n",
      " |      For pickling.\n",
      " |\n",
      " |  __reduce_ex__(...)\n",
      " |      Helper for pickle.\n",
      " |\n",
      " |  __repr__(self, /)\n",
      " |      Return repr(self).\n",
      " |\n",
      " |  __rfloordiv__(self, value, /)\n",
      " |      Return value//self.\n",
      " |\n",
      " |  __rlshift__(self, value, /)\n",
      " |      Return value<<self.\n",
      " |\n",
      " |  __rmatmul__(self, value, /)\n",
      " |      Return value@self.\n",
      " |\n",
      " |  __rmod__(self, value, /)\n",
      " |      Return value%self.\n",
      " |\n",
      " |  __rmul__(self, value, /)\n",
      " |      Return value*self.\n",
      " |\n",
      " |  __ror__(self, value, /)\n",
      " |      Return value|self.\n",
      " |\n",
      " |  __rpow__(self, value, mod=None, /)\n",
      " |      Return pow(value, self, mod).\n",
      " |\n",
      " |  __rrshift__(self, value, /)\n",
      " |      Return value>>self.\n",
      " |\n",
      " |  __rshift__(self, value, /)\n",
      " |      Return self>>value.\n",
      " |\n",
      " |  __rsub__(self, value, /)\n",
      " |      Return value-self.\n",
      " |\n",
      " |  __rtruediv__(self, value, /)\n",
      " |      Return value/self.\n",
      " |\n",
      " |  __rxor__(self, value, /)\n",
      " |      Return value^self.\n",
      " |\n",
      " |  __setitem__(self, key, value, /)\n",
      " |      Set self[key] to value.\n",
      " |\n",
      " |  __setstate__(...)\n",
      " |      a.__setstate__(state, /)\n",
      " |\n",
      " |      For unpickling.\n",
      " |\n",
      " |      The `state` argument must be a sequence that contains the following\n",
      " |      elements:\n",
      " |\n",
      " |      Parameters\n",
      " |      ----------\n",
      " |      version : int\n",
      " |          optional pickle version. If omitted defaults to 0.\n",
      " |      shape : tuple\n",
      " |      dtype : data-type\n",
      " |      isFortran : bool\n",
      " |      rawdata : string or list\n",
      " |          a binary string with the data (or a list if 'a' is an object array)\n",
      " |\n",
      " |  __sizeof__(...)\n",
      " |      Size of object in memory, in bytes.\n",
      " |\n",
      " |  __str__(self, /)\n",
      " |      Return str(self).\n",
      " |\n",
      " |  __sub__(self, value, /)\n",
      " |      Return self-value.\n",
      " |\n",
      " |  __truediv__(self, value, /)\n",
      " |      Return self/value.\n",
      " |\n",
      " |  __xor__(self, value, /)\n",
      " |      Return self^value.\n",
      " |\n",
      " |  all(...)\n",
      " |      a.all(axis=None, out=None, keepdims=False, *, where=True)\n",
      " |\n",
      " |      Returns True if all elements evaluate to True.\n",
      " |\n",
      " |      Refer to `numpy.all` for full documentation.\n",
      " |\n",
      " |      See Also\n",
      " |      --------\n",
      " |      numpy.all : equivalent function\n",
      " |\n",
      " |  any(...)\n",
      " |      a.any(axis=None, out=None, keepdims=False, *, where=True)\n",
      " |\n",
      " |      Returns True if any of the elements of `a` evaluate to True.\n",
      " |\n",
      " |      Refer to `numpy.any` for full documentation.\n",
      " |\n",
      " |      See Also\n",
      " |      --------\n",
      " |      numpy.any : equivalent function\n",
      " |\n",
      " |  argmax(...)\n",
      " |      a.argmax(axis=None, out=None, *, keepdims=False)\n",
      " |\n",
      " |      Return indices of the maximum values along the given axis.\n",
      " |\n",
      " |      Refer to `numpy.argmax` for full documentation.\n",
      " |\n",
      " |      See Also\n",
      " |      --------\n",
      " |      numpy.argmax : equivalent function\n",
      " |\n",
      " |  argmin(...)\n",
      " |      a.argmin(axis=None, out=None, *, keepdims=False)\n",
      " |\n",
      " |      Return indices of the minimum values along the given axis.\n",
      " |\n",
      " |      Refer to `numpy.argmin` for detailed documentation.\n",
      " |\n",
      " |      See Also\n",
      " |      --------\n",
      " |      numpy.argmin : equivalent function\n",
      " |\n",
      " |  argpartition(...)\n",
      " |      a.argpartition(kth, axis=-1, kind='introselect', order=None)\n",
      " |\n",
      " |      Returns the indices that would partition this array.\n",
      " |\n",
      " |      Refer to `numpy.argpartition` for full documentation.\n",
      " |\n",
      " |      .. versionadded:: 1.8.0\n",
      " |\n",
      " |      See Also\n",
      " |      --------\n",
      " |      numpy.argpartition : equivalent function\n",
      " |\n",
      " |  argsort(...)\n",
      " |      a.argsort(axis=-1, kind=None, order=None)\n",
      " |\n",
      " |      Returns the indices that would sort this array.\n",
      " |\n",
      " |      Refer to `numpy.argsort` for full documentation.\n",
      " |\n",
      " |      See Also\n",
      " |      --------\n",
      " |      numpy.argsort : equivalent function\n",
      " |\n",
      " |  astype(...)\n",
      " |      a.astype(dtype, order='K', casting='unsafe', subok=True, copy=True)\n",
      " |\n",
      " |      Copy of the array, cast to a specified type.\n",
      " |\n",
      " |      Parameters\n",
      " |      ----------\n",
      " |      dtype : str or dtype\n",
      " |          Typecode or data-type to which the array is cast.\n",
      " |      order : {'C', 'F', 'A', 'K'}, optional\n",
      " |          Controls the memory layout order of the result.\n",
      " |          'C' means C order, 'F' means Fortran order, 'A'\n",
      " |          means 'F' order if all the arrays are Fortran contiguous,\n",
      " |          'C' order otherwise, and 'K' means as close to the\n",
      " |          order the array elements appear in memory as possible.\n",
      " |          Default is 'K'.\n",
      " |      casting : {'no', 'equiv', 'safe', 'same_kind', 'unsafe'}, optional\n",
      " |          Controls what kind of data casting may occur. Defaults to 'unsafe'\n",
      " |          for backwards compatibility.\n",
      " |\n",
      " |          * 'no' means the data types should not be cast at all.\n",
      " |          * 'equiv' means only byte-order changes are allowed.\n",
      " |          * 'safe' means only casts which can preserve values are allowed.\n",
      " |          * 'same_kind' means only safe casts or casts within a kind,\n",
      " |            like float64 to float32, are allowed.\n",
      " |          * 'unsafe' means any data conversions may be done.\n",
      " |      subok : bool, optional\n",
      " |          If True, then sub-classes will be passed-through (default), otherwise\n",
      " |          the returned array will be forced to be a base-class array.\n",
      " |      copy : bool, optional\n",
      " |          By default, astype always returns a newly allocated array. If this\n",
      " |          is set to false, and the `dtype`, `order`, and `subok`\n",
      " |          requirements are satisfied, the input array is returned instead\n",
      " |          of a copy.\n",
      " |\n",
      " |      Returns\n",
      " |      -------\n",
      " |      arr_t : ndarray\n",
      " |          Unless `copy` is False and the other conditions for returning the input\n",
      " |          array are satisfied (see description for `copy` input parameter), `arr_t`\n",
      " |          is a new array of the same shape as the input array, with dtype, order\n",
      " |          given by `dtype`, `order`.\n",
      " |\n",
      " |      Notes\n",
      " |      -----\n",
      " |      .. versionchanged:: 1.17.0\n",
      " |         Casting between a simple data type and a structured one is possible only\n",
      " |         for \"unsafe\" casting.  Casting to multiple fields is allowed, but\n",
      " |         casting from multiple fields is not.\n",
      " |\n",
      " |      .. versionchanged:: 1.9.0\n",
      " |         Casting from numeric to string types in 'safe' casting mode requires\n",
      " |         that the string dtype length is long enough to store the max\n",
      " |         integer/float value converted.\n",
      " |\n",
      " |      Raises\n",
      " |      ------\n",
      " |      ComplexWarning\n",
      " |          When casting from complex to float or int. To avoid this,\n",
      " |          one should use ``a.real.astype(t)``.\n",
      " |\n",
      " |      Examples\n",
      " |      --------\n",
      " |      >>> import numpy as np\n",
      " |      >>> x = np.array([1, 2, 2.5])\n",
      " |      >>> x\n",
      " |      array([1. ,  2. ,  2.5])\n",
      " |\n",
      " |      >>> x.astype(int)\n",
      " |      array([1, 2, 2])\n",
      " |\n",
      " |  byteswap(...)\n",
      " |      a.byteswap(inplace=False)\n",
      " |\n",
      " |      Swap the bytes of the array elements\n",
      " |\n",
      " |      Toggle between low-endian and big-endian data representation by\n",
      " |      returning a byteswapped array, optionally swapped in-place.\n",
      " |      Arrays of byte-strings are not swapped. The real and imaginary\n",
      " |      parts of a complex number are swapped individually.\n",
      " |\n",
      " |      Parameters\n",
      " |      ----------\n",
      " |      inplace : bool, optional\n",
      " |          If ``True``, swap bytes in-place, default is ``False``.\n",
      " |\n",
      " |      Returns\n",
      " |      -------\n",
      " |      out : ndarray\n",
      " |          The byteswapped array. If `inplace` is ``True``, this is\n",
      " |          a view to self.\n",
      " |\n",
      " |      Examples\n",
      " |      --------\n",
      " |      >>> import numpy as np\n",
      " |      >>> A = np.array([1, 256, 8755], dtype=np.int16)\n",
      " |      >>> list(map(hex, A))\n",
      " |      ['0x1', '0x100', '0x2233']\n",
      " |      >>> A.byteswap(inplace=True)\n",
      " |      array([  256,     1, 13090], dtype=int16)\n",
      " |      >>> list(map(hex, A))\n",
      " |      ['0x100', '0x1', '0x3322']\n",
      " |\n",
      " |      Arrays of byte-strings are not swapped\n",
      " |\n",
      " |      >>> A = np.array([b'ceg', b'fac'])\n",
      " |      >>> A.byteswap()\n",
      " |      array([b'ceg', b'fac'], dtype='|S3')\n",
      " |\n",
      " |      ``A.view(A.dtype.newbyteorder()).byteswap()`` produces an array with\n",
      " |      the same values but different representation in memory\n",
      " |\n",
      " |      >>> A = np.array([1, 2, 3])\n",
      " |      >>> A.view(np.uint8)\n",
      " |      array([1, 0, 0, 0, 0, 0, 0, 0, 2, 0, 0, 0, 0, 0, 0, 0, 3, 0, 0, 0, 0, 0,\n",
      " |             0, 0], dtype=uint8)\n",
      " |      >>> A.view(A.dtype.newbyteorder()).byteswap(inplace=True)\n",
      " |      array([1, 2, 3])\n",
      " |      >>> A.view(np.uint8)\n",
      " |      array([0, 0, 0, 0, 0, 0, 0, 1, 0, 0, 0, 0, 0, 0, 0, 2, 0, 0, 0, 0, 0, 0,\n",
      " |             0, 3], dtype=uint8)\n",
      " |\n",
      " |  choose(...)\n",
      " |      a.choose(choices, out=None, mode='raise')\n",
      " |\n",
      " |      Use an index array to construct a new array from a set of choices.\n",
      " |\n",
      " |      Refer to `numpy.choose` for full documentation.\n",
      " |\n",
      " |      See Also\n",
      " |      --------\n",
      " |      numpy.choose : equivalent function\n",
      " |\n",
      " |  clip(...)\n",
      " |      a.clip(min=None, max=None, out=None, **kwargs)\n",
      " |\n",
      " |      Return an array whose values are limited to ``[min, max]``.\n",
      " |      One of max or min must be given.\n",
      " |\n",
      " |      Refer to `numpy.clip` for full documentation.\n",
      " |\n",
      " |      See Also\n",
      " |      --------\n",
      " |      numpy.clip : equivalent function\n",
      " |\n",
      " |  compress(...)\n",
      " |      a.compress(condition, axis=None, out=None)\n",
      " |\n",
      " |      Return selected slices of this array along given axis.\n",
      " |\n",
      " |      Refer to `numpy.compress` for full documentation.\n",
      " |\n",
      " |      See Also\n",
      " |      --------\n",
      " |      numpy.compress : equivalent function\n",
      " |\n",
      " |  conj(...)\n",
      " |      a.conj()\n",
      " |\n",
      " |      Complex-conjugate all elements.\n",
      " |\n",
      " |      Refer to `numpy.conjugate` for full documentation.\n",
      " |\n",
      " |      See Also\n",
      " |      --------\n",
      " |      numpy.conjugate : equivalent function\n",
      " |\n",
      " |  conjugate(...)\n",
      " |      a.conjugate()\n",
      " |\n",
      " |      Return the complex conjugate, element-wise.\n",
      " |\n",
      " |      Refer to `numpy.conjugate` for full documentation.\n",
      " |\n",
      " |      See Also\n",
      " |      --------\n",
      " |      numpy.conjugate : equivalent function\n",
      " |\n",
      " |  copy(...)\n",
      " |      a.copy(order='C')\n",
      " |\n",
      " |      Return a copy of the array.\n",
      " |\n",
      " |      Parameters\n",
      " |      ----------\n",
      " |      order : {'C', 'F', 'A', 'K'}, optional\n",
      " |          Controls the memory layout of the copy. 'C' means C-order,\n",
      " |          'F' means F-order, 'A' means 'F' if `a` is Fortran contiguous,\n",
      " |          'C' otherwise. 'K' means match the layout of `a` as closely\n",
      " |          as possible. (Note that this function and :func:`numpy.copy` are very\n",
      " |          similar but have different default values for their order=\n",
      " |          arguments, and this function always passes sub-classes through.)\n",
      " |\n",
      " |      See also\n",
      " |      --------\n",
      " |      numpy.copy : Similar function with different default behavior\n",
      " |      numpy.copyto\n",
      " |\n",
      " |      Notes\n",
      " |      -----\n",
      " |      This function is the preferred method for creating an array copy.  The\n",
      " |      function :func:`numpy.copy` is similar, but it defaults to using order 'K',\n",
      " |      and will not pass sub-classes through by default.\n",
      " |\n",
      " |      Examples\n",
      " |      --------\n",
      " |      >>> import numpy as np\n",
      " |      >>> x = np.array([[1,2,3],[4,5,6]], order='F')\n",
      " |\n",
      " |      >>> y = x.copy()\n",
      " |\n",
      " |      >>> x.fill(0)\n",
      " |\n",
      " |      >>> x\n",
      " |      array([[0, 0, 0],\n",
      " |             [0, 0, 0]])\n",
      " |\n",
      " |      >>> y\n",
      " |      array([[1, 2, 3],\n",
      " |             [4, 5, 6]])\n",
      " |\n",
      " |      >>> y.flags['C_CONTIGUOUS']\n",
      " |      True\n",
      " |\n",
      " |      For arrays containing Python objects (e.g. dtype=object),\n",
      " |      the copy is a shallow one. The new array will contain the\n",
      " |      same object which may lead to surprises if that object can\n",
      " |      be modified (is mutable):\n",
      " |\n",
      " |      >>> a = np.array([1, 'm', [2, 3, 4]], dtype=object)\n",
      " |      >>> b = a.copy()\n",
      " |      >>> b[2][0] = 10\n",
      " |      >>> a\n",
      " |      array([1, 'm', list([10, 3, 4])], dtype=object)\n",
      " |\n",
      " |      To ensure all elements within an ``object`` array are copied,\n",
      " |      use `copy.deepcopy`:\n",
      " |\n",
      " |      >>> import copy\n",
      " |      >>> a = np.array([1, 'm', [2, 3, 4]], dtype=object)\n",
      " |      >>> c = copy.deepcopy(a)\n",
      " |      >>> c[2][0] = 10\n",
      " |      >>> c\n",
      " |      array([1, 'm', list([10, 3, 4])], dtype=object)\n",
      " |      >>> a\n",
      " |      array([1, 'm', list([2, 3, 4])], dtype=object)\n",
      " |\n",
      " |  cumprod(...)\n",
      " |      a.cumprod(axis=None, dtype=None, out=None)\n",
      " |\n",
      " |      Return the cumulative product of the elements along the given axis.\n",
      " |\n",
      " |      Refer to `numpy.cumprod` for full documentation.\n",
      " |\n",
      " |      See Also\n",
      " |      --------\n",
      " |      numpy.cumprod : equivalent function\n",
      " |\n",
      " |  cumsum(...)\n",
      " |      a.cumsum(axis=None, dtype=None, out=None)\n",
      " |\n",
      " |      Return the cumulative sum of the elements along the given axis.\n",
      " |\n",
      " |      Refer to `numpy.cumsum` for full documentation.\n",
      " |\n",
      " |      See Also\n",
      " |      --------\n",
      " |      numpy.cumsum : equivalent function\n",
      " |\n",
      " |  diagonal(...)\n",
      " |      a.diagonal(offset=0, axis1=0, axis2=1)\n",
      " |\n",
      " |      Return specified diagonals. In NumPy 1.9 the returned array is a\n",
      " |      read-only view instead of a copy as in previous NumPy versions.  In\n",
      " |      a future version the read-only restriction will be removed.\n",
      " |\n",
      " |      Refer to :func:`numpy.diagonal` for full documentation.\n",
      " |\n",
      " |      See Also\n",
      " |      --------\n",
      " |      numpy.diagonal : equivalent function\n",
      " |\n",
      " |  dot(...)\n",
      " |\n",
      " |  dump(...)\n",
      " |      a.dump(file)\n",
      " |\n",
      " |      Dump a pickle of the array to the specified file.\n",
      " |      The array can be read back with pickle.load or numpy.load.\n",
      " |\n",
      " |      Parameters\n",
      " |      ----------\n",
      " |      file : str or Path\n",
      " |          A string naming the dump file.\n",
      " |\n",
      " |          .. versionchanged:: 1.17.0\n",
      " |              `pathlib.Path` objects are now accepted.\n",
      " |\n",
      " |  dumps(...)\n",
      " |      a.dumps()\n",
      " |\n",
      " |      Returns the pickle of the array as a string.\n",
      " |      pickle.loads will convert the string back to an array.\n",
      " |\n",
      " |      Parameters\n",
      " |      ----------\n",
      " |      None\n",
      " |\n",
      " |  fill(...)\n",
      " |      a.fill(value)\n",
      " |\n",
      " |      Fill the array with a scalar value.\n",
      " |\n",
      " |      Parameters\n",
      " |      ----------\n",
      " |      value : scalar\n",
      " |          All elements of `a` will be assigned this value.\n",
      " |\n",
      " |      Examples\n",
      " |      --------\n",
      " |      >>> import numpy as np\n",
      " |      >>> a = np.array([1, 2])\n",
      " |      >>> a.fill(0)\n",
      " |      >>> a\n",
      " |      array([0, 0])\n",
      " |      >>> a = np.empty(2)\n",
      " |      >>> a.fill(1)\n",
      " |      >>> a\n",
      " |      array([1.,  1.])\n",
      " |\n",
      " |      Fill expects a scalar value and always behaves the same as assigning\n",
      " |      to a single array element.  The following is a rare example where this\n",
      " |      distinction is important:\n",
      " |\n",
      " |      >>> a = np.array([None, None], dtype=object)\n",
      " |      >>> a[0] = np.array(3)\n",
      " |      >>> a\n",
      " |      array([array(3), None], dtype=object)\n",
      " |      >>> a.fill(np.array(3))\n",
      " |      >>> a\n",
      " |      array([array(3), array(3)], dtype=object)\n",
      " |\n",
      " |      Where other forms of assignments will unpack the array being assigned:\n",
      " |\n",
      " |      >>> a[...] = np.array(3)\n",
      " |      >>> a\n",
      " |      array([3, 3], dtype=object)\n",
      " |\n",
      " |  flatten(...)\n",
      " |      a.flatten(order='C')\n",
      " |\n",
      " |      Return a copy of the array collapsed into one dimension.\n",
      " |\n",
      " |      Parameters\n",
      " |      ----------\n",
      " |      order : {'C', 'F', 'A', 'K'}, optional\n",
      " |          'C' means to flatten in row-major (C-style) order.\n",
      " |          'F' means to flatten in column-major (Fortran-\n",
      " |          style) order. 'A' means to flatten in column-major\n",
      " |          order if `a` is Fortran *contiguous* in memory,\n",
      " |          row-major order otherwise. 'K' means to flatten\n",
      " |          `a` in the order the elements occur in memory.\n",
      " |          The default is 'C'.\n",
      " |\n",
      " |      Returns\n",
      " |      -------\n",
      " |      y : ndarray\n",
      " |          A copy of the input array, flattened to one dimension.\n",
      " |\n",
      " |      See Also\n",
      " |      --------\n",
      " |      ravel : Return a flattened array.\n",
      " |      flat : A 1-D flat iterator over the array.\n",
      " |\n",
      " |      Examples\n",
      " |      --------\n",
      " |      >>> import numpy as np\n",
      " |      >>> a = np.array([[1,2], [3,4]])\n",
      " |      >>> a.flatten()\n",
      " |      array([1, 2, 3, 4])\n",
      " |      >>> a.flatten('F')\n",
      " |      array([1, 3, 2, 4])\n",
      " |\n",
      " |  getfield(...)\n",
      " |      a.getfield(dtype, offset=0)\n",
      " |\n",
      " |      Returns a field of the given array as a certain type.\n",
      " |\n",
      " |      A field is a view of the array data with a given data-type. The values in\n",
      " |      the view are determined by the given type and the offset into the current\n",
      " |      array in bytes. The offset needs to be such that the view dtype fits in the\n",
      " |      array dtype; for example an array of dtype complex128 has 16-byte elements.\n",
      " |      If taking a view with a 32-bit integer (4 bytes), the offset needs to be\n",
      " |      between 0 and 12 bytes.\n",
      " |\n",
      " |      Parameters\n",
      " |      ----------\n",
      " |      dtype : str or dtype\n",
      " |          The data type of the view. The dtype size of the view can not be larger\n",
      " |          than that of the array itself.\n",
      " |      offset : int\n",
      " |          Number of bytes to skip before beginning the element view.\n",
      " |\n",
      " |      Examples\n",
      " |      --------\n",
      " |      >>> import numpy as np\n",
      " |      >>> x = np.diag([1.+1.j]*2)\n",
      " |      >>> x[1, 1] = 2 + 4.j\n",
      " |      >>> x\n",
      " |      array([[1.+1.j,  0.+0.j],\n",
      " |             [0.+0.j,  2.+4.j]])\n",
      " |      >>> x.getfield(np.float64)\n",
      " |      array([[1.,  0.],\n",
      " |             [0.,  2.]])\n",
      " |\n",
      " |      By choosing an offset of 8 bytes we can select the complex part of the\n",
      " |      array for our view:\n",
      " |\n",
      " |      >>> x.getfield(np.float64, offset=8)\n",
      " |      array([[1.,  0.],\n",
      " |             [0.,  4.]])\n",
      " |\n",
      " |  item(...)\n",
      " |      a.item(*args)\n",
      " |\n",
      " |      Copy an element of an array to a standard Python scalar and return it.\n",
      " |\n",
      " |      Parameters\n",
      " |      ----------\n",
      " |      \\*args : Arguments (variable number and type)\n",
      " |\n",
      " |          * none: in this case, the method only works for arrays\n",
      " |            with one element (`a.size == 1`), which element is\n",
      " |            copied into a standard Python scalar object and returned.\n",
      " |\n",
      " |          * int_type: this argument is interpreted as a flat index into\n",
      " |            the array, specifying which element to copy and return.\n",
      " |\n",
      " |          * tuple of int_types: functions as does a single int_type argument,\n",
      " |            except that the argument is interpreted as an nd-index into the\n",
      " |            array.\n",
      " |\n",
      " |      Returns\n",
      " |      -------\n",
      " |      z : Standard Python scalar object\n",
      " |          A copy of the specified element of the array as a suitable\n",
      " |          Python scalar\n",
      " |\n",
      " |      Notes\n",
      " |      -----\n",
      " |      When the data type of `a` is longdouble or clongdouble, item() returns\n",
      " |      a scalar array object because there is no available Python scalar that\n",
      " |      would not lose information. Void arrays return a buffer object for item(),\n",
      " |      unless fields are defined, in which case a tuple is returned.\n",
      " |\n",
      " |      `item` is very similar to a[args], except, instead of an array scalar,\n",
      " |      a standard Python scalar is returned. This can be useful for speeding up\n",
      " |      access to elements of the array and doing arithmetic on elements of the\n",
      " |      array using Python's optimized math.\n",
      " |\n",
      " |      Examples\n",
      " |      --------\n",
      " |      >>> import numpy as np\n",
      " |      >>> np.random.seed(123)\n",
      " |      >>> x = np.random.randint(9, size=(3, 3))\n",
      " |      >>> x\n",
      " |      array([[2, 2, 6],\n",
      " |             [1, 3, 6],\n",
      " |             [1, 0, 1]])\n",
      " |      >>> x.item(3)\n",
      " |      1\n",
      " |      >>> x.item(7)\n",
      " |      0\n",
      " |      >>> x.item((0, 1))\n",
      " |      2\n",
      " |      >>> x.item((2, 2))\n",
      " |      1\n",
      " |\n",
      " |      For an array with object dtype, elements are returned as-is.\n",
      " |\n",
      " |      >>> a = np.array([np.int64(1)], dtype=object)\n",
      " |      >>> a.item() #return np.int64\n",
      " |      np.int64(1)\n",
      " |\n",
      " |  max(...)\n",
      " |      a.max(axis=None, out=None, keepdims=False, initial=<no value>, where=True)\n",
      " |\n",
      " |      Return the maximum along a given axis.\n",
      " |\n",
      " |      Refer to `numpy.amax` for full documentation.\n",
      " |\n",
      " |      See Also\n",
      " |      --------\n",
      " |      numpy.amax : equivalent function\n",
      " |\n",
      " |  mean(...)\n",
      " |      a.mean(axis=None, dtype=None, out=None, keepdims=False, *, where=True)\n",
      " |\n",
      " |      Returns the average of the array elements along given axis.\n",
      " |\n",
      " |      Refer to `numpy.mean` for full documentation.\n",
      " |\n",
      " |      See Also\n",
      " |      --------\n",
      " |      numpy.mean : equivalent function\n",
      " |\n",
      " |  min(...)\n",
      " |      a.min(axis=None, out=None, keepdims=False, initial=<no value>, where=True)\n",
      " |\n",
      " |      Return the minimum along a given axis.\n",
      " |\n",
      " |      Refer to `numpy.amin` for full documentation.\n",
      " |\n",
      " |      See Also\n",
      " |      --------\n",
      " |      numpy.amin : equivalent function\n",
      " |\n",
      " |  nonzero(...)\n",
      " |      a.nonzero()\n",
      " |\n",
      " |      Return the indices of the elements that are non-zero.\n",
      " |\n",
      " |      Refer to `numpy.nonzero` for full documentation.\n",
      " |\n",
      " |      See Also\n",
      " |      --------\n",
      " |      numpy.nonzero : equivalent function\n",
      " |\n",
      " |  partition(...)\n",
      " |      a.partition(kth, axis=-1, kind='introselect', order=None)\n",
      " |\n",
      " |      Partially sorts the elements in the array in such a way that the value of\n",
      " |      the element in k-th position is in the position it would be in a sorted\n",
      " |      array. In the output array, all elements smaller than the k-th element\n",
      " |      are located to the left of this element and all equal or greater are\n",
      " |      located to its right. The ordering of the elements in the two partitions\n",
      " |      on the either side of the k-th element in the output array is undefined.\n",
      " |\n",
      " |      .. versionadded:: 1.8.0\n",
      " |\n",
      " |      Parameters\n",
      " |      ----------\n",
      " |      kth : int or sequence of ints\n",
      " |          Element index to partition by. The kth element value will be in its\n",
      " |          final sorted position and all smaller elements will be moved before it\n",
      " |          and all equal or greater elements behind it.\n",
      " |          The order of all elements in the partitions is undefined.\n",
      " |          If provided with a sequence of kth it will partition all elements\n",
      " |          indexed by kth of them into their sorted position at once.\n",
      " |\n",
      " |          .. deprecated:: 1.22.0\n",
      " |              Passing booleans as index is deprecated.\n",
      " |      axis : int, optional\n",
      " |          Axis along which to sort. Default is -1, which means sort along the\n",
      " |          last axis.\n",
      " |      kind : {'introselect'}, optional\n",
      " |          Selection algorithm. Default is 'introselect'.\n",
      " |      order : str or list of str, optional\n",
      " |          When `a` is an array with fields defined, this argument specifies\n",
      " |          which fields to compare first, second, etc. A single field can\n",
      " |          be specified as a string, and not all fields need to be specified,\n",
      " |          but unspecified fields will still be used, in the order in which\n",
      " |          they come up in the dtype, to break ties.\n",
      " |\n",
      " |      See Also\n",
      " |      --------\n",
      " |      numpy.partition : Return a partitioned copy of an array.\n",
      " |      argpartition : Indirect partition.\n",
      " |      sort : Full sort.\n",
      " |\n",
      " |      Notes\n",
      " |      -----\n",
      " |      See ``np.partition`` for notes on the different algorithms.\n",
      " |\n",
      " |      Examples\n",
      " |      --------\n",
      " |      >>> import numpy as np\n",
      " |      >>> a = np.array([3, 4, 2, 1])\n",
      " |      >>> a.partition(3)\n",
      " |      >>> a\n",
      " |      array([2, 1, 3, 4]) # may vary\n",
      " |\n",
      " |      >>> a.partition((1, 3))\n",
      " |      >>> a\n",
      " |      array([1, 2, 3, 4])\n",
      " |\n",
      " |  prod(...)\n",
      " |      a.prod(axis=None, dtype=None, out=None, keepdims=False,\n",
      " |          initial=1, where=True)\n",
      " |\n",
      " |      Return the product of the array elements over the given axis\n",
      " |\n",
      " |      Refer to `numpy.prod` for full documentation.\n",
      " |\n",
      " |      See Also\n",
      " |      --------\n",
      " |      numpy.prod : equivalent function\n",
      " |\n",
      " |  put(...)\n",
      " |      a.put(indices, values, mode='raise')\n",
      " |\n",
      " |      Set ``a.flat[n] = values[n]`` for all `n` in indices.\n",
      " |\n",
      " |      Refer to `numpy.put` for full documentation.\n",
      " |\n",
      " |      See Also\n",
      " |      --------\n",
      " |      numpy.put : equivalent function\n",
      " |\n",
      " |  ravel(...)\n",
      " |      a.ravel([order])\n",
      " |\n",
      " |      Return a flattened array.\n",
      " |\n",
      " |      Refer to `numpy.ravel` for full documentation.\n",
      " |\n",
      " |      See Also\n",
      " |      --------\n",
      " |      numpy.ravel : equivalent function\n",
      " |\n",
      " |      ndarray.flat : a flat iterator on the array.\n",
      " |\n",
      " |  repeat(...)\n",
      " |      a.repeat(repeats, axis=None)\n",
      " |\n",
      " |      Repeat elements of an array.\n",
      " |\n",
      " |      Refer to `numpy.repeat` for full documentation.\n",
      " |\n",
      " |      See Also\n",
      " |      --------\n",
      " |      numpy.repeat : equivalent function\n",
      " |\n",
      " |  reshape(...)\n",
      " |      a.reshape(shape, /, *, order='C', copy=None)\n",
      " |\n",
      " |      Returns an array containing the same data with a new shape.\n",
      " |\n",
      " |      Refer to `numpy.reshape` for full documentation.\n",
      " |\n",
      " |      See Also\n",
      " |      --------\n",
      " |      numpy.reshape : equivalent function\n",
      " |\n",
      " |      Notes\n",
      " |      -----\n",
      " |      Unlike the free function `numpy.reshape`, this method on `ndarray` allows\n",
      " |      the elements of the shape parameter to be passed in as separate arguments.\n",
      " |      For example, ``a.reshape(10, 11)`` is equivalent to\n",
      " |      ``a.reshape((10, 11))``.\n",
      " |\n",
      " |  resize(...)\n",
      " |      a.resize(new_shape, refcheck=True)\n",
      " |\n",
      " |      Change shape and size of array in-place.\n",
      " |\n",
      " |      Parameters\n",
      " |      ----------\n",
      " |      new_shape : tuple of ints, or `n` ints\n",
      " |          Shape of resized array.\n",
      " |      refcheck : bool, optional\n",
      " |          If False, reference count will not be checked. Default is True.\n",
      " |\n",
      " |      Returns\n",
      " |      -------\n",
      " |      None\n",
      " |\n",
      " |      Raises\n",
      " |      ------\n",
      " |      ValueError\n",
      " |          If `a` does not own its own data or references or views to it exist,\n",
      " |          and the data memory must be changed.\n",
      " |          PyPy only: will always raise if the data memory must be changed, since\n",
      " |          there is no reliable way to determine if references or views to it\n",
      " |          exist.\n",
      " |\n",
      " |      SystemError\n",
      " |          If the `order` keyword argument is specified. This behaviour is a\n",
      " |          bug in NumPy.\n",
      " |\n",
      " |      See Also\n",
      " |      --------\n",
      " |      resize : Return a new array with the specified shape.\n",
      " |\n",
      " |      Notes\n",
      " |      -----\n",
      " |      This reallocates space for the data area if necessary.\n",
      " |\n",
      " |      Only contiguous arrays (data elements consecutive in memory) can be\n",
      " |      resized.\n",
      " |\n",
      " |      The purpose of the reference count check is to make sure you\n",
      " |      do not use this array as a buffer for another Python object and then\n",
      " |      reallocate the memory. However, reference counts can increase in\n",
      " |      other ways so if you are sure that you have not shared the memory\n",
      " |      for this array with another Python object, then you may safely set\n",
      " |      `refcheck` to False.\n",
      " |\n",
      " |      Examples\n",
      " |      --------\n",
      " |      Shrinking an array: array is flattened (in the order that the data are\n",
      " |      stored in memory), resized, and reshaped:\n",
      " |\n",
      " |      >>> import numpy as np\n",
      " |\n",
      " |      >>> a = np.array([[0, 1], [2, 3]], order='C')\n",
      " |      >>> a.resize((2, 1))\n",
      " |      >>> a\n",
      " |      array([[0],\n",
      " |             [1]])\n",
      " |\n",
      " |      >>> a = np.array([[0, 1], [2, 3]], order='F')\n",
      " |      >>> a.resize((2, 1))\n",
      " |      >>> a\n",
      " |      array([[0],\n",
      " |             [2]])\n",
      " |\n",
      " |      Enlarging an array: as above, but missing entries are filled with zeros:\n",
      " |\n",
      " |      >>> b = np.array([[0, 1], [2, 3]])\n",
      " |      >>> b.resize(2, 3) # new_shape parameter doesn't have to be a tuple\n",
      " |      >>> b\n",
      " |      array([[0, 1, 2],\n",
      " |             [3, 0, 0]])\n",
      " |\n",
      " |      Referencing an array prevents resizing...\n",
      " |\n",
      " |      >>> c = a\n",
      " |      >>> a.resize((1, 1))\n",
      " |      Traceback (most recent call last):\n",
      " |      ...\n",
      " |      ValueError: cannot resize an array that references or is referenced ...\n",
      " |\n",
      " |      Unless `refcheck` is False:\n",
      " |\n",
      " |      >>> a.resize((1, 1), refcheck=False)\n",
      " |      >>> a\n",
      " |      array([[0]])\n",
      " |      >>> c\n",
      " |      array([[0]])\n",
      " |\n",
      " |  round(...)\n",
      " |      a.round(decimals=0, out=None)\n",
      " |\n",
      " |      Return `a` with each element rounded to the given number of decimals.\n",
      " |\n",
      " |      Refer to `numpy.around` for full documentation.\n",
      " |\n",
      " |      See Also\n",
      " |      --------\n",
      " |      numpy.around : equivalent function\n",
      " |\n",
      " |  searchsorted(...)\n",
      " |      a.searchsorted(v, side='left', sorter=None)\n",
      " |\n",
      " |      Find indices where elements of v should be inserted in a to maintain order.\n",
      " |\n",
      " |      For full documentation, see `numpy.searchsorted`\n",
      " |\n",
      " |      See Also\n",
      " |      --------\n",
      " |      numpy.searchsorted : equivalent function\n",
      " |\n",
      " |  setfield(...)\n",
      " |      a.setfield(val, dtype, offset=0)\n",
      " |\n",
      " |      Put a value into a specified place in a field defined by a data-type.\n",
      " |\n",
      " |      Place `val` into `a`'s field defined by `dtype` and beginning `offset`\n",
      " |      bytes into the field.\n",
      " |\n",
      " |      Parameters\n",
      " |      ----------\n",
      " |      val : object\n",
      " |          Value to be placed in field.\n",
      " |      dtype : dtype object\n",
      " |          Data-type of the field in which to place `val`.\n",
      " |      offset : int, optional\n",
      " |          The number of bytes into the field at which to place `val`.\n",
      " |\n",
      " |      Returns\n",
      " |      -------\n",
      " |      None\n",
      " |\n",
      " |      See Also\n",
      " |      --------\n",
      " |      getfield\n",
      " |\n",
      " |      Examples\n",
      " |      --------\n",
      " |      >>> import numpy as np\n",
      " |      >>> x = np.eye(3)\n",
      " |      >>> x.getfield(np.float64)\n",
      " |      array([[1.,  0.,  0.],\n",
      " |             [0.,  1.,  0.],\n",
      " |             [0.,  0.,  1.]])\n",
      " |      >>> x.setfield(3, np.int32)\n",
      " |      >>> x.getfield(np.int32)\n",
      " |      array([[3, 3, 3],\n",
      " |             [3, 3, 3],\n",
      " |             [3, 3, 3]], dtype=int32)\n",
      " |      >>> x\n",
      " |      array([[1.0e+000, 1.5e-323, 1.5e-323],\n",
      " |             [1.5e-323, 1.0e+000, 1.5e-323],\n",
      " |             [1.5e-323, 1.5e-323, 1.0e+000]])\n",
      " |      >>> x.setfield(np.eye(3), np.int32)\n",
      " |      >>> x\n",
      " |      array([[1.,  0.,  0.],\n",
      " |             [0.,  1.,  0.],\n",
      " |             [0.,  0.,  1.]])\n",
      " |\n",
      " |  setflags(...)\n",
      " |      a.setflags(write=None, align=None, uic=None)\n",
      " |\n",
      " |      Set array flags WRITEABLE, ALIGNED, WRITEBACKIFCOPY,\n",
      " |      respectively.\n",
      " |\n",
      " |      These Boolean-valued flags affect how numpy interprets the memory\n",
      " |      area used by `a` (see Notes below). The ALIGNED flag can only\n",
      " |      be set to True if the data is actually aligned according to the type.\n",
      " |      The WRITEBACKIFCOPY flag can never be set\n",
      " |      to True. The flag WRITEABLE can only be set to True if the array owns its\n",
      " |      own memory, or the ultimate owner of the memory exposes a writeable buffer\n",
      " |      interface, or is a string. (The exception for string is made so that\n",
      " |      unpickling can be done without copying memory.)\n",
      " |\n",
      " |      Parameters\n",
      " |      ----------\n",
      " |      write : bool, optional\n",
      " |          Describes whether or not `a` can be written to.\n",
      " |      align : bool, optional\n",
      " |          Describes whether or not `a` is aligned properly for its type.\n",
      " |      uic : bool, optional\n",
      " |          Describes whether or not `a` is a copy of another \"base\" array.\n",
      " |\n",
      " |      Notes\n",
      " |      -----\n",
      " |      Array flags provide information about how the memory area used\n",
      " |      for the array is to be interpreted. There are 7 Boolean flags\n",
      " |      in use, only three of which can be changed by the user:\n",
      " |      WRITEBACKIFCOPY, WRITEABLE, and ALIGNED.\n",
      " |\n",
      " |      WRITEABLE (W) the data area can be written to;\n",
      " |\n",
      " |      ALIGNED (A) the data and strides are aligned appropriately for the hardware\n",
      " |      (as determined by the compiler);\n",
      " |\n",
      " |      WRITEBACKIFCOPY (X) this array is a copy of some other array (referenced\n",
      " |      by .base). When the C-API function PyArray_ResolveWritebackIfCopy is\n",
      " |      called, the base array will be updated with the contents of this array.\n",
      " |\n",
      " |      All flags can be accessed using the single (upper case) letter as well\n",
      " |      as the full name.\n",
      " |\n",
      " |      Examples\n",
      " |      --------\n",
      " |      >>> import numpy as np\n",
      " |      >>> y = np.array([[3, 1, 7],\n",
      " |      ...               [2, 0, 0],\n",
      " |      ...               [8, 5, 9]])\n",
      " |      >>> y\n",
      " |      array([[3, 1, 7],\n",
      " |             [2, 0, 0],\n",
      " |             [8, 5, 9]])\n",
      " |      >>> y.flags\n",
      " |        C_CONTIGUOUS : True\n",
      " |        F_CONTIGUOUS : False\n",
      " |        OWNDATA : True\n",
      " |        WRITEABLE : True\n",
      " |        ALIGNED : True\n",
      " |        WRITEBACKIFCOPY : False\n",
      " |      >>> y.setflags(write=0, align=0)\n",
      " |      >>> y.flags\n",
      " |        C_CONTIGUOUS : True\n",
      " |        F_CONTIGUOUS : False\n",
      " |        OWNDATA : True\n",
      " |        WRITEABLE : False\n",
      " |        ALIGNED : False\n",
      " |        WRITEBACKIFCOPY : False\n",
      " |      >>> y.setflags(uic=1)\n",
      " |      Traceback (most recent call last):\n",
      " |        File \"<stdin>\", line 1, in <module>\n",
      " |      ValueError: cannot set WRITEBACKIFCOPY flag to True\n",
      " |\n",
      " |  sort(...)\n",
      " |      a.sort(axis=-1, kind=None, order=None)\n",
      " |\n",
      " |      Sort an array in-place. Refer to `numpy.sort` for full documentation.\n",
      " |\n",
      " |      Parameters\n",
      " |      ----------\n",
      " |      axis : int, optional\n",
      " |          Axis along which to sort. Default is -1, which means sort along the\n",
      " |          last axis.\n",
      " |      kind : {'quicksort', 'mergesort', 'heapsort', 'stable'}, optional\n",
      " |          Sorting algorithm. The default is 'quicksort'. Note that both 'stable'\n",
      " |          and 'mergesort' use timsort under the covers and, in general, the\n",
      " |          actual implementation will vary with datatype. The 'mergesort' option\n",
      " |          is retained for backwards compatibility.\n",
      " |\n",
      " |          .. versionchanged:: 1.15.0\n",
      " |             The 'stable' option was added.\n",
      " |\n",
      " |      order : str or list of str, optional\n",
      " |          When `a` is an array with fields defined, this argument specifies\n",
      " |          which fields to compare first, second, etc.  A single field can\n",
      " |          be specified as a string, and not all fields need be specified,\n",
      " |          but unspecified fields will still be used, in the order in which\n",
      " |          they come up in the dtype, to break ties.\n",
      " |\n",
      " |      See Also\n",
      " |      --------\n",
      " |      numpy.sort : Return a sorted copy of an array.\n",
      " |      numpy.argsort : Indirect sort.\n",
      " |      numpy.lexsort : Indirect stable sort on multiple keys.\n",
      " |      numpy.searchsorted : Find elements in sorted array.\n",
      " |      numpy.partition: Partial sort.\n",
      " |\n",
      " |      Notes\n",
      " |      -----\n",
      " |      See `numpy.sort` for notes on the different sorting algorithms.\n",
      " |\n",
      " |      Examples\n",
      " |      --------\n",
      " |      >>> import numpy as np\n",
      " |      >>> a = np.array([[1,4], [3,1]])\n",
      " |      >>> a.sort(axis=1)\n",
      " |      >>> a\n",
      " |      array([[1, 4],\n",
      " |             [1, 3]])\n",
      " |      >>> a.sort(axis=0)\n",
      " |      >>> a\n",
      " |      array([[1, 3],\n",
      " |             [1, 4]])\n",
      " |\n",
      " |      Use the `order` keyword to specify a field to use when sorting a\n",
      " |      structured array:\n",
      " |\n",
      " |      >>> a = np.array([('a', 2), ('c', 1)], dtype=[('x', 'S1'), ('y', int)])\n",
      " |      >>> a.sort(order='y')\n",
      " |      >>> a\n",
      " |      array([(b'c', 1), (b'a', 2)],\n",
      " |            dtype=[('x', 'S1'), ('y', '<i8')])\n",
      " |\n",
      " |  squeeze(...)\n",
      " |      a.squeeze(axis=None)\n",
      " |\n",
      " |      Remove axes of length one from `a`.\n",
      " |\n",
      " |      Refer to `numpy.squeeze` for full documentation.\n",
      " |\n",
      " |      See Also\n",
      " |      --------\n",
      " |      numpy.squeeze : equivalent function\n",
      " |\n",
      " |  std(...)\n",
      " |      a.std(axis=None, dtype=None, out=None, ddof=0, keepdims=False, *, where=True)\n",
      " |\n",
      " |      Returns the standard deviation of the array elements along given axis.\n",
      " |\n",
      " |      Refer to `numpy.std` for full documentation.\n",
      " |\n",
      " |      See Also\n",
      " |      --------\n",
      " |      numpy.std : equivalent function\n",
      " |\n",
      " |  sum(...)\n",
      " |      a.sum(axis=None, dtype=None, out=None, keepdims=False, initial=0, where=True)\n",
      " |\n",
      " |      Return the sum of the array elements over the given axis.\n",
      " |\n",
      " |      Refer to `numpy.sum` for full documentation.\n",
      " |\n",
      " |      See Also\n",
      " |      --------\n",
      " |      numpy.sum : equivalent function\n",
      " |\n",
      " |  swapaxes(...)\n",
      " |      a.swapaxes(axis1, axis2)\n",
      " |\n",
      " |      Return a view of the array with `axis1` and `axis2` interchanged.\n",
      " |\n",
      " |      Refer to `numpy.swapaxes` for full documentation.\n",
      " |\n",
      " |      See Also\n",
      " |      --------\n",
      " |      numpy.swapaxes : equivalent function\n",
      " |\n",
      " |  take(...)\n",
      " |      a.take(indices, axis=None, out=None, mode='raise')\n",
      " |\n",
      " |      Return an array formed from the elements of `a` at the given indices.\n",
      " |\n",
      " |      Refer to `numpy.take` for full documentation.\n",
      " |\n",
      " |      See Also\n",
      " |      --------\n",
      " |      numpy.take : equivalent function\n",
      " |\n",
      " |  to_device(...)\n",
      " |\n",
      " |  tobytes(...)\n",
      " |      a.tobytes(order='C')\n",
      " |\n",
      " |      Construct Python bytes containing the raw data bytes in the array.\n",
      " |\n",
      " |      Constructs Python bytes showing a copy of the raw contents of\n",
      " |      data memory. The bytes object is produced in C-order by default.\n",
      " |      This behavior is controlled by the ``order`` parameter.\n",
      " |\n",
      " |      .. versionadded:: 1.9.0\n",
      " |\n",
      " |      Parameters\n",
      " |      ----------\n",
      " |      order : {'C', 'F', 'A'}, optional\n",
      " |          Controls the memory layout of the bytes object. 'C' means C-order,\n",
      " |          'F' means F-order, 'A' (short for *Any*) means 'F' if `a` is\n",
      " |          Fortran contiguous, 'C' otherwise. Default is 'C'.\n",
      " |\n",
      " |      Returns\n",
      " |      -------\n",
      " |      s : bytes\n",
      " |          Python bytes exhibiting a copy of `a`'s raw data.\n",
      " |\n",
      " |      See also\n",
      " |      --------\n",
      " |      frombuffer\n",
      " |          Inverse of this operation, construct a 1-dimensional array from Python\n",
      " |          bytes.\n",
      " |\n",
      " |      Examples\n",
      " |      --------\n",
      " |      >>> import numpy as np\n",
      " |      >>> x = np.array([[0, 1], [2, 3]], dtype='<u2')\n",
      " |      >>> x.tobytes()\n",
      " |      b'\\x00\\x00\\x01\\x00\\x02\\x00\\x03\\x00'\n",
      " |      >>> x.tobytes('C') == x.tobytes()\n",
      " |      True\n",
      " |      >>> x.tobytes('F')\n",
      " |      b'\\x00\\x00\\x02\\x00\\x01\\x00\\x03\\x00'\n",
      " |\n",
      " |  tofile(...)\n",
      " |      a.tofile(fid, sep=\"\", format=\"%s\")\n",
      " |\n",
      " |      Write array to a file as text or binary (default).\n",
      " |\n",
      " |      Data is always written in 'C' order, independent of the order of `a`.\n",
      " |      The data produced by this method can be recovered using the function\n",
      " |      fromfile().\n",
      " |\n",
      " |      Parameters\n",
      " |      ----------\n",
      " |      fid : file or str or Path\n",
      " |          An open file object, or a string containing a filename.\n",
      " |\n",
      " |          .. versionchanged:: 1.17.0\n",
      " |              `pathlib.Path` objects are now accepted.\n",
      " |\n",
      " |      sep : str\n",
      " |          Separator between array items for text output.\n",
      " |          If \"\" (empty), a binary file is written, equivalent to\n",
      " |          ``file.write(a.tobytes())``.\n",
      " |      format : str\n",
      " |          Format string for text file output.\n",
      " |          Each entry in the array is formatted to text by first converting\n",
      " |          it to the closest Python type, and then using \"format\" % item.\n",
      " |\n",
      " |      Notes\n",
      " |      -----\n",
      " |      This is a convenience function for quick storage of array data.\n",
      " |      Information on endianness and precision is lost, so this method is not a\n",
      " |      good choice for files intended to archive data or transport data between\n",
      " |      machines with different endianness. Some of these problems can be overcome\n",
      " |      by outputting the data as text files, at the expense of speed and file\n",
      " |      size.\n",
      " |\n",
      " |      When fid is a file object, array contents are directly written to the\n",
      " |      file, bypassing the file object's ``write`` method. As a result, tofile\n",
      " |      cannot be used with files objects supporting compression (e.g., GzipFile)\n",
      " |      or file-like objects that do not support ``fileno()`` (e.g., BytesIO).\n",
      " |\n",
      " |  tolist(...)\n",
      " |      a.tolist()\n",
      " |\n",
      " |      Return the array as an ``a.ndim``-levels deep nested list of Python scalars.\n",
      " |\n",
      " |      Return a copy of the array data as a (nested) Python list.\n",
      " |      Data items are converted to the nearest compatible builtin Python type, via\n",
      " |      the `~numpy.ndarray.item` function.\n",
      " |\n",
      " |      If ``a.ndim`` is 0, then since the depth of the nested list is 0, it will\n",
      " |      not be a list at all, but a simple Python scalar.\n",
      " |\n",
      " |      Parameters\n",
      " |      ----------\n",
      " |      none\n",
      " |\n",
      " |      Returns\n",
      " |      -------\n",
      " |      y : object, or list of object, or list of list of object, or ...\n",
      " |          The possibly nested list of array elements.\n",
      " |\n",
      " |      Notes\n",
      " |      -----\n",
      " |      The array may be recreated via ``a = np.array(a.tolist())``, although this\n",
      " |      may sometimes lose precision.\n",
      " |\n",
      " |      Examples\n",
      " |      --------\n",
      " |      For a 1D array, ``a.tolist()`` is almost the same as ``list(a)``,\n",
      " |      except that ``tolist`` changes numpy scalars to Python scalars:\n",
      " |\n",
      " |      >>> import numpy as np\n",
      " |      >>> a = np.uint32([1, 2])\n",
      " |      >>> a_list = list(a)\n",
      " |      >>> a_list\n",
      " |      [1, 2]\n",
      " |      >>> type(a_list[0])\n",
      " |      <class 'numpy.uint32'>\n",
      " |      >>> a_tolist = a.tolist()\n",
      " |      >>> a_tolist\n",
      " |      [1, 2]\n",
      " |      >>> type(a_tolist[0])\n",
      " |      <class 'int'>\n",
      " |\n",
      " |      Additionally, for a 2D array, ``tolist`` applies recursively:\n",
      " |\n",
      " |      >>> a = np.array([[1, 2], [3, 4]])\n",
      " |      >>> list(a)\n",
      " |      [array([1, 2]), array([3, 4])]\n",
      " |      >>> a.tolist()\n",
      " |      [[1, 2], [3, 4]]\n",
      " |\n",
      " |      The base case for this recursion is a 0D array:\n",
      " |\n",
      " |      >>> a = np.array(1)\n",
      " |      >>> list(a)\n",
      " |      Traceback (most recent call last):\n",
      " |        ...\n",
      " |      TypeError: iteration over a 0-d array\n",
      " |      >>> a.tolist()\n",
      " |      1\n",
      " |\n",
      " |  tostring(...)\n",
      " |      a.tostring(order='C')\n",
      " |\n",
      " |      A compatibility alias for `~ndarray.tobytes`, with exactly the same\n",
      " |      behavior.\n",
      " |\n",
      " |      Despite its name, it returns :class:`bytes` not :class:`str`\\ s.\n",
      " |\n",
      " |      .. deprecated:: 1.19.0\n",
      " |\n",
      " |  trace(...)\n",
      " |      a.trace(offset=0, axis1=0, axis2=1, dtype=None, out=None)\n",
      " |\n",
      " |      Return the sum along diagonals of the array.\n",
      " |\n",
      " |      Refer to `numpy.trace` for full documentation.\n",
      " |\n",
      " |      See Also\n",
      " |      --------\n",
      " |      numpy.trace : equivalent function\n",
      " |\n",
      " |  transpose(...)\n",
      " |      a.transpose(*axes)\n",
      " |\n",
      " |      Returns a view of the array with axes transposed.\n",
      " |\n",
      " |      Refer to `numpy.transpose` for full documentation.\n",
      " |\n",
      " |      Parameters\n",
      " |      ----------\n",
      " |      axes : None, tuple of ints, or `n` ints\n",
      " |\n",
      " |       * None or no argument: reverses the order of the axes.\n",
      " |\n",
      " |       * tuple of ints: `i` in the `j`-th place in the tuple means that the\n",
      " |         array's `i`-th axis becomes the transposed array's `j`-th axis.\n",
      " |\n",
      " |       * `n` ints: same as an n-tuple of the same ints (this form is\n",
      " |         intended simply as a \"convenience\" alternative to the tuple form).\n",
      " |\n",
      " |      Returns\n",
      " |      -------\n",
      " |      p : ndarray\n",
      " |          View of the array with its axes suitably permuted.\n",
      " |\n",
      " |      See Also\n",
      " |      --------\n",
      " |      transpose : Equivalent function.\n",
      " |      ndarray.T : Array property returning the array transposed.\n",
      " |      ndarray.reshape : Give a new shape to an array without changing its data.\n",
      " |\n",
      " |      Examples\n",
      " |      --------\n",
      " |      >>> import numpy as np\n",
      " |      >>> a = np.array([[1, 2], [3, 4]])\n",
      " |      >>> a\n",
      " |      array([[1, 2],\n",
      " |             [3, 4]])\n",
      " |      >>> a.transpose()\n",
      " |      array([[1, 3],\n",
      " |             [2, 4]])\n",
      " |      >>> a.transpose((1, 0))\n",
      " |      array([[1, 3],\n",
      " |             [2, 4]])\n",
      " |      >>> a.transpose(1, 0)\n",
      " |      array([[1, 3],\n",
      " |             [2, 4]])\n",
      " |\n",
      " |      >>> a = np.array([1, 2, 3, 4])\n",
      " |      >>> a\n",
      " |      array([1, 2, 3, 4])\n",
      " |      >>> a.transpose()\n",
      " |      array([1, 2, 3, 4])\n",
      " |\n",
      " |  var(...)\n",
      " |      a.var(axis=None, dtype=None, out=None, ddof=0, keepdims=False, *, where=True)\n",
      " |\n",
      " |      Returns the variance of the array elements, along given axis.\n",
      " |\n",
      " |      Refer to `numpy.var` for full documentation.\n",
      " |\n",
      " |      See Also\n",
      " |      --------\n",
      " |      numpy.var : equivalent function\n",
      " |\n",
      " |  view(...)\n",
      " |      a.view([dtype][, type])\n",
      " |\n",
      " |      New view of array with the same data.\n",
      " |\n",
      " |      .. note::\n",
      " |          Passing None for ``dtype`` is different from omitting the parameter,\n",
      " |          since the former invokes ``dtype(None)`` which is an alias for\n",
      " |          ``dtype('float64')``.\n",
      " |\n",
      " |      Parameters\n",
      " |      ----------\n",
      " |      dtype : data-type or ndarray sub-class, optional\n",
      " |          Data-type descriptor of the returned view, e.g., float32 or int16.\n",
      " |          Omitting it results in the view having the same data-type as `a`.\n",
      " |          This argument can also be specified as an ndarray sub-class, which\n",
      " |          then specifies the type of the returned object (this is equivalent to\n",
      " |          setting the ``type`` parameter).\n",
      " |      type : Python type, optional\n",
      " |          Type of the returned view, e.g., ndarray or matrix.  Again, omission\n",
      " |          of the parameter results in type preservation.\n",
      " |\n",
      " |      Notes\n",
      " |      -----\n",
      " |      ``a.view()`` is used two different ways:\n",
      " |\n",
      " |      ``a.view(some_dtype)`` or ``a.view(dtype=some_dtype)`` constructs a view\n",
      " |      of the array's memory with a different data-type.  This can cause a\n",
      " |      reinterpretation of the bytes of memory.\n",
      " |\n",
      " |      ``a.view(ndarray_subclass)`` or ``a.view(type=ndarray_subclass)`` just\n",
      " |      returns an instance of `ndarray_subclass` that looks at the same array\n",
      " |      (same shape, dtype, etc.)  This does not cause a reinterpretation of the\n",
      " |      memory.\n",
      " |\n",
      " |      For ``a.view(some_dtype)``, if ``some_dtype`` has a different number of\n",
      " |      bytes per entry than the previous dtype (for example, converting a regular\n",
      " |      array to a structured array), then the last axis of ``a`` must be\n",
      " |      contiguous. This axis will be resized in the result.\n",
      " |\n",
      " |      .. versionchanged:: 1.23.0\n",
      " |         Only the last axis needs to be contiguous. Previously, the entire array\n",
      " |         had to be C-contiguous.\n",
      " |\n",
      " |      Examples\n",
      " |      --------\n",
      " |      >>> import numpy as np\n",
      " |      >>> x = np.array([(-1, 2)], dtype=[('a', np.int8), ('b', np.int8)])\n",
      " |\n",
      " |      Viewing array data using a different type and dtype:\n",
      " |\n",
      " |      >>> nonneg = np.dtype([(\"a\", np.uint8), (\"b\", np.uint8)])\n",
      " |      >>> y = x.view(dtype=nonneg, type=np.recarray)\n",
      " |      >>> x[\"a\"]\n",
      " |      array([-1], dtype=int8)\n",
      " |      >>> y.a\n",
      " |      array([255], dtype=uint8)\n",
      " |\n",
      " |      Creating a view on a structured array so it can be used in calculations\n",
      " |\n",
      " |      >>> x = np.array([(1, 2),(3,4)], dtype=[('a', np.int8), ('b', np.int8)])\n",
      " |      >>> xv = x.view(dtype=np.int8).reshape(-1,2)\n",
      " |      >>> xv\n",
      " |      array([[1, 2],\n",
      " |             [3, 4]], dtype=int8)\n",
      " |      >>> xv.mean(0)\n",
      " |      array([2.,  3.])\n",
      " |\n",
      " |      Making changes to the view changes the underlying array\n",
      " |\n",
      " |      >>> xv[0,1] = 20\n",
      " |      >>> x\n",
      " |      array([(1, 20), (3,  4)], dtype=[('a', 'i1'), ('b', 'i1')])\n",
      " |\n",
      " |      Using a view to convert an array to a recarray:\n",
      " |\n",
      " |      >>> z = x.view(np.recarray)\n",
      " |      >>> z.a\n",
      " |      array([1, 3], dtype=int8)\n",
      " |\n",
      " |      Views share data:\n",
      " |\n",
      " |      >>> x[0] = (9, 10)\n",
      " |      >>> z[0]\n",
      " |      np.record((9, 10), dtype=[('a', 'i1'), ('b', 'i1')])\n",
      " |\n",
      " |      Views that change the dtype size (bytes per entry) should normally be\n",
      " |      avoided on arrays defined by slices, transposes, fortran-ordering, etc.:\n",
      " |\n",
      " |      >>> x = np.array([[1, 2, 3], [4, 5, 6]], dtype=np.int16)\n",
      " |      >>> y = x[:, ::2]\n",
      " |      >>> y\n",
      " |      array([[1, 3],\n",
      " |             [4, 6]], dtype=int16)\n",
      " |      >>> y.view(dtype=[('width', np.int16), ('length', np.int16)])\n",
      " |      Traceback (most recent call last):\n",
      " |          ...\n",
      " |      ValueError: To change to a dtype of a different size, the last axis must be contiguous\n",
      " |      >>> z = y.copy()\n",
      " |      >>> z.view(dtype=[('width', np.int16), ('length', np.int16)])\n",
      " |      array([[(1, 3)],\n",
      " |             [(4, 6)]], dtype=[('width', '<i2'), ('length', '<i2')])\n",
      " |\n",
      " |      However, views that change dtype are totally fine for arrays with a\n",
      " |      contiguous last axis, even if the rest of the axes are not C-contiguous:\n",
      " |\n",
      " |      >>> x = np.arange(2 * 3 * 4, dtype=np.int8).reshape(2, 3, 4)\n",
      " |      >>> x.transpose(1, 0, 2).view(np.int16)\n",
      " |      array([[[ 256,  770],\n",
      " |              [3340, 3854]],\n",
      " |      <BLANKLINE>\n",
      " |             [[1284, 1798],\n",
      " |              [4368, 4882]],\n",
      " |      <BLANKLINE>\n",
      " |             [[2312, 2826],\n",
      " |              [5396, 5910]]], dtype=int16)\n",
      " |\n",
      " |  ----------------------------------------------------------------------\n",
      " |  Class methods defined here:\n",
      " |\n",
      " |  __class_getitem__(...)\n",
      " |      a.__class_getitem__(item, /)\n",
      " |\n",
      " |      Return a parametrized wrapper around the `~numpy.ndarray` type.\n",
      " |\n",
      " |      .. versionadded:: 1.22\n",
      " |\n",
      " |      Returns\n",
      " |      -------\n",
      " |      alias : types.GenericAlias\n",
      " |          A parametrized `~numpy.ndarray` type.\n",
      " |\n",
      " |      Examples\n",
      " |      --------\n",
      " |      >>> from typing import Any\n",
      " |      >>> import numpy as np\n",
      " |\n",
      " |      >>> np.ndarray[Any, np.dtype[Any]]\n",
      " |      numpy.ndarray[typing.Any, numpy.dtype[typing.Any]]\n",
      " |\n",
      " |      See Also\n",
      " |      --------\n",
      " |      :pep:`585` : Type hinting generics in standard collections.\n",
      " |      numpy.typing.NDArray : An ndarray alias :term:`generic <generic type>`\n",
      " |                          w.r.t. its `dtype.type <numpy.dtype.type>`.\n",
      " |\n",
      " |  ----------------------------------------------------------------------\n",
      " |  Static methods defined here:\n",
      " |\n",
      " |  __new__(*args, **kwargs)\n",
      " |      Create and return a new object.  See help(type) for accurate signature.\n",
      " |\n",
      " |  ----------------------------------------------------------------------\n",
      " |  Data descriptors defined here:\n",
      " |\n",
      " |  T\n",
      " |      View of the transposed array.\n",
      " |\n",
      " |      Same as ``self.transpose()``.\n",
      " |\n",
      " |      Examples\n",
      " |      --------\n",
      " |      >>> import numpy as np\n",
      " |      >>> a = np.array([[1, 2], [3, 4]])\n",
      " |      >>> a\n",
      " |      array([[1, 2],\n",
      " |             [3, 4]])\n",
      " |      >>> a.T\n",
      " |      array([[1, 3],\n",
      " |             [2, 4]])\n",
      " |\n",
      " |      >>> a = np.array([1, 2, 3, 4])\n",
      " |      >>> a\n",
      " |      array([1, 2, 3, 4])\n",
      " |      >>> a.T\n",
      " |      array([1, 2, 3, 4])\n",
      " |\n",
      " |      See Also\n",
      " |      --------\n",
      " |      transpose\n",
      " |\n",
      " |  __array_interface__\n",
      " |      Array protocol: Python side.\n",
      " |\n",
      " |  __array_priority__\n",
      " |      Array priority.\n",
      " |\n",
      " |  __array_struct__\n",
      " |      Array protocol: C-struct side.\n",
      " |\n",
      " |  base\n",
      " |      Base object if memory is from some other object.\n",
      " |\n",
      " |      Examples\n",
      " |      --------\n",
      " |      The base of an array that owns its memory is None:\n",
      " |\n",
      " |      >>> import numpy as np\n",
      " |      >>> x = np.array([1,2,3,4])\n",
      " |      >>> x.base is None\n",
      " |      True\n",
      " |\n",
      " |      Slicing creates a view, whose memory is shared with x:\n",
      " |\n",
      " |      >>> y = x[2:]\n",
      " |      >>> y.base is x\n",
      " |      True\n",
      " |\n",
      " |  ctypes\n",
      " |      An object to simplify the interaction of the array with the ctypes\n",
      " |      module.\n",
      " |\n",
      " |      This attribute creates an object that makes it easier to use arrays\n",
      " |      when calling shared libraries with the ctypes module. The returned\n",
      " |      object has, among others, data, shape, and strides attributes (see\n",
      " |      Notes below) which themselves return ctypes objects that can be used\n",
      " |      as arguments to a shared library.\n",
      " |\n",
      " |      Parameters\n",
      " |      ----------\n",
      " |      None\n",
      " |\n",
      " |      Returns\n",
      " |      -------\n",
      " |      c : Python object\n",
      " |          Possessing attributes data, shape, strides, etc.\n",
      " |\n",
      " |      See Also\n",
      " |      --------\n",
      " |      numpy.ctypeslib\n",
      " |\n",
      " |      Notes\n",
      " |      -----\n",
      " |      Below are the public attributes of this object which were documented\n",
      " |      in \"Guide to NumPy\" (we have omitted undocumented public attributes,\n",
      " |      as well as documented private attributes):\n",
      " |\n",
      " |      .. autoattribute:: numpy._core._internal._ctypes.data\n",
      " |          :noindex:\n",
      " |\n",
      " |      .. autoattribute:: numpy._core._internal._ctypes.shape\n",
      " |          :noindex:\n",
      " |\n",
      " |      .. autoattribute:: numpy._core._internal._ctypes.strides\n",
      " |          :noindex:\n",
      " |\n",
      " |      .. automethod:: numpy._core._internal._ctypes.data_as\n",
      " |          :noindex:\n",
      " |\n",
      " |      .. automethod:: numpy._core._internal._ctypes.shape_as\n",
      " |          :noindex:\n",
      " |\n",
      " |      .. automethod:: numpy._core._internal._ctypes.strides_as\n",
      " |          :noindex:\n",
      " |\n",
      " |      If the ctypes module is not available, then the ctypes attribute\n",
      " |      of array objects still returns something useful, but ctypes objects\n",
      " |      are not returned and errors may be raised instead. In particular,\n",
      " |      the object will still have the ``as_parameter`` attribute which will\n",
      " |      return an integer equal to the data attribute.\n",
      " |\n",
      " |      Examples\n",
      " |      --------\n",
      " |      >>> import numpy as np\n",
      " |      >>> import ctypes\n",
      " |      >>> x = np.array([[0, 1], [2, 3]], dtype=np.int32)\n",
      " |      >>> x\n",
      " |      array([[0, 1],\n",
      " |             [2, 3]], dtype=int32)\n",
      " |      >>> x.ctypes.data\n",
      " |      31962608 # may vary\n",
      " |      >>> x.ctypes.data_as(ctypes.POINTER(ctypes.c_uint32))\n",
      " |      <__main__.LP_c_uint object at 0x7ff2fc1fc200> # may vary\n",
      " |      >>> x.ctypes.data_as(ctypes.POINTER(ctypes.c_uint32)).contents\n",
      " |      c_uint(0)\n",
      " |      >>> x.ctypes.data_as(ctypes.POINTER(ctypes.c_uint64)).contents\n",
      " |      c_ulong(4294967296)\n",
      " |      >>> x.ctypes.shape\n",
      " |      <numpy._core._internal.c_long_Array_2 object at 0x7ff2fc1fce60> # may vary\n",
      " |      >>> x.ctypes.strides\n",
      " |      <numpy._core._internal.c_long_Array_2 object at 0x7ff2fc1ff320> # may vary\n",
      " |\n",
      " |  data\n",
      " |      Python buffer object pointing to the start of the array's data.\n",
      " |\n",
      " |  device\n",
      " |\n",
      " |  dtype\n",
      " |      Data-type of the array's elements.\n",
      " |\n",
      " |      .. warning::\n",
      " |\n",
      " |          Setting ``arr.dtype`` is discouraged and may be deprecated in the\n",
      " |          future.  Setting will replace the ``dtype`` without modifying the\n",
      " |          memory (see also `ndarray.view` and `ndarray.astype`).\n",
      " |\n",
      " |      Parameters\n",
      " |      ----------\n",
      " |      None\n",
      " |\n",
      " |      Returns\n",
      " |      -------\n",
      " |      d : numpy dtype object\n",
      " |\n",
      " |      See Also\n",
      " |      --------\n",
      " |      ndarray.astype : Cast the values contained in the array to a new data-type.\n",
      " |      ndarray.view : Create a view of the same data but a different data-type.\n",
      " |      numpy.dtype\n",
      " |\n",
      " |      Examples\n",
      " |      --------\n",
      " |      >>> x\n",
      " |      array([[0, 1],\n",
      " |             [2, 3]])\n",
      " |      >>> x.dtype\n",
      " |      dtype('int32')\n",
      " |      >>> type(x.dtype)\n",
      " |      <type 'numpy.dtype'>\n",
      " |\n",
      " |  flags\n",
      " |      Information about the memory layout of the array.\n",
      " |\n",
      " |      Attributes\n",
      " |      ----------\n",
      " |      C_CONTIGUOUS (C)\n",
      " |          The data is in a single, C-style contiguous segment.\n",
      " |      F_CONTIGUOUS (F)\n",
      " |          The data is in a single, Fortran-style contiguous segment.\n",
      " |      OWNDATA (O)\n",
      " |          The array owns the memory it uses or borrows it from another object.\n",
      " |      WRITEABLE (W)\n",
      " |          The data area can be written to.  Setting this to False locks\n",
      " |          the data, making it read-only.  A view (slice, etc.) inherits WRITEABLE\n",
      " |          from its base array at creation time, but a view of a writeable\n",
      " |          array may be subsequently locked while the base array remains writeable.\n",
      " |          (The opposite is not true, in that a view of a locked array may not\n",
      " |          be made writeable.  However, currently, locking a base object does not\n",
      " |          lock any views that already reference it, so under that circumstance it\n",
      " |          is possible to alter the contents of a locked array via a previously\n",
      " |          created writeable view onto it.)  Attempting to change a non-writeable\n",
      " |          array raises a RuntimeError exception.\n",
      " |      ALIGNED (A)\n",
      " |          The data and all elements are aligned appropriately for the hardware.\n",
      " |      WRITEBACKIFCOPY (X)\n",
      " |          This array is a copy of some other array. The C-API function\n",
      " |          PyArray_ResolveWritebackIfCopy must be called before deallocating\n",
      " |          to the base array will be updated with the contents of this array.\n",
      " |      FNC\n",
      " |          F_CONTIGUOUS and not C_CONTIGUOUS.\n",
      " |      FORC\n",
      " |          F_CONTIGUOUS or C_CONTIGUOUS (one-segment test).\n",
      " |      BEHAVED (B)\n",
      " |          ALIGNED and WRITEABLE.\n",
      " |      CARRAY (CA)\n",
      " |          BEHAVED and C_CONTIGUOUS.\n",
      " |      FARRAY (FA)\n",
      " |          BEHAVED and F_CONTIGUOUS and not C_CONTIGUOUS.\n",
      " |\n",
      " |      Notes\n",
      " |      -----\n",
      " |      The `flags` object can be accessed dictionary-like (as in ``a.flags['WRITEABLE']``),\n",
      " |      or by using lowercased attribute names (as in ``a.flags.writeable``). Short flag\n",
      " |      names are only supported in dictionary access.\n",
      " |\n",
      " |      Only the WRITEBACKIFCOPY, WRITEABLE, and ALIGNED flags can be\n",
      " |      changed by the user, via direct assignment to the attribute or dictionary\n",
      " |      entry, or by calling `ndarray.setflags`.\n",
      " |\n",
      " |      The array flags cannot be set arbitrarily:\n",
      " |\n",
      " |      - WRITEBACKIFCOPY can only be set ``False``.\n",
      " |      - ALIGNED can only be set ``True`` if the data is truly aligned.\n",
      " |      - WRITEABLE can only be set ``True`` if the array owns its own memory\n",
      " |        or the ultimate owner of the memory exposes a writeable buffer\n",
      " |        interface or is a string.\n",
      " |\n",
      " |      Arrays can be both C-style and Fortran-style contiguous simultaneously.\n",
      " |      This is clear for 1-dimensional arrays, but can also be true for higher\n",
      " |      dimensional arrays.\n",
      " |\n",
      " |      Even for contiguous arrays a stride for a given dimension\n",
      " |      ``arr.strides[dim]`` may be *arbitrary* if ``arr.shape[dim] == 1``\n",
      " |      or the array has no elements.\n",
      " |      It does *not* generally hold that ``self.strides[-1] == self.itemsize``\n",
      " |      for C-style contiguous arrays or ``self.strides[0] == self.itemsize`` for\n",
      " |      Fortran-style contiguous arrays is true.\n",
      " |\n",
      " |  flat\n",
      " |      A 1-D iterator over the array.\n",
      " |\n",
      " |      This is a `numpy.flatiter` instance, which acts similarly to, but is not\n",
      " |      a subclass of, Python's built-in iterator object.\n",
      " |\n",
      " |      See Also\n",
      " |      --------\n",
      " |      flatten : Return a copy of the array collapsed into one dimension.\n",
      " |\n",
      " |      flatiter\n",
      " |\n",
      " |      Examples\n",
      " |      --------\n",
      " |      >>> import numpy as np\n",
      " |      >>> x = np.arange(1, 7).reshape(2, 3)\n",
      " |      >>> x\n",
      " |      array([[1, 2, 3],\n",
      " |             [4, 5, 6]])\n",
      " |      >>> x.flat[3]\n",
      " |      4\n",
      " |      >>> x.T\n",
      " |      array([[1, 4],\n",
      " |             [2, 5],\n",
      " |             [3, 6]])\n",
      " |      >>> x.T.flat[3]\n",
      " |      5\n",
      " |      >>> type(x.flat)\n",
      " |      <class 'numpy.flatiter'>\n",
      " |\n",
      " |      An assignment example:\n",
      " |\n",
      " |      >>> x.flat = 3; x\n",
      " |      array([[3, 3, 3],\n",
      " |             [3, 3, 3]])\n",
      " |      >>> x.flat[[1,4]] = 1; x\n",
      " |      array([[3, 1, 3],\n",
      " |             [3, 1, 3]])\n",
      " |\n",
      " |  imag\n",
      " |      The imaginary part of the array.\n",
      " |\n",
      " |      Examples\n",
      " |      --------\n",
      " |      >>> import numpy as np\n",
      " |      >>> x = np.sqrt([1+0j, 0+1j])\n",
      " |      >>> x.imag\n",
      " |      array([ 0.        ,  0.70710678])\n",
      " |      >>> x.imag.dtype\n",
      " |      dtype('float64')\n",
      " |\n",
      " |  itemset\n",
      " |\n",
      " |  itemsize\n",
      " |      Length of one array element in bytes.\n",
      " |\n",
      " |      Examples\n",
      " |      --------\n",
      " |      >>> import numpy as np\n",
      " |      >>> x = np.array([1,2,3], dtype=np.float64)\n",
      " |      >>> x.itemsize\n",
      " |      8\n",
      " |      >>> x = np.array([1,2,3], dtype=np.complex128)\n",
      " |      >>> x.itemsize\n",
      " |      16\n",
      " |\n",
      " |  mT\n",
      " |      View of the matrix transposed array.\n",
      " |\n",
      " |      The matrix transpose is the transpose of the last two dimensions, even\n",
      " |      if the array is of higher dimension.\n",
      " |\n",
      " |      .. versionadded:: 2.0\n",
      " |\n",
      " |      Raises\n",
      " |      ------\n",
      " |      ValueError\n",
      " |          If the array is of dimension less than 2.\n",
      " |\n",
      " |      Examples\n",
      " |      --------\n",
      " |      >>> import numpy as np\n",
      " |      >>> a = np.array([[1, 2], [3, 4]])\n",
      " |      >>> a\n",
      " |      array([[1, 2],\n",
      " |             [3, 4]])\n",
      " |      >>> a.mT\n",
      " |      array([[1, 3],\n",
      " |             [2, 4]])\n",
      " |\n",
      " |      >>> a = np.arange(8).reshape((2, 2, 2))\n",
      " |      >>> a\n",
      " |      array([[[0, 1],\n",
      " |              [2, 3]],\n",
      " |      <BLANKLINE>\n",
      " |             [[4, 5],\n",
      " |              [6, 7]]])\n",
      " |      >>> a.mT\n",
      " |      array([[[0, 2],\n",
      " |              [1, 3]],\n",
      " |      <BLANKLINE>\n",
      " |             [[4, 6],\n",
      " |              [5, 7]]])\n",
      " |\n",
      " |  nbytes\n",
      " |      Total bytes consumed by the elements of the array.\n",
      " |\n",
      " |      Notes\n",
      " |      -----\n",
      " |      Does not include memory consumed by non-element attributes of the\n",
      " |      array object.\n",
      " |\n",
      " |      See Also\n",
      " |      --------\n",
      " |      sys.getsizeof\n",
      " |          Memory consumed by the object itself without parents in case view.\n",
      " |          This does include memory consumed by non-element attributes.\n",
      " |\n",
      " |      Examples\n",
      " |      --------\n",
      " |      >>> import numpy as np\n",
      " |      >>> x = np.zeros((3,5,2), dtype=np.complex128)\n",
      " |      >>> x.nbytes\n",
      " |      480\n",
      " |      >>> np.prod(x.shape) * x.itemsize\n",
      " |      480\n",
      " |\n",
      " |  ndim\n",
      " |      Number of array dimensions.\n",
      " |\n",
      " |      Examples\n",
      " |      --------\n",
      " |      >>> import numpy as np\n",
      " |      >>> x = np.array([1, 2, 3])\n",
      " |      >>> x.ndim\n",
      " |      1\n",
      " |      >>> y = np.zeros((2, 3, 4))\n",
      " |      >>> y.ndim\n",
      " |      3\n",
      " |\n",
      " |  newbyteorder\n",
      " |\n",
      " |  ptp\n",
      " |\n",
      " |  real\n",
      " |      The real part of the array.\n",
      " |\n",
      " |      Examples\n",
      " |      --------\n",
      " |      >>> import numpy as np\n",
      " |      >>> x = np.sqrt([1+0j, 0+1j])\n",
      " |      >>> x.real\n",
      " |      array([ 1.        ,  0.70710678])\n",
      " |      >>> x.real.dtype\n",
      " |      dtype('float64')\n",
      " |\n",
      " |      See Also\n",
      " |      --------\n",
      " |      numpy.real : equivalent function\n",
      " |\n",
      " |  shape\n",
      " |      Tuple of array dimensions.\n",
      " |\n",
      " |      The shape property is usually used to get the current shape of an array,\n",
      " |      but may also be used to reshape the array in-place by assigning a tuple of\n",
      " |      array dimensions to it.  As with `numpy.reshape`, one of the new shape\n",
      " |      dimensions can be -1, in which case its value is inferred from the size of\n",
      " |      the array and the remaining dimensions. Reshaping an array in-place will\n",
      " |      fail if a copy is required.\n",
      " |\n",
      " |      .. warning::\n",
      " |\n",
      " |          Setting ``arr.shape`` is discouraged and may be deprecated in the\n",
      " |          future.  Using `ndarray.reshape` is the preferred approach.\n",
      " |\n",
      " |      Examples\n",
      " |      --------\n",
      " |      >>> import numpy as np\n",
      " |      >>> x = np.array([1, 2, 3, 4])\n",
      " |      >>> x.shape\n",
      " |      (4,)\n",
      " |      >>> y = np.zeros((2, 3, 4))\n",
      " |      >>> y.shape\n",
      " |      (2, 3, 4)\n",
      " |      >>> y.shape = (3, 8)\n",
      " |      >>> y\n",
      " |      array([[ 0.,  0.,  0.,  0.,  0.,  0.,  0.,  0.],\n",
      " |             [ 0.,  0.,  0.,  0.,  0.,  0.,  0.,  0.],\n",
      " |             [ 0.,  0.,  0.,  0.,  0.,  0.,  0.,  0.]])\n",
      " |      >>> y.shape = (3, 6)\n",
      " |      Traceback (most recent call last):\n",
      " |        File \"<stdin>\", line 1, in <module>\n",
      " |      ValueError: total size of new array must be unchanged\n",
      " |      >>> np.zeros((4,2))[::2].shape = (-1,)\n",
      " |      Traceback (most recent call last):\n",
      " |        File \"<stdin>\", line 1, in <module>\n",
      " |      AttributeError: Incompatible shape for in-place modification. Use\n",
      " |      `.reshape()` to make a copy with the desired shape.\n",
      " |\n",
      " |      See Also\n",
      " |      --------\n",
      " |      numpy.shape : Equivalent getter function.\n",
      " |      numpy.reshape : Function similar to setting ``shape``.\n",
      " |      ndarray.reshape : Method similar to setting ``shape``.\n",
      " |\n",
      " |  size\n",
      " |      Number of elements in the array.\n",
      " |\n",
      " |      Equal to ``np.prod(a.shape)``, i.e., the product of the array's\n",
      " |      dimensions.\n",
      " |\n",
      " |      Notes\n",
      " |      -----\n",
      " |      `a.size` returns a standard arbitrary precision Python integer. This\n",
      " |      may not be the case with other methods of obtaining the same value\n",
      " |      (like the suggested ``np.prod(a.shape)``, which returns an instance\n",
      " |      of ``np.int_``), and may be relevant if the value is used further in\n",
      " |      calculations that may overflow a fixed size integer type.\n",
      " |\n",
      " |      Examples\n",
      " |      --------\n",
      " |      >>> import numpy as np\n",
      " |      >>> x = np.zeros((3, 5, 2), dtype=np.complex128)\n",
      " |      >>> x.size\n",
      " |      30\n",
      " |      >>> np.prod(x.shape)\n",
      " |      30\n",
      " |\n",
      " |  strides\n",
      " |      Tuple of bytes to step in each dimension when traversing an array.\n",
      " |\n",
      " |      The byte offset of element ``(i[0], i[1], ..., i[n])`` in an array `a`\n",
      " |      is::\n",
      " |\n",
      " |          offset = sum(np.array(i) * a.strides)\n",
      " |\n",
      " |      A more detailed explanation of strides can be found in\n",
      " |      :ref:`arrays.ndarray`.\n",
      " |\n",
      " |      .. warning::\n",
      " |\n",
      " |          Setting ``arr.strides`` is discouraged and may be deprecated in the\n",
      " |          future.  `numpy.lib.stride_tricks.as_strided` should be preferred\n",
      " |          to create a new view of the same data in a safer way.\n",
      " |\n",
      " |      Notes\n",
      " |      -----\n",
      " |      Imagine an array of 32-bit integers (each 4 bytes)::\n",
      " |\n",
      " |        x = np.array([[0, 1, 2, 3, 4],\n",
      " |                      [5, 6, 7, 8, 9]], dtype=np.int32)\n",
      " |\n",
      " |      This array is stored in memory as 40 bytes, one after the other\n",
      " |      (known as a contiguous block of memory).  The strides of an array tell\n",
      " |      us how many bytes we have to skip in memory to move to the next position\n",
      " |      along a certain axis.  For example, we have to skip 4 bytes (1 value) to\n",
      " |      move to the next column, but 20 bytes (5 values) to get to the same\n",
      " |      position in the next row.  As such, the strides for the array `x` will be\n",
      " |      ``(20, 4)``.\n",
      " |\n",
      " |      See Also\n",
      " |      --------\n",
      " |      numpy.lib.stride_tricks.as_strided\n",
      " |\n",
      " |      Examples\n",
      " |      --------\n",
      " |      >>> import numpy as np\n",
      " |      >>> y = np.reshape(np.arange(2*3*4), (2,3,4))\n",
      " |      >>> y\n",
      " |      array([[[ 0,  1,  2,  3],\n",
      " |              [ 4,  5,  6,  7],\n",
      " |              [ 8,  9, 10, 11]],\n",
      " |             [[12, 13, 14, 15],\n",
      " |              [16, 17, 18, 19],\n",
      " |              [20, 21, 22, 23]]])\n",
      " |      >>> y.strides\n",
      " |      (48, 16, 4)\n",
      " |      >>> y[1,1,1]\n",
      " |      17\n",
      " |      >>> offset=sum(y.strides * np.array((1,1,1)))\n",
      " |      >>> offset/y.itemsize\n",
      " |      17\n",
      " |\n",
      " |      >>> x = np.reshape(np.arange(5*6*7*8), (5,6,7,8)).transpose(2,3,1,0)\n",
      " |      >>> x.strides\n",
      " |      (32, 4, 224, 1344)\n",
      " |      >>> i = np.array([3,5,2,2])\n",
      " |      >>> offset = sum(i * x.strides)\n",
      " |      >>> x[3,5,2,2]\n",
      " |      813\n",
      " |      >>> offset / x.itemsize\n",
      " |      813\n",
      " |\n",
      " |  ----------------------------------------------------------------------\n",
      " |  Data and other attributes defined here:\n",
      " |\n",
      " |  __hash__ = None\n",
      "\n"
     ]
    }
   ],
   "source": [
    "help(np.ndarray)"
   ]
  },
  {
   "cell_type": "code",
   "execution_count": 7,
   "metadata": {},
   "outputs": [
    {
     "data": {
      "text/plain": [
       "array([[ 4.63939877e-308, -5.64938534e+036, -1.78409531e+046],\n",
       "       [-4.32950182e-035, -8.72433218e-026, -1.57234264e-063]])"
      ]
     },
     "execution_count": 7,
     "metadata": {},
     "output_type": "execute_result"
    }
   ],
   "source": [
    "import numpy as np\n",
    "a = np.ndarray((2,3))\n",
    "a"
   ]
  },
  {
   "cell_type": "code",
   "execution_count": 8,
   "metadata": {},
   "outputs": [
    {
     "data": {
      "text/plain": [
       "array([[   9198723453795908, 5156903189229060492],\n",
       "       [5298766577360225733, 4092864156735161052],\n",
       "       [4231976415668524376, 3667252571916326280]])"
      ]
     },
     "execution_count": 8,
     "metadata": {},
     "output_type": "execute_result"
    }
   ],
   "source": [
    "import numpy as np\n",
    "a = np.ndarray((3,2), dtype= int)\n",
    "a"
   ]
  },
  {
   "cell_type": "code",
   "execution_count": 9,
   "metadata": {},
   "outputs": [
    {
     "data": {
      "text/plain": [
       "array([[ 4.63939877e-308, -5.64938534e+036, -1.78409531e+046],\n",
       "       [-4.32950182e-035, -8.72433218e-026, -1.57234264e-063]])"
      ]
     },
     "execution_count": 9,
     "metadata": {},
     "output_type": "execute_result"
    }
   ],
   "source": [
    "import numpy as np\n",
    "a = np.ndarray((2,3))\n",
    "a"
   ]
  },
  {
   "cell_type": "code",
   "execution_count": 10,
   "metadata": {},
   "outputs": [
    {
     "name": "stdout",
     "output_type": "stream",
     "text": [
      "\u001b[1;31mInit signature:\u001b[0m \u001b[0mnp\u001b[0m\u001b[1;33m.\u001b[0m\u001b[0mndarray\u001b[0m\u001b[1;33m(\u001b[0m\u001b[0mself\u001b[0m\u001b[1;33m,\u001b[0m \u001b[1;33m/\u001b[0m\u001b[1;33m,\u001b[0m \u001b[1;33m*\u001b[0m\u001b[0margs\u001b[0m\u001b[1;33m,\u001b[0m \u001b[1;33m**\u001b[0m\u001b[0mkwargs\u001b[0m\u001b[1;33m)\u001b[0m\u001b[1;33m\u001b[0m\u001b[1;33m\u001b[0m\u001b[0m\n",
      "\u001b[1;31mDocstring:\u001b[0m     \n",
      "ndarray(shape, dtype=float, buffer=None, offset=0,\n",
      "        strides=None, order=None)\n",
      "\n",
      "An array object represents a multidimensional, homogeneous array\n",
      "of fixed-size items.  An associated data-type object describes the\n",
      "format of each element in the array (its byte-order, how many bytes it\n",
      "occupies in memory, whether it is an integer, a floating point number,\n",
      "or something else, etc.)\n",
      "\n",
      "Arrays should be constructed using `array`, `zeros` or `empty` (refer\n",
      "to the See Also section below).  The parameters given here refer to\n",
      "a low-level method (`ndarray(...)`) for instantiating an array.\n",
      "\n",
      "For more information, refer to the `numpy` module and examine the\n",
      "methods and attributes of an array.\n",
      "\n",
      "Parameters\n",
      "----------\n",
      "(for the __new__ method; see Notes below)\n",
      "\n",
      "shape : tuple of ints\n",
      "    Shape of created array.\n",
      "dtype : data-type, optional\n",
      "    Any object that can be interpreted as a numpy data type.\n",
      "buffer : object exposing buffer interface, optional\n",
      "    Used to fill the array with data.\n",
      "offset : int, optional\n",
      "    Offset of array data in buffer.\n",
      "strides : tuple of ints, optional\n",
      "    Strides of data in memory.\n",
      "order : {'C', 'F'}, optional\n",
      "    Row-major (C-style) or column-major (Fortran-style) order.\n",
      "\n",
      "Attributes\n",
      "----------\n",
      "T : ndarray\n",
      "    Transpose of the array.\n",
      "data : buffer\n",
      "    The array's elements, in memory.\n",
      "dtype : dtype object\n",
      "    Describes the format of the elements in the array.\n",
      "flags : dict\n",
      "    Dictionary containing information related to memory use, e.g.,\n",
      "    'C_CONTIGUOUS', 'OWNDATA', 'WRITEABLE', etc.\n",
      "flat : numpy.flatiter object\n",
      "    Flattened version of the array as an iterator.  The iterator\n",
      "    allows assignments, e.g., ``x.flat = 3`` (See `ndarray.flat` for\n",
      "    assignment examples; TODO).\n",
      "imag : ndarray\n",
      "    Imaginary part of the array.\n",
      "real : ndarray\n",
      "    Real part of the array.\n",
      "size : int\n",
      "    Number of elements in the array.\n",
      "itemsize : int\n",
      "    The memory use of each array element in bytes.\n",
      "nbytes : int\n",
      "    The total number of bytes required to store the array data,\n",
      "    i.e., ``itemsize * size``.\n",
      "ndim : int\n",
      "    The array's number of dimensions.\n",
      "shape : tuple of ints\n",
      "    Shape of the array.\n",
      "strides : tuple of ints\n",
      "    The step-size required to move from one element to the next in\n",
      "    memory. For example, a contiguous ``(3, 4)`` array of type\n",
      "    ``int16`` in C-order has strides ``(8, 2)``.  This implies that\n",
      "    to move from element to element in memory requires jumps of 2 bytes.\n",
      "    To move from row-to-row, one needs to jump 8 bytes at a time\n",
      "    (``2 * 4``).\n",
      "ctypes : ctypes object\n",
      "    Class containing properties of the array needed for interaction\n",
      "    with ctypes.\n",
      "base : ndarray\n",
      "    If the array is a view into another array, that array is its `base`\n",
      "    (unless that array is also a view).  The `base` array is where the\n",
      "    array data is actually stored.\n",
      "\n",
      "See Also\n",
      "--------\n",
      "array : Construct an array.\n",
      "zeros : Create an array, each element of which is zero.\n",
      "empty : Create an array, but leave its allocated memory unchanged (i.e.,\n",
      "        it contains \"garbage\").\n",
      "dtype : Create a data-type.\n",
      "numpy.typing.NDArray : An ndarray alias :term:`generic <generic type>`\n",
      "                       w.r.t. its `dtype.type <numpy.dtype.type>`.\n",
      "\n",
      "Notes\n",
      "-----\n",
      "There are two modes of creating an array using ``__new__``:\n",
      "\n",
      "1. If `buffer` is None, then only `shape`, `dtype`, and `order`\n",
      "   are used.\n",
      "2. If `buffer` is an object exposing the buffer interface, then\n",
      "   all keywords are interpreted.\n",
      "\n",
      "No ``__init__`` method is needed because the array is fully initialized\n",
      "after the ``__new__`` method.\n",
      "\n",
      "Examples\n",
      "--------\n",
      "These examples illustrate the low-level `ndarray` constructor.  Refer\n",
      "to the `See Also` section above for easier ways of constructing an\n",
      "ndarray.\n",
      "\n",
      "First mode, `buffer` is None:\n",
      "\n",
      ">>> import numpy as np\n",
      ">>> np.ndarray(shape=(2,2), dtype=float, order='F')\n",
      "array([[0.0e+000, 0.0e+000], # random\n",
      "       [     nan, 2.5e-323]])\n",
      "\n",
      "Second mode:\n",
      "\n",
      ">>> np.ndarray((2,), buffer=np.array([1,2,3]),\n",
      "...            offset=np.int_().itemsize,\n",
      "...            dtype=int) # offset = 1*itemsize, i.e. skip first element\n",
      "array([2, 3])\n",
      "\u001b[1;31mFile:\u001b[0m           c:\\users\\109-1\\appdata\\local\\programs\\python\\python312\\lib\\site-packages\\numpy\\__init__.py\n",
      "\u001b[1;31mType:\u001b[0m           type\n",
      "\u001b[1;31mSubclasses:\u001b[0m     recarray, memmap, matrix"
     ]
    }
   ],
   "source": [
    "np.ndarray?"
   ]
  },
  {
   "cell_type": "code",
   "execution_count": 11,
   "metadata": {},
   "outputs": [
    {
     "data": {
      "text/plain": [
       "array([[            0, 2759737039712],\n",
       "       [2759737039312, 2759737038352]])"
      ]
     },
     "execution_count": 11,
     "metadata": {},
     "output_type": "execute_result"
    }
   ],
   "source": [
    "import numpy as np\n",
    "a = np.ndarray((2,2), dtype=int)\n",
    "a"
   ]
  },
  {
   "cell_type": "code",
   "execution_count": 12,
   "metadata": {},
   "outputs": [
    {
     "name": "stdout",
     "output_type": "stream",
     "text": [
      "(2, 2)\n",
      "2\n",
      "4\n",
      "8\n",
      "int64\n",
      "32\n"
     ]
    }
   ],
   "source": [
    "print(a.shape)\n",
    "print(a.ndim)\n",
    "print(a.size)\n",
    "print(a.itemsize)\n",
    "print(a.dtype)\n",
    "print(a.nbytes)"
   ]
  },
  {
   "cell_type": "code",
   "execution_count": 13,
   "metadata": {},
   "outputs": [
    {
     "data": {
      "text/plain": [
       "<memory at 0x00000282BE25A0C0>"
      ]
     },
     "execution_count": 13,
     "metadata": {},
     "output_type": "execute_result"
    }
   ],
   "source": [
    "a.data"
   ]
  },
  {
   "cell_type": "code",
   "execution_count": 14,
   "metadata": {},
   "outputs": [
    {
     "name": "stdout",
     "output_type": "stream",
     "text": [
      "Help on built-in function array in module numpy:\n",
      "\n",
      "array(...)\n",
      "    array(object, dtype=None, *, copy=True, order='K', subok=False, ndmin=0,\n",
      "          like=None)\n",
      "\n",
      "    Create an array.\n",
      "\n",
      "    Parameters\n",
      "    ----------\n",
      "    object : array_like\n",
      "        An array, any object exposing the array interface, an object whose\n",
      "        ``__array__`` method returns an array, or any (nested) sequence.\n",
      "        If object is a scalar, a 0-dimensional array containing object is\n",
      "        returned.\n",
      "    dtype : data-type, optional\n",
      "        The desired data-type for the array. If not given, NumPy will try to use\n",
      "        a default ``dtype`` that can represent the values (by applying promotion\n",
      "        rules when necessary.)\n",
      "    copy : bool, optional\n",
      "        If ``True`` (default), then the array data is copied. If ``None``,\n",
      "        a copy will only be made if ``__array__`` returns a copy, if obj is\n",
      "        a nested sequence, or if a copy is needed to satisfy any of the other\n",
      "        requirements (``dtype``, ``order``, etc.). Note that any copy of\n",
      "        the data is shallow, i.e., for arrays with object dtype, the new\n",
      "        array will point to the same objects. See Examples for `ndarray.copy`.\n",
      "        For ``False`` it raises a ``ValueError`` if a copy cannot be avoided.\n",
      "        Default: ``True``.\n",
      "    order : {'K', 'A', 'C', 'F'}, optional\n",
      "        Specify the memory layout of the array. If object is not an array, the\n",
      "        newly created array will be in C order (row major) unless 'F' is\n",
      "        specified, in which case it will be in Fortran order (column major).\n",
      "        If object is an array the following holds.\n",
      "\n",
      "        ===== ========= ===================================================\n",
      "        order  no copy                     copy=True\n",
      "        ===== ========= ===================================================\n",
      "        'K'   unchanged F & C order preserved, otherwise most similar order\n",
      "        'A'   unchanged F order if input is F and not C, otherwise C order\n",
      "        'C'   C order   C order\n",
      "        'F'   F order   F order\n",
      "        ===== ========= ===================================================\n",
      "\n",
      "        When ``copy=None`` and a copy is made for other reasons, the result is\n",
      "        the same as if ``copy=True``, with some exceptions for 'A', see the\n",
      "        Notes section. The default order is 'K'.\n",
      "    subok : bool, optional\n",
      "        If True, then sub-classes will be passed-through, otherwise\n",
      "        the returned array will be forced to be a base-class array (default).\n",
      "    ndmin : int, optional\n",
      "        Specifies the minimum number of dimensions that the resulting\n",
      "        array should have.  Ones will be prepended to the shape as\n",
      "        needed to meet this requirement.\n",
      "    like : array_like, optional\n",
      "        Reference object to allow the creation of arrays which are not\n",
      "        NumPy arrays. If an array-like passed in as ``like`` supports\n",
      "        the ``__array_function__`` protocol, the result will be defined\n",
      "        by it. In this case, it ensures the creation of an array object\n",
      "        compatible with that passed in via this argument.\n",
      "\n",
      "        .. versionadded:: 1.20.0\n",
      "\n",
      "    Returns\n",
      "    -------\n",
      "    out : ndarray\n",
      "        An array object satisfying the specified requirements.\n",
      "\n",
      "    See Also\n",
      "    --------\n",
      "    empty_like : Return an empty array with shape and type of input.\n",
      "    ones_like : Return an array of ones with shape and type of input.\n",
      "    zeros_like : Return an array of zeros with shape and type of input.\n",
      "    full_like : Return a new array with shape of input filled with value.\n",
      "    empty : Return a new uninitialized array.\n",
      "    ones : Return a new array setting values to one.\n",
      "    zeros : Return a new array setting values to zero.\n",
      "    full : Return a new array of given shape filled with value.\n",
      "    copy: Return an array copy of the given object.\n",
      "\n",
      "\n",
      "    Notes\n",
      "    -----\n",
      "    When order is 'A' and ``object`` is an array in neither 'C' nor 'F' order,\n",
      "    and a copy is forced by a change in dtype, then the order of the result is\n",
      "    not necessarily 'C' as expected. This is likely a bug.\n",
      "\n",
      "    Examples\n",
      "    --------\n",
      "    >>> import numpy as np\n",
      "    >>> np.array([1, 2, 3])\n",
      "    array([1, 2, 3])\n",
      "\n",
      "    Upcasting:\n",
      "\n",
      "    >>> np.array([1, 2, 3.0])\n",
      "    array([ 1.,  2.,  3.])\n",
      "\n",
      "    More than one dimension:\n",
      "\n",
      "    >>> np.array([[1, 2], [3, 4]])\n",
      "    array([[1, 2],\n",
      "           [3, 4]])\n",
      "\n",
      "    Minimum dimensions 2:\n",
      "\n",
      "    >>> np.array([1, 2, 3], ndmin=2)\n",
      "    array([[1, 2, 3]])\n",
      "\n",
      "    Type provided:\n",
      "\n",
      "    >>> np.array([1, 2, 3], dtype=complex)\n",
      "    array([ 1.+0.j,  2.+0.j,  3.+0.j])\n",
      "\n",
      "    Data-type consisting of more than one element:\n",
      "\n",
      "    >>> x = np.array([(1,2),(3,4)],dtype=[('a','<i4'),('b','<i4')])\n",
      "    >>> x['a']\n",
      "    array([1, 3])\n",
      "\n",
      "    Creating an array from sub-classes:\n",
      "\n",
      "    >>> np.array(np.asmatrix('1 2; 3 4'))\n",
      "    array([[1, 2],\n",
      "           [3, 4]])\n",
      "\n",
      "    >>> np.array(np.asmatrix('1 2; 3 4'), subok=True)\n",
      "    matrix([[1, 2],\n",
      "            [3, 4]])\n",
      "\n"
     ]
    }
   ],
   "source": [
    "help(np.array)"
   ]
  },
  {
   "cell_type": "code",
   "execution_count": 15,
   "metadata": {},
   "outputs": [
    {
     "name": "stdout",
     "output_type": "stream",
     "text": [
      "Help on class dtype in module numpy:\n",
      "\n",
      "class dtype(builtins.object)\n",
      " |  dtype(dtype, align=False, copy=False, [metadata])\n",
      " |\n",
      " |  Create a data type object.\n",
      " |\n",
      " |  A numpy array is homogeneous, and contains elements described by a\n",
      " |  dtype object. A dtype object can be constructed from different\n",
      " |  combinations of fundamental numeric types.\n",
      " |\n",
      " |  Parameters\n",
      " |  ----------\n",
      " |  dtype\n",
      " |      Object to be converted to a data type object.\n",
      " |  align : bool, optional\n",
      " |      Add padding to the fields to match what a C compiler would output\n",
      " |      for a similar C-struct. Can be ``True`` only if `obj` is a dictionary\n",
      " |      or a comma-separated string. If a struct dtype is being created,\n",
      " |      this also sets a sticky alignment flag ``isalignedstruct``.\n",
      " |  copy : bool, optional\n",
      " |      Make a new copy of the data-type object. If ``False``, the result\n",
      " |      may just be a reference to a built-in data-type object.\n",
      " |  metadata : dict, optional\n",
      " |      An optional dictionary with dtype metadata.\n",
      " |\n",
      " |  See also\n",
      " |  --------\n",
      " |  result_type\n",
      " |\n",
      " |  Examples\n",
      " |  --------\n",
      " |  Using array-scalar type:\n",
      " |\n",
      " |  >>> import numpy as np\n",
      " |  >>> np.dtype(np.int16)\n",
      " |  dtype('int16')\n",
      " |\n",
      " |  Structured type, one field name 'f1', containing int16:\n",
      " |\n",
      " |  >>> np.dtype([('f1', np.int16)])\n",
      " |  dtype([('f1', '<i2')])\n",
      " |\n",
      " |  Structured type, one field named 'f1', in itself containing a structured\n",
      " |  type with one field:\n",
      " |\n",
      " |  >>> np.dtype([('f1', [('f1', np.int16)])])\n",
      " |  dtype([('f1', [('f1', '<i2')])])\n",
      " |\n",
      " |  Structured type, two fields: the first field contains an unsigned int, the\n",
      " |  second an int32:\n",
      " |\n",
      " |  >>> np.dtype([('f1', np.uint64), ('f2', np.int32)])\n",
      " |  dtype([('f1', '<u8'), ('f2', '<i4')])\n",
      " |\n",
      " |  Using array-protocol type strings:\n",
      " |\n",
      " |  >>> np.dtype([('a','f8'),('b','S10')])\n",
      " |  dtype([('a', '<f8'), ('b', 'S10')])\n",
      " |\n",
      " |  Using comma-separated field formats.  The shape is (2,3):\n",
      " |\n",
      " |  >>> np.dtype(\"i4, (2,3)f8\")\n",
      " |  dtype([('f0', '<i4'), ('f1', '<f8', (2, 3))])\n",
      " |\n",
      " |  Using tuples.  ``int`` is a fixed type, 3 the field's shape.  ``void``\n",
      " |  is a flexible type, here of size 10:\n",
      " |\n",
      " |  >>> np.dtype([('hello',(np.int64,3)),('world',np.void,10)])\n",
      " |  dtype([('hello', '<i8', (3,)), ('world', 'V10')])\n",
      " |\n",
      " |  Subdivide ``int16`` into 2 ``int8``'s, called x and y.  0 and 1 are\n",
      " |  the offsets in bytes:\n",
      " |\n",
      " |  >>> np.dtype((np.int16, {'x':(np.int8,0), 'y':(np.int8,1)}))\n",
      " |  dtype((numpy.int16, [('x', 'i1'), ('y', 'i1')]))\n",
      " |\n",
      " |  Using dictionaries.  Two fields named 'gender' and 'age':\n",
      " |\n",
      " |  >>> np.dtype({'names':['gender','age'], 'formats':['S1',np.uint8]})\n",
      " |  dtype([('gender', 'S1'), ('age', 'u1')])\n",
      " |\n",
      " |  Offsets in bytes, here 0 and 25:\n",
      " |\n",
      " |  >>> np.dtype({'surname':('S25',0),'age':(np.uint8,25)})\n",
      " |  dtype([('surname', 'S25'), ('age', 'u1')])\n",
      " |\n",
      " |  Methods defined here:\n",
      " |\n",
      " |  __bool__(self, /)\n",
      " |      True if self else False\n",
      " |\n",
      " |  __eq__(self, value, /)\n",
      " |      Return self==value.\n",
      " |\n",
      " |  __ge__(self, value, /)\n",
      " |      Return self>=value.\n",
      " |\n",
      " |  __getitem__(self, key, /)\n",
      " |      Return self[key].\n",
      " |\n",
      " |  __gt__(self, value, /)\n",
      " |      Return self>value.\n",
      " |\n",
      " |  __hash__(self, /)\n",
      " |      Return hash(self).\n",
      " |\n",
      " |  __le__(self, value, /)\n",
      " |      Return self<=value.\n",
      " |\n",
      " |  __len__(self, /)\n",
      " |      Return len(self).\n",
      " |\n",
      " |  __lt__(self, value, /)\n",
      " |      Return self<value.\n",
      " |\n",
      " |  __mul__(self, value, /)\n",
      " |      Return self*value.\n",
      " |\n",
      " |  __ne__(self, value, /)\n",
      " |      Return self!=value.\n",
      " |\n",
      " |  __reduce__(...)\n",
      " |      Helper for pickle.\n",
      " |\n",
      " |  __repr__(self, /)\n",
      " |      Return repr(self).\n",
      " |\n",
      " |  __rmul__(self, value, /)\n",
      " |      Return value*self.\n",
      " |\n",
      " |  __setstate__(...)\n",
      " |\n",
      " |  __str__(self, /)\n",
      " |      Return str(self).\n",
      " |\n",
      " |  newbyteorder(...)\n",
      " |      newbyteorder(new_order='S', /)\n",
      " |\n",
      " |      Return a new dtype with a different byte order.\n",
      " |\n",
      " |      Changes are also made in all fields and sub-arrays of the data type.\n",
      " |\n",
      " |      Parameters\n",
      " |      ----------\n",
      " |      new_order : string, optional\n",
      " |          Byte order to force; a value from the byte order specifications\n",
      " |          below.  The default value ('S') results in swapping the current\n",
      " |          byte order.  `new_order` codes can be any of:\n",
      " |\n",
      " |          * 'S' - swap dtype from current to opposite endian\n",
      " |          * {'<', 'little'} - little endian\n",
      " |          * {'>', 'big'} - big endian\n",
      " |          * {'=', 'native'} - native order\n",
      " |          * {'|', 'I'} - ignore (no change to byte order)\n",
      " |\n",
      " |      Returns\n",
      " |      -------\n",
      " |      new_dtype : dtype\n",
      " |          New dtype object with the given change to the byte order.\n",
      " |\n",
      " |      Notes\n",
      " |      -----\n",
      " |      Changes are also made in all fields and sub-arrays of the data type.\n",
      " |\n",
      " |      Examples\n",
      " |      --------\n",
      " |      >>> import sys\n",
      " |      >>> sys_is_le = sys.byteorder == 'little'\n",
      " |      >>> native_code = '<' if sys_is_le else '>'\n",
      " |      >>> swapped_code = '>' if sys_is_le else '<'\n",
      " |      >>> import numpy as np\n",
      " |      >>> native_dt = np.dtype(native_code+'i2')\n",
      " |      >>> swapped_dt = np.dtype(swapped_code+'i2')\n",
      " |      >>> native_dt.newbyteorder('S') == swapped_dt\n",
      " |      True\n",
      " |      >>> native_dt.newbyteorder() == swapped_dt\n",
      " |      True\n",
      " |      >>> native_dt == swapped_dt.newbyteorder('S')\n",
      " |      True\n",
      " |      >>> native_dt == swapped_dt.newbyteorder('=')\n",
      " |      True\n",
      " |      >>> native_dt == swapped_dt.newbyteorder('N')\n",
      " |      True\n",
      " |      >>> native_dt == native_dt.newbyteorder('|')\n",
      " |      True\n",
      " |      >>> np.dtype('<i2') == native_dt.newbyteorder('<')\n",
      " |      True\n",
      " |      >>> np.dtype('<i2') == native_dt.newbyteorder('L')\n",
      " |      True\n",
      " |      >>> np.dtype('>i2') == native_dt.newbyteorder('>')\n",
      " |      True\n",
      " |      >>> np.dtype('>i2') == native_dt.newbyteorder('B')\n",
      " |      True\n",
      " |\n",
      " |  ----------------------------------------------------------------------\n",
      " |  Class methods defined here:\n",
      " |\n",
      " |  __class_getitem__(...)\n",
      " |      __class_getitem__(item, /)\n",
      " |\n",
      " |      Return a parametrized wrapper around the `~numpy.dtype` type.\n",
      " |\n",
      " |      .. versionadded:: 1.22\n",
      " |\n",
      " |      Returns\n",
      " |      -------\n",
      " |      alias : types.GenericAlias\n",
      " |          A parametrized `~numpy.dtype` type.\n",
      " |\n",
      " |      Examples\n",
      " |      --------\n",
      " |      >>> import numpy as np\n",
      " |\n",
      " |      >>> np.dtype[np.int64]\n",
      " |      numpy.dtype[numpy.int64]\n",
      " |\n",
      " |      See Also\n",
      " |      --------\n",
      " |      :pep:`585` : Type hinting generics in standard collections.\n",
      " |\n",
      " |  ----------------------------------------------------------------------\n",
      " |  Static methods defined here:\n",
      " |\n",
      " |  __new__(*args, **kwargs)\n",
      " |      Create and return a new object.  See help(type) for accurate signature.\n",
      " |\n",
      " |  ----------------------------------------------------------------------\n",
      " |  Data descriptors defined here:\n",
      " |\n",
      " |  alignment\n",
      " |      The required alignment (bytes) of this data-type according to the compiler.\n",
      " |\n",
      " |      More information is available in the C-API section of the manual.\n",
      " |\n",
      " |      Examples\n",
      " |      --------\n",
      " |\n",
      " |      >>> import numpy as np\n",
      " |      >>> x = np.dtype('i4')\n",
      " |      >>> x.alignment\n",
      " |      4\n",
      " |\n",
      " |      >>> x = np.dtype(float)\n",
      " |      >>> x.alignment\n",
      " |      8\n",
      " |\n",
      " |  base\n",
      " |      Returns dtype for the base element of the subarrays,\n",
      " |      regardless of their dimension or shape.\n",
      " |\n",
      " |      See Also\n",
      " |      --------\n",
      " |      dtype.subdtype\n",
      " |\n",
      " |      Examples\n",
      " |      --------\n",
      " |      >>> import numpy as np\n",
      " |      >>> x = numpy.dtype('8f')\n",
      " |      >>> x.base\n",
      " |      dtype('float32')\n",
      " |\n",
      " |      >>> x =  numpy.dtype('i2')\n",
      " |      >>> x.base\n",
      " |      dtype('int16')\n",
      " |\n",
      " |  byteorder\n",
      " |      A character indicating the byte-order of this data-type object.\n",
      " |\n",
      " |      One of:\n",
      " |\n",
      " |      ===  ==============\n",
      " |      '='  native\n",
      " |      '<'  little-endian\n",
      " |      '>'  big-endian\n",
      " |      '|'  not applicable\n",
      " |      ===  ==============\n",
      " |\n",
      " |      All built-in data-type objects have byteorder either '=' or '|'.\n",
      " |\n",
      " |      Examples\n",
      " |      --------\n",
      " |\n",
      " |      >>> import numpy as np\n",
      " |      >>> dt = np.dtype('i2')\n",
      " |      >>> dt.byteorder\n",
      " |      '='\n",
      " |      >>> # endian is not relevant for 8 bit numbers\n",
      " |      >>> np.dtype('i1').byteorder\n",
      " |      '|'\n",
      " |      >>> # or ASCII strings\n",
      " |      >>> np.dtype('S2').byteorder\n",
      " |      '|'\n",
      " |      >>> # Even if specific code is given, and it is native\n",
      " |      >>> # '=' is the byteorder\n",
      " |      >>> import sys\n",
      " |      >>> sys_is_le = sys.byteorder == 'little'\n",
      " |      >>> native_code = '<' if sys_is_le else '>'\n",
      " |      >>> swapped_code = '>' if sys_is_le else '<'\n",
      " |      >>> dt = np.dtype(native_code + 'i2')\n",
      " |      >>> dt.byteorder\n",
      " |      '='\n",
      " |      >>> # Swapped code shows up as itself\n",
      " |      >>> dt = np.dtype(swapped_code + 'i2')\n",
      " |      >>> dt.byteorder == swapped_code\n",
      " |      True\n",
      " |\n",
      " |  char\n",
      " |      A unique character code for each of the 21 different built-in types.\n",
      " |\n",
      " |      Examples\n",
      " |      --------\n",
      " |\n",
      " |      >>> import numpy as np\n",
      " |      >>> x = np.dtype(float)\n",
      " |      >>> x.char\n",
      " |      'd'\n",
      " |\n",
      " |  descr\n",
      " |      `__array_interface__` description of the data-type.\n",
      " |\n",
      " |      The format is that required by the 'descr' key in the\n",
      " |      `__array_interface__` attribute.\n",
      " |\n",
      " |      Warning: This attribute exists specifically for `__array_interface__`,\n",
      " |      and passing it directly to `numpy.dtype` will not accurately reconstruct\n",
      " |      some dtypes (e.g., scalar and subarray dtypes).\n",
      " |\n",
      " |      Examples\n",
      " |      --------\n",
      " |\n",
      " |      >>> import numpy as np\n",
      " |      >>> x = np.dtype(float)\n",
      " |      >>> x.descr\n",
      " |      [('', '<f8')]\n",
      " |\n",
      " |      >>> dt = np.dtype([('name', np.str_, 16), ('grades', np.float64, (2,))])\n",
      " |      >>> dt.descr\n",
      " |      [('name', '<U16'), ('grades', '<f8', (2,))]\n",
      " |\n",
      " |  fields\n",
      " |      Dictionary of named fields defined for this data type, or ``None``.\n",
      " |\n",
      " |      The dictionary is indexed by keys that are the names of the fields.\n",
      " |      Each entry in the dictionary is a tuple fully describing the field::\n",
      " |\n",
      " |        (dtype, offset[, title])\n",
      " |\n",
      " |      Offset is limited to C int, which is signed and usually 32 bits.\n",
      " |      If present, the optional title can be any object (if it is a string\n",
      " |      or unicode then it will also be a key in the fields dictionary,\n",
      " |      otherwise it's meta-data). Notice also that the first two elements\n",
      " |      of the tuple can be passed directly as arguments to the\n",
      " |      ``ndarray.getfield`` and ``ndarray.setfield`` methods.\n",
      " |\n",
      " |      See Also\n",
      " |      --------\n",
      " |      ndarray.getfield, ndarray.setfield\n",
      " |\n",
      " |      Examples\n",
      " |      --------\n",
      " |\n",
      " |      >>> import numpy as np\n",
      " |      >>> dt = np.dtype([('name', np.str_, 16), ('grades', np.float64, (2,))])\n",
      " |      >>> print(dt.fields)\n",
      " |      {'grades': (dtype(('float64',(2,))), 16), 'name': (dtype('|S16'), 0)}\n",
      " |\n",
      " |  flags\n",
      " |      Bit-flags describing how this data type is to be interpreted.\n",
      " |\n",
      " |      Bit-masks are in ``numpy._core.multiarray`` as the constants\n",
      " |      `ITEM_HASOBJECT`, `LIST_PICKLE`, `ITEM_IS_POINTER`, `NEEDS_INIT`,\n",
      " |      `NEEDS_PYAPI`, `USE_GETITEM`, `USE_SETITEM`. A full explanation\n",
      " |      of these flags is in C-API documentation; they are largely useful\n",
      " |      for user-defined data-types.\n",
      " |\n",
      " |      The following example demonstrates that operations on this particular\n",
      " |      dtype requires Python C-API.\n",
      " |\n",
      " |      Examples\n",
      " |      --------\n",
      " |\n",
      " |      >>> import numpy as np\n",
      " |      >>> x = np.dtype([('a', np.int32, 8), ('b', np.float64, 6)])\n",
      " |      >>> x.flags\n",
      " |      16\n",
      " |      >>> np._core.multiarray.NEEDS_PYAPI\n",
      " |      16\n",
      " |\n",
      " |  hasobject\n",
      " |      Boolean indicating whether this dtype contains any reference-counted\n",
      " |      objects in any fields or sub-dtypes.\n",
      " |\n",
      " |      Recall that what is actually in the ndarray memory representing\n",
      " |      the Python object is the memory address of that object (a pointer).\n",
      " |      Special handling may be required, and this attribute is useful for\n",
      " |      distinguishing data types that may contain arbitrary Python objects\n",
      " |      and data-types that won't.\n",
      " |\n",
      " |  isalignedstruct\n",
      " |      Boolean indicating whether the dtype is a struct which maintains\n",
      " |      field alignment. This flag is sticky, so when combining multiple\n",
      " |      structs together, it is preserved and produces new dtypes which\n",
      " |      are also aligned.\n",
      " |\n",
      " |  isbuiltin\n",
      " |      Integer indicating how this dtype relates to the built-in dtypes.\n",
      " |\n",
      " |      Read-only.\n",
      " |\n",
      " |      =  ========================================================================\n",
      " |      0  if this is a structured array type, with fields\n",
      " |      1  if this is a dtype compiled into numpy (such as ints, floats etc)\n",
      " |      2  if the dtype is for a user-defined numpy type\n",
      " |         A user-defined type uses the numpy C-API machinery to extend\n",
      " |         numpy to handle a new array type. See\n",
      " |         :ref:`user.user-defined-data-types` in the NumPy manual.\n",
      " |      =  ========================================================================\n",
      " |\n",
      " |      Examples\n",
      " |      --------\n",
      " |\n",
      " |      >>> import numpy as np\n",
      " |      >>> dt = np.dtype('i2')\n",
      " |      >>> dt.isbuiltin\n",
      " |      1\n",
      " |      >>> dt = np.dtype('f8')\n",
      " |      >>> dt.isbuiltin\n",
      " |      1\n",
      " |      >>> dt = np.dtype([('field1', 'f8')])\n",
      " |      >>> dt.isbuiltin\n",
      " |      0\n",
      " |\n",
      " |  isnative\n",
      " |      Boolean indicating whether the byte order of this dtype is native\n",
      " |      to the platform.\n",
      " |\n",
      " |  itemsize\n",
      " |      The element size of this data-type object.\n",
      " |\n",
      " |      For 18 of the 21 types this number is fixed by the data-type.\n",
      " |      For the flexible data-types, this number can be anything.\n",
      " |\n",
      " |      Examples\n",
      " |      --------\n",
      " |\n",
      " |      >>> import numpy as np\n",
      " |      >>> arr = np.array([[1, 2], [3, 4]])\n",
      " |      >>> arr.dtype\n",
      " |      dtype('int64')\n",
      " |      >>> arr.itemsize\n",
      " |      8\n",
      " |\n",
      " |      >>> dt = np.dtype([('name', np.str_, 16), ('grades', np.float64, (2,))])\n",
      " |      >>> dt.itemsize\n",
      " |      80\n",
      " |\n",
      " |  kind\n",
      " |      A character code (one of 'biufcmMOSUV') identifying the general kind of data.\n",
      " |\n",
      " |      =  ======================\n",
      " |      b  boolean\n",
      " |      i  signed integer\n",
      " |      u  unsigned integer\n",
      " |      f  floating-point\n",
      " |      c  complex floating-point\n",
      " |      m  timedelta\n",
      " |      M  datetime\n",
      " |      O  object\n",
      " |      S  (byte-)string\n",
      " |      U  Unicode\n",
      " |      V  void\n",
      " |      =  ======================\n",
      " |\n",
      " |      Examples\n",
      " |      --------\n",
      " |\n",
      " |      >>> import numpy as np\n",
      " |      >>> dt = np.dtype('i4')\n",
      " |      >>> dt.kind\n",
      " |      'i'\n",
      " |      >>> dt = np.dtype('f8')\n",
      " |      >>> dt.kind\n",
      " |      'f'\n",
      " |      >>> dt = np.dtype([('field1', 'f8')])\n",
      " |      >>> dt.kind\n",
      " |      'V'\n",
      " |\n",
      " |  metadata\n",
      " |      Either ``None`` or a readonly dictionary of metadata (mappingproxy).\n",
      " |\n",
      " |      The metadata field can be set using any dictionary at data-type\n",
      " |      creation. NumPy currently has no uniform approach to propagating\n",
      " |      metadata; although some array operations preserve it, there is no\n",
      " |      guarantee that others will.\n",
      " |\n",
      " |      .. warning::\n",
      " |\n",
      " |          Although used in certain projects, this feature was long undocumented\n",
      " |          and is not well supported. Some aspects of metadata propagation\n",
      " |          are expected to change in the future.\n",
      " |\n",
      " |      Examples\n",
      " |      --------\n",
      " |\n",
      " |      >>> import numpy as np\n",
      " |      >>> dt = np.dtype(float, metadata={\"key\": \"value\"})\n",
      " |      >>> dt.metadata[\"key\"]\n",
      " |      'value'\n",
      " |      >>> arr = np.array([1, 2, 3], dtype=dt)\n",
      " |      >>> arr.dtype.metadata\n",
      " |      mappingproxy({'key': 'value'})\n",
      " |\n",
      " |      Adding arrays with identical datatypes currently preserves the metadata:\n",
      " |\n",
      " |      >>> (arr + arr).dtype.metadata\n",
      " |      mappingproxy({'key': 'value'})\n",
      " |\n",
      " |      But if the arrays have different dtype metadata, the metadata may be\n",
      " |      dropped:\n",
      " |\n",
      " |      >>> dt2 = np.dtype(float, metadata={\"key2\": \"value2\"})\n",
      " |      >>> arr2 = np.array([3, 2, 1], dtype=dt2)\n",
      " |      >>> (arr + arr2).dtype.metadata is None\n",
      " |      True  # The metadata field is cleared so None is returned\n",
      " |\n",
      " |  name\n",
      " |      A bit-width name for this data-type.\n",
      " |\n",
      " |      Un-sized flexible data-type objects do not have this attribute.\n",
      " |\n",
      " |      Examples\n",
      " |      --------\n",
      " |\n",
      " |      >>> import numpy as np\n",
      " |      >>> x = np.dtype(float)\n",
      " |      >>> x.name\n",
      " |      'float64'\n",
      " |      >>> x = np.dtype([('a', np.int32, 8), ('b', np.float64, 6)])\n",
      " |      >>> x.name\n",
      " |      'void640'\n",
      " |\n",
      " |  names\n",
      " |      Ordered list of field names, or ``None`` if there are no fields.\n",
      " |\n",
      " |      The names are ordered according to increasing byte offset. This can be\n",
      " |      used, for example, to walk through all of the named fields in offset order.\n",
      " |\n",
      " |      Examples\n",
      " |      --------\n",
      " |      >>> dt = np.dtype([('name', np.str_, 16), ('grades', np.float64, (2,))])\n",
      " |      >>> dt.names\n",
      " |      ('name', 'grades')\n",
      " |\n",
      " |  ndim\n",
      " |      Number of dimensions of the sub-array if this data type describes a\n",
      " |      sub-array, and ``0`` otherwise.\n",
      " |\n",
      " |      .. versionadded:: 1.13.0\n",
      " |\n",
      " |      Examples\n",
      " |      --------\n",
      " |      >>> import numpy as np\n",
      " |      >>> x = np.dtype(float)\n",
      " |      >>> x.ndim\n",
      " |      0\n",
      " |\n",
      " |      >>> x = np.dtype((float, 8))\n",
      " |      >>> x.ndim\n",
      " |      1\n",
      " |\n",
      " |      >>> x = np.dtype(('i4', (3, 4)))\n",
      " |      >>> x.ndim\n",
      " |      2\n",
      " |\n",
      " |  num\n",
      " |      A unique number for each of the 21 different built-in types.\n",
      " |\n",
      " |      These are roughly ordered from least-to-most precision.\n",
      " |\n",
      " |      Examples\n",
      " |      --------\n",
      " |\n",
      " |      >>> import numpy as np\n",
      " |      >>> dt = np.dtype(str)\n",
      " |      >>> dt.num\n",
      " |      19\n",
      " |\n",
      " |      >>> dt = np.dtype(float)\n",
      " |      >>> dt.num\n",
      " |      12\n",
      " |\n",
      " |  shape\n",
      " |      Shape tuple of the sub-array if this data type describes a sub-array,\n",
      " |      and ``()`` otherwise.\n",
      " |\n",
      " |      Examples\n",
      " |      --------\n",
      " |\n",
      " |      >>> import numpy as np\n",
      " |      >>> dt = np.dtype(('i4', 4))\n",
      " |      >>> dt.shape\n",
      " |      (4,)\n",
      " |\n",
      " |      >>> dt = np.dtype(('i4', (2, 3)))\n",
      " |      >>> dt.shape\n",
      " |      (2, 3)\n",
      " |\n",
      " |  str\n",
      " |      The array-protocol typestring of this data-type object.\n",
      " |\n",
      " |  subdtype\n",
      " |      Tuple ``(item_dtype, shape)`` if this `dtype` describes a sub-array, and\n",
      " |      None otherwise.\n",
      " |\n",
      " |      The *shape* is the fixed shape of the sub-array described by this\n",
      " |      data type, and *item_dtype* the data type of the array.\n",
      " |\n",
      " |      If a field whose dtype object has this attribute is retrieved,\n",
      " |      then the extra dimensions implied by *shape* are tacked on to\n",
      " |      the end of the retrieved array.\n",
      " |\n",
      " |      See Also\n",
      " |      --------\n",
      " |      dtype.base\n",
      " |\n",
      " |      Examples\n",
      " |      --------\n",
      " |      >>> import numpy as np\n",
      " |      >>> x = numpy.dtype('8f')\n",
      " |      >>> x.subdtype\n",
      " |      (dtype('float32'), (8,))\n",
      " |\n",
      " |      >>> x =  numpy.dtype('i2')\n",
      " |      >>> x.subdtype\n",
      " |      >>>\n",
      " |\n",
      " |  type\n",
      "\n"
     ]
    }
   ],
   "source": [
    "help(np.dtype)"
   ]
  },
  {
   "cell_type": "code",
   "execution_count": 16,
   "metadata": {},
   "outputs": [
    {
     "data": {
      "text/plain": [
       "array([1, 2, 3])"
      ]
     },
     "execution_count": 16,
     "metadata": {},
     "output_type": "execute_result"
    }
   ],
   "source": [
    "import numpy as np\n",
    "a= np.array([1,2,3], dtype=int)\n",
    "a"
   ]
  },
  {
   "cell_type": "code",
   "execution_count": 17,
   "metadata": {},
   "outputs": [
    {
     "data": {
      "text/plain": [
       "numpy.ndarray"
      ]
     },
     "execution_count": 17,
     "metadata": {},
     "output_type": "execute_result"
    }
   ],
   "source": [
    "type(a)"
   ]
  },
  {
   "cell_type": "code",
   "execution_count": 18,
   "metadata": {},
   "outputs": [
    {
     "name": "stdout",
     "output_type": "stream",
     "text": [
      "(3,)\n",
      "1\n",
      "int64\n"
     ]
    }
   ],
   "source": [
    "print(a.shape)\n",
    "print(a.ndim)\n",
    "print(a.dtype)"
   ]
  },
  {
   "cell_type": "code",
   "execution_count": 19,
   "metadata": {},
   "outputs": [
    {
     "name": "stdout",
     "output_type": "stream",
     "text": [
      "3\n",
      "8\n",
      "24\n"
     ]
    }
   ],
   "source": [
    "print(a.size)\n",
    "print(a.itemsize)\n",
    "print(a.nbytes)"
   ]
  },
  {
   "cell_type": "code",
   "execution_count": 20,
   "metadata": {},
   "outputs": [
    {
     "data": {
      "text/plain": [
       "<memory at 0x00000282BE225900>"
      ]
     },
     "execution_count": 20,
     "metadata": {},
     "output_type": "execute_result"
    }
   ],
   "source": [
    "a.data"
   ]
  },
  {
   "cell_type": "code",
   "execution_count": 21,
   "metadata": {},
   "outputs": [
    {
     "ename": "SyntaxError",
     "evalue": "invalid syntax (1698871585.py, line 1)",
     "output_type": "error",
     "traceback": [
      "\u001b[1;36m  Cell \u001b[1;32mIn[21], line 1\u001b[1;36m\u001b[0m\n\u001b[1;33m    np.array{1,2,3} #오류\u001b[0m\n\u001b[1;37m            ^\u001b[0m\n\u001b[1;31mSyntaxError\u001b[0m\u001b[1;31m:\u001b[0m invalid syntax\n"
     ]
    }
   ],
   "source": [
    "np.array{1,2,3} #오류"
   ]
  },
  {
   "cell_type": "code",
   "execution_count": null,
   "metadata": {},
   "outputs": [
    {
     "data": {
      "text/plain": [
       "array(['1', 'py', '3.14'], dtype='<U32')"
      ]
     },
     "execution_count": 45,
     "metadata": {},
     "output_type": "execute_result"
    }
   ],
   "source": [
    "np.array([1, 'py', 3.14])"
   ]
  },
  {
   "cell_type": "code",
   "execution_count": null,
   "metadata": {},
   "outputs": [
    {
     "data": {
      "text/plain": [
       "array(['가나다', '라마바', '사아자'], dtype='<U32')"
      ]
     },
     "execution_count": 46,
     "metadata": {},
     "output_type": "execute_result"
    }
   ],
   "source": [
    "import numpy as np\n",
    "unicode_array = np.array(['가나다', '라마바', '사아자'],dtype='<U32')\n",
    "unicode_array"
   ]
  },
  {
   "cell_type": "code",
   "execution_count": null,
   "metadata": {},
   "outputs": [
    {
     "ename": "SyntaxError",
     "evalue": "invalid syntax. Perhaps you forgot a comma? (100997302.py, line 1)",
     "output_type": "error",
     "traceback": [
      "\u001b[1;36m  Cell \u001b[1;32mIn[47], line 1\u001b[1;36m\u001b[0m\n\u001b[1;33m    unicode_array = np.array(['가나다라마'*7, '라마바','사아자']dtype='<U32')\u001b[0m\n\u001b[1;37m                             ^\u001b[0m\n\u001b[1;31mSyntaxError\u001b[0m\u001b[1;31m:\u001b[0m invalid syntax. Perhaps you forgot a comma?\n"
     ]
    }
   ],
   "source": [
    "unicode_array = np.array(['가나다라마'*7, '라마바','사아자']dtype='<U32')\n",
    "unicode_array"
   ]
  },
  {
   "cell_type": "code",
   "execution_count": null,
   "metadata": {},
   "outputs": [
    {
     "ename": "SyntaxError",
     "evalue": "invalid syntax. Perhaps you forgot a comma? (1086490894.py, line 1)",
     "output_type": "error",
     "traceback": [
      "\u001b[1;36m  Cell \u001b[1;32mIn[48], line 1\u001b[1;36m\u001b[0m\n\u001b[1;33m    unicode_array = np.array(['가나다라마'*7, '라마바','사아자']dtype='<U64')\u001b[0m\n\u001b[1;37m                             ^\u001b[0m\n\u001b[1;31mSyntaxError\u001b[0m\u001b[1;31m:\u001b[0m invalid syntax. Perhaps you forgot a comma?\n"
     ]
    }
   ],
   "source": [
    "unicode_array = np.array(['가나다라마'*7, '라마바','사아자']dtype='<U64')\n",
    "unicode_array"
   ]
  },
  {
   "cell_type": "code",
   "execution_count": null,
   "metadata": {},
   "outputs": [
    {
     "data": {
      "text/plain": [
       "array(['py', 'java', 'c'], dtype='<U4')"
      ]
     },
     "execution_count": 50,
     "metadata": {},
     "output_type": "execute_result"
    }
   ],
   "source": [
    "leng = np.array(['py','java','c'])\n",
    "leng"
   ]
  },
  {
   "cell_type": "code",
   "execution_count": null,
   "metadata": {},
   "outputs": [
    {
     "data": {
      "text/plain": [
       "array([1., 2., 3.])"
      ]
     },
     "execution_count": 51,
     "metadata": {},
     "output_type": "execute_result"
    }
   ],
   "source": [
    "a = np.array((1,2,3), dtype=float)\n",
    "a"
   ]
  },
  {
   "cell_type": "code",
   "execution_count": null,
   "metadata": {},
   "outputs": [
    {
     "data": {
      "text/plain": [
       "array([1. , 2.5, 2. ])"
      ]
     },
     "execution_count": 52,
     "metadata": {},
     "output_type": "execute_result"
    }
   ],
   "source": [
    "b = np.array((1, 2.5 ,2))\n",
    "b"
   ]
  },
  {
   "cell_type": "code",
   "execution_count": null,
   "metadata": {},
   "outputs": [
    {
     "name": "stdout",
     "output_type": "stream",
     "text": [
      "[0 1 2]\n",
      "[3 4 5 6]\n",
      "[3 5]\n"
     ]
    }
   ],
   "source": [
    "import numpy as np\n",
    "\n",
    "print(np.arange(3))\n",
    "print(np.arange(3,7))\n",
    "print(np.arange(3,7,2))"
   ]
  },
  {
   "cell_type": "code",
   "execution_count": null,
   "metadata": {},
   "outputs": [
    {
     "name": "stdout",
     "output_type": "stream",
     "text": [
      "[0. 1.]\n",
      "[2. 3. 4. 5. 6.]\n",
      "[2.  2.8 3.6 4.4 5.2 6. ]\n"
     ]
    }
   ],
   "source": [
    "import numpy as np\n",
    "print(np.arange(2.0))\n",
    "print(np.arange(2.0, 6.5))\n",
    "print(np.arange(2.0, 6.5, 0.8))"
   ]
  },
  {
   "cell_type": "code",
   "execution_count": null,
   "metadata": {},
   "outputs": [
    {
     "data": {
      "text/plain": [
       "array([0. , 0.5, 1. , 1.5, 2. , 2.5, 3. , 3.5, 4. , 4.5])"
      ]
     },
     "execution_count": 2,
     "metadata": {},
     "output_type": "execute_result"
    }
   ],
   "source": [
    "np.arange(0,5,0.5)"
   ]
  },
  {
   "cell_type": "code",
   "execution_count": 3,
   "metadata": {},
   "outputs": [
    {
     "data": {
      "text/plain": [
       "array([0, 0, 0, 0, 0, 0, 0, 0, 0, 0])"
      ]
     },
     "execution_count": 3,
     "metadata": {},
     "output_type": "execute_result"
    }
   ],
   "source": [
    "np.arange(0,5,0.5, dtype=int)"
   ]
  },
  {
   "cell_type": "code",
   "execution_count": 22,
   "metadata": {},
   "outputs": [
    {
     "data": {
      "text/plain": [
       "array([-3, -2, -1,  0,  1,  2,  3,  4,  5,  6,  7,  8])"
      ]
     },
     "execution_count": 22,
     "metadata": {},
     "output_type": "execute_result"
    }
   ],
   "source": [
    "np.arange(-3,3,0.5,dtype=int)"
   ]
  },
  {
   "cell_type": "code",
   "execution_count": 24,
   "metadata": {},
   "outputs": [
    {
     "data": {
      "text/plain": [
       "array([[ 0,  1,  2,  3],\n",
       "       [ 4,  5,  6,  7],\n",
       "       [ 8,  9, 10, 11]])"
      ]
     },
     "execution_count": 24,
     "metadata": {},
     "output_type": "execute_result"
    }
   ],
   "source": [
    "import numpy as np\n",
    "\n",
    "a = np.arange(12).reshape(3,4)\n",
    "a"
   ]
  },
  {
   "cell_type": "code",
   "execution_count": 25,
   "metadata": {},
   "outputs": [
    {
     "data": {
      "text/plain": [
       "array([[ 0,  1,  2,  3,  4,  5],\n",
       "       [ 6,  7,  8,  9, 10, 11]])"
      ]
     },
     "execution_count": 25,
     "metadata": {},
     "output_type": "execute_result"
    }
   ],
   "source": [
    "np.reshape(a,(2,6))\n",
    "#a.reshape(2.6)"
   ]
  },
  {
   "cell_type": "code",
   "execution_count": 26,
   "metadata": {},
   "outputs": [
    {
     "ename": "ValueError",
     "evalue": "cannot reshape array of size 12 into shape (3,5)",
     "output_type": "error",
     "traceback": [
      "\u001b[1;31m---------------------------------------------------------------------------\u001b[0m",
      "\u001b[1;31mValueError\u001b[0m                                Traceback (most recent call last)",
      "Cell \u001b[1;32mIn[26], line 1\u001b[0m\n\u001b[1;32m----> 1\u001b[0m \u001b[43mnp\u001b[49m\u001b[38;5;241;43m.\u001b[39;49m\u001b[43mreshape\u001b[49m\u001b[43m(\u001b[49m\u001b[43ma\u001b[49m\u001b[43m,\u001b[49m\u001b[43m(\u001b[49m\u001b[38;5;241;43m3\u001b[39;49m\u001b[43m,\u001b[49m\u001b[38;5;241;43m5\u001b[39;49m\u001b[43m)\u001b[49m\u001b[43m)\u001b[49m\n",
      "File \u001b[1;32mc:\\Users\\109-1\\AppData\\Local\\Programs\\Python\\Python312\\Lib\\site-packages\\numpy\\_core\\fromnumeric.py:328\u001b[0m, in \u001b[0;36mreshape\u001b[1;34m(a, shape, order, newshape, copy)\u001b[0m\n\u001b[0;32m    326\u001b[0m \u001b[38;5;28;01mif\u001b[39;00m copy \u001b[38;5;129;01mis\u001b[39;00m \u001b[38;5;129;01mnot\u001b[39;00m \u001b[38;5;28;01mNone\u001b[39;00m:\n\u001b[0;32m    327\u001b[0m     \u001b[38;5;28;01mreturn\u001b[39;00m _wrapfunc(a, \u001b[38;5;124m'\u001b[39m\u001b[38;5;124mreshape\u001b[39m\u001b[38;5;124m'\u001b[39m, shape, order\u001b[38;5;241m=\u001b[39morder, copy\u001b[38;5;241m=\u001b[39mcopy)\n\u001b[1;32m--> 328\u001b[0m \u001b[38;5;28;01mreturn\u001b[39;00m \u001b[43m_wrapfunc\u001b[49m\u001b[43m(\u001b[49m\u001b[43ma\u001b[49m\u001b[43m,\u001b[49m\u001b[43m \u001b[49m\u001b[38;5;124;43m'\u001b[39;49m\u001b[38;5;124;43mreshape\u001b[39;49m\u001b[38;5;124;43m'\u001b[39;49m\u001b[43m,\u001b[49m\u001b[43m \u001b[49m\u001b[43mshape\u001b[49m\u001b[43m,\u001b[49m\u001b[43m \u001b[49m\u001b[43morder\u001b[49m\u001b[38;5;241;43m=\u001b[39;49m\u001b[43morder\u001b[49m\u001b[43m)\u001b[49m\n",
      "File \u001b[1;32mc:\\Users\\109-1\\AppData\\Local\\Programs\\Python\\Python312\\Lib\\site-packages\\numpy\\_core\\fromnumeric.py:57\u001b[0m, in \u001b[0;36m_wrapfunc\u001b[1;34m(obj, method, *args, **kwds)\u001b[0m\n\u001b[0;32m     54\u001b[0m     \u001b[38;5;28;01mreturn\u001b[39;00m _wrapit(obj, method, \u001b[38;5;241m*\u001b[39margs, \u001b[38;5;241m*\u001b[39m\u001b[38;5;241m*\u001b[39mkwds)\n\u001b[0;32m     56\u001b[0m \u001b[38;5;28;01mtry\u001b[39;00m:\n\u001b[1;32m---> 57\u001b[0m     \u001b[38;5;28;01mreturn\u001b[39;00m \u001b[43mbound\u001b[49m\u001b[43m(\u001b[49m\u001b[38;5;241;43m*\u001b[39;49m\u001b[43margs\u001b[49m\u001b[43m,\u001b[49m\u001b[43m \u001b[49m\u001b[38;5;241;43m*\u001b[39;49m\u001b[38;5;241;43m*\u001b[39;49m\u001b[43mkwds\u001b[49m\u001b[43m)\u001b[49m\n\u001b[0;32m     58\u001b[0m \u001b[38;5;28;01mexcept\u001b[39;00m \u001b[38;5;167;01mTypeError\u001b[39;00m:\n\u001b[0;32m     59\u001b[0m     \u001b[38;5;66;03m# A TypeError occurs if the object does have such a method in its\u001b[39;00m\n\u001b[0;32m     60\u001b[0m     \u001b[38;5;66;03m# class, but its signature is not identical to that of NumPy's. This\u001b[39;00m\n\u001b[1;32m   (...)\u001b[0m\n\u001b[0;32m     64\u001b[0m     \u001b[38;5;66;03m# Call _wrapit from within the except clause to ensure a potential\u001b[39;00m\n\u001b[0;32m     65\u001b[0m     \u001b[38;5;66;03m# exception has a traceback chain.\u001b[39;00m\n\u001b[0;32m     66\u001b[0m     \u001b[38;5;28;01mreturn\u001b[39;00m _wrapit(obj, method, \u001b[38;5;241m*\u001b[39margs, \u001b[38;5;241m*\u001b[39m\u001b[38;5;241m*\u001b[39mkwds)\n",
      "\u001b[1;31mValueError\u001b[0m: cannot reshape array of size 12 into shape (3,5)"
     ]
    }
   ],
   "source": [
    "np.reshape(a,(3,5))"
   ]
  },
  {
   "cell_type": "code",
   "execution_count": 27,
   "metadata": {},
   "outputs": [
    {
     "data": {
      "text/plain": [
       "array([[1, 2],\n",
       "       [3, 4],\n",
       "       [5, 6]])"
      ]
     },
     "execution_count": 27,
     "metadata": {},
     "output_type": "execute_result"
    }
   ],
   "source": [
    "b = np.array([1,2,3,4,5,6]).reshape(3,2)\n",
    "b"
   ]
  },
  {
   "cell_type": "code",
   "execution_count": 31,
   "metadata": {},
   "outputs": [
    {
     "data": {
      "text/plain": [
       "array([[1, 2, 3],\n",
       "       [4, 5, 6]])"
      ]
     },
     "execution_count": 31,
     "metadata": {},
     "output_type": "execute_result"
    }
   ],
   "source": [
    "np.reshape(b,(2,-1)) # np.reshape(b, ( 2,3))\n",
    "np.reshape(b,(5,-1)) # ERROR\n",
    "np.reshape(b,(6,-1)) # np.reshape(b, ( 6,1))"
   ]
  },
  {
   "cell_type": "code",
   "execution_count": 30,
   "metadata": {},
   "outputs": [
    {
     "data": {
      "text/plain": [
       "array([2.        , 2.02040816, 2.04081633, 2.06122449, 2.08163265,\n",
       "       2.10204082, 2.12244898, 2.14285714, 2.16326531, 2.18367347,\n",
       "       2.20408163, 2.2244898 , 2.24489796, 2.26530612, 2.28571429,\n",
       "       2.30612245, 2.32653061, 2.34693878, 2.36734694, 2.3877551 ,\n",
       "       2.40816327, 2.42857143, 2.44897959, 2.46938776, 2.48979592,\n",
       "       2.51020408, 2.53061224, 2.55102041, 2.57142857, 2.59183673,\n",
       "       2.6122449 , 2.63265306, 2.65306122, 2.67346939, 2.69387755,\n",
       "       2.71428571, 2.73469388, 2.75510204, 2.7755102 , 2.79591837,\n",
       "       2.81632653, 2.83673469, 2.85714286, 2.87755102, 2.89795918,\n",
       "       2.91836735, 2.93877551, 2.95918367, 2.97959184, 3.        ])"
      ]
     },
     "execution_count": 30,
     "metadata": {},
     "output_type": "execute_result"
    }
   ],
   "source": [
    "np.linspace(2.0, 3.0) #(2.0, 2.0, 50) => defult 50개"
   ]
  },
  {
   "cell_type": "code",
   "execution_count": 35,
   "metadata": {},
   "outputs": [
    {
     "data": {
      "text/plain": [
       "(array([2.        , 2.02040816, 2.04081633, 2.06122449, 2.08163265,\n",
       "        2.10204082, 2.12244898, 2.14285714, 2.16326531, 2.18367347,\n",
       "        2.20408163, 2.2244898 , 2.24489796, 2.26530612, 2.28571429,\n",
       "        2.30612245, 2.32653061, 2.34693878, 2.36734694, 2.3877551 ,\n",
       "        2.40816327, 2.42857143, 2.44897959, 2.46938776, 2.48979592,\n",
       "        2.51020408, 2.53061224, 2.55102041, 2.57142857, 2.59183673,\n",
       "        2.6122449 , 2.63265306, 2.65306122, 2.67346939, 2.69387755,\n",
       "        2.71428571, 2.73469388, 2.75510204, 2.7755102 , 2.79591837,\n",
       "        2.81632653, 2.83673469, 2.85714286, 2.87755102, 2.89795918,\n",
       "        2.91836735, 2.93877551, 2.95918367, 2.97959184, 3.        ]),\n",
       " np.float64(0.02040816326530612))"
      ]
     },
     "execution_count": 35,
     "metadata": {},
     "output_type": "execute_result"
    }
   ],
   "source": [
    "np.linspace(2.0 , 3.0, retstep=True)"
   ]
  },
  {
   "cell_type": "code",
   "execution_count": 33,
   "metadata": {},
   "outputs": [
    {
     "name": "stdout",
     "output_type": "stream",
     "text": [
      "0.02040816326530612\n"
     ]
    }
   ],
   "source": [
    "print((3-2) / (50-1))"
   ]
  },
  {
   "cell_type": "code",
   "execution_count": 34,
   "metadata": {},
   "outputs": [
    {
     "data": {
      "text/plain": [
       "(array([2.  , 2.02, 2.04, 2.06, 2.08, 2.1 , 2.12, 2.14, 2.16, 2.18, 2.2 ,\n",
       "        2.22, 2.24, 2.26, 2.28, 2.3 , 2.32, 2.34, 2.36, 2.38, 2.4 , 2.42,\n",
       "        2.44, 2.46, 2.48, 2.5 , 2.52, 2.54, 2.56, 2.58, 2.6 , 2.62, 2.64,\n",
       "        2.66, 2.68, 2.7 , 2.72, 2.74, 2.76, 2.78, 2.8 , 2.82, 2.84, 2.86,\n",
       "        2.88, 2.9 , 2.92, 2.94, 2.96, 2.98]),\n",
       " np.float64(0.02))"
      ]
     },
     "execution_count": 34,
     "metadata": {},
     "output_type": "execute_result"
    }
   ],
   "source": [
    "np.linspace(2.0, 3.0, endpoint=False, retstep=True)"
   ]
  },
  {
   "cell_type": "code",
   "execution_count": 36,
   "metadata": {},
   "outputs": [
    {
     "name": "stdout",
     "output_type": "stream",
     "text": [
      "0.02\n"
     ]
    }
   ],
   "source": [
    "print((3-2) / 50)"
   ]
  },
  {
   "cell_type": "code",
   "execution_count": 37,
   "metadata": {},
   "outputs": [
    {
     "data": {
      "text/plain": [
       "(array([2.  , 2.25, 2.5 , 2.75, 3.  ]), np.float64(0.25))"
      ]
     },
     "execution_count": 37,
     "metadata": {},
     "output_type": "execute_result"
    }
   ],
   "source": [
    "np.linspace(2.0, 3.0, num=5, retstep=True)"
   ]
  },
  {
   "cell_type": "code",
   "execution_count": 38,
   "metadata": {},
   "outputs": [
    {
     "data": {
      "text/plain": [
       "(array([2. , 2.2, 2.4, 2.6, 2.8]), np.float64(0.2))"
      ]
     },
     "execution_count": 38,
     "metadata": {},
     "output_type": "execute_result"
    }
   ],
   "source": [
    "np.linspace(2.0, 3.0, num=5, endpoint=False, retstep=True)"
   ]
  },
  {
   "cell_type": "code",
   "execution_count": 39,
   "metadata": {},
   "outputs": [
    {
     "data": {
      "text/plain": [
       "array([0.1, 0.2, 0.3, 0.4])"
      ]
     },
     "execution_count": 39,
     "metadata": {},
     "output_type": "execute_result"
    }
   ],
   "source": [
    "np.arange(0.1 , 0.4, 0.1)"
   ]
  },
  {
   "cell_type": "code",
   "execution_count": 40,
   "metadata": {},
   "outputs": [
    {
     "data": {
      "text/plain": [
       "array([0.1, 0.2, 0.3])"
      ]
     },
     "execution_count": 40,
     "metadata": {},
     "output_type": "execute_result"
    }
   ],
   "source": [
    "np.arange(1,4,1) / 10.0"
   ]
  },
  {
   "cell_type": "code",
   "execution_count": 41,
   "metadata": {},
   "outputs": [
    {
     "data": {
      "text/plain": [
       "array([0.1, 0.2, 0.3])"
      ]
     },
     "execution_count": 41,
     "metadata": {},
     "output_type": "execute_result"
    }
   ],
   "source": [
    "np.linspace(0.1, 0.4, 3, endpoint=False)"
   ]
  },
  {
   "cell_type": "code",
   "execution_count": 43,
   "metadata": {},
   "outputs": [
    {
     "data": {
      "text/plain": [
       "array([0.1, 0.2, 0.3, 0.4])"
      ]
     },
     "execution_count": 43,
     "metadata": {},
     "output_type": "execute_result"
    }
   ],
   "source": [
    "np.linspace(0.1, 0.4, 4)"
   ]
  },
  {
   "cell_type": "code",
   "execution_count": 45,
   "metadata": {},
   "outputs": [
    {
     "data": {
      "text/plain": [
       "array([0., 0., 0., 0., 0.])"
      ]
     },
     "execution_count": 45,
     "metadata": {},
     "output_type": "execute_result"
    }
   ],
   "source": [
    "import numpy as np\n",
    "\n",
    "a = np.zeros(5)\n",
    "a"
   ]
  },
  {
   "cell_type": "code",
   "execution_count": 46,
   "metadata": {},
   "outputs": [
    {
     "data": {
      "text/plain": [
       "dtype('float64')"
      ]
     },
     "execution_count": 46,
     "metadata": {},
     "output_type": "execute_result"
    }
   ],
   "source": [
    "a.dtype"
   ]
  },
  {
   "cell_type": "code",
   "execution_count": 47,
   "metadata": {},
   "outputs": [
    {
     "name": "stdout",
     "output_type": "stream",
     "text": [
      "\u001b[1;31mDocstring:\u001b[0m\n",
      "zeros(shape, dtype=float, order='C', *, like=None)\n",
      "\n",
      "Return a new array of given shape and type, filled with zeros.\n",
      "\n",
      "Parameters\n",
      "----------\n",
      "shape : int or tuple of ints\n",
      "    Shape of the new array, e.g., ``(2, 3)`` or ``2``.\n",
      "dtype : data-type, optional\n",
      "    The desired data-type for the array, e.g., `numpy.int8`.  Default is\n",
      "    `numpy.float64`.\n",
      "order : {'C', 'F'}, optional, default: 'C'\n",
      "    Whether to store multi-dimensional data in row-major\n",
      "    (C-style) or column-major (Fortran-style) order in\n",
      "    memory.\n",
      "like : array_like, optional\n",
      "    Reference object to allow the creation of arrays which are not\n",
      "    NumPy arrays. If an array-like passed in as ``like`` supports\n",
      "    the ``__array_function__`` protocol, the result will be defined\n",
      "    by it. In this case, it ensures the creation of an array object\n",
      "    compatible with that passed in via this argument.\n",
      "\n",
      "    .. versionadded:: 1.20.0\n",
      "\n",
      "Returns\n",
      "-------\n",
      "out : ndarray\n",
      "    Array of zeros with the given shape, dtype, and order.\n",
      "\n",
      "See Also\n",
      "--------\n",
      "zeros_like : Return an array of zeros with shape and type of input.\n",
      "empty : Return a new uninitialized array.\n",
      "ones : Return a new array setting values to one.\n",
      "full : Return a new array of given shape filled with value.\n",
      "\n",
      "Examples\n",
      "--------\n",
      ">>> import numpy as np\n",
      ">>> np.zeros(5)\n",
      "array([ 0.,  0.,  0.,  0.,  0.])\n",
      "\n",
      ">>> np.zeros((5,), dtype=int)\n",
      "array([0, 0, 0, 0, 0])\n",
      "\n",
      ">>> np.zeros((2, 1))\n",
      "array([[ 0.],\n",
      "       [ 0.]])\n",
      "\n",
      ">>> s = (2,2)\n",
      ">>> np.zeros(s)\n",
      "array([[ 0.,  0.],\n",
      "       [ 0.,  0.]])\n",
      "\n",
      ">>> np.zeros((2,), dtype=[('x', 'i4'), ('y', 'i4')]) # custom dtype\n",
      "array([(0, 0), (0, 0)],\n",
      "      dtype=[('x', '<i4'), ('y', '<i4')])\n",
      "\u001b[1;31mType:\u001b[0m      builtin_function_or_method"
     ]
    }
   ],
   "source": [
    "np.zeros?"
   ]
  },
  {
   "cell_type": "code",
   "execution_count": 48,
   "metadata": {},
   "outputs": [
    {
     "data": {
      "text/plain": [
       "array([0, 0, 0, 0, 0])"
      ]
     },
     "execution_count": 48,
     "metadata": {},
     "output_type": "execute_result"
    }
   ],
   "source": [
    "np.zeros((5,), dtype=int)"
   ]
  },
  {
   "cell_type": "code",
   "execution_count": 49,
   "metadata": {},
   "outputs": [
    {
     "data": {
      "text/plain": [
       "array([[0.],\n",
       "       [0.]])"
      ]
     },
     "execution_count": 49,
     "metadata": {},
     "output_type": "execute_result"
    }
   ],
   "source": [
    "b = np.zeros((2,1))\n",
    "b"
   ]
  },
  {
   "cell_type": "code",
   "execution_count": 50,
   "metadata": {},
   "outputs": [
    {
     "data": {
      "text/plain": [
       "(2, 1)"
      ]
     },
     "execution_count": 50,
     "metadata": {},
     "output_type": "execute_result"
    }
   ],
   "source": [
    "b.shape"
   ]
  },
  {
   "cell_type": "code",
   "execution_count": 51,
   "metadata": {},
   "outputs": [
    {
     "data": {
      "text/plain": [
       "array([[1., 1., 1., 1.],\n",
       "       [1., 1., 1., 1.]])"
      ]
     },
     "execution_count": 51,
     "metadata": {},
     "output_type": "execute_result"
    }
   ],
   "source": [
    "np.ones((2,4))"
   ]
  },
  {
   "cell_type": "code",
   "execution_count": 52,
   "metadata": {},
   "outputs": [
    {
     "data": {
      "text/plain": [
       "array([[1, 1, 1, 1],\n",
       "       [1, 1, 1, 1]])"
      ]
     },
     "execution_count": 52,
     "metadata": {},
     "output_type": "execute_result"
    }
   ],
   "source": [
    "np.ones((2,4),dtype=int)"
   ]
  },
  {
   "cell_type": "code",
   "execution_count": 53,
   "metadata": {},
   "outputs": [
    {
     "data": {
      "text/plain": [
       "array([[1., 0.],\n",
       "       [0., 1.]])"
      ]
     },
     "execution_count": 53,
     "metadata": {},
     "output_type": "execute_result"
    }
   ],
   "source": [
    "np.eye(2)"
   ]
  },
  {
   "cell_type": "code",
   "execution_count": 54,
   "metadata": {},
   "outputs": [
    {
     "data": {
      "text/plain": [
       "array([[1, 0],\n",
       "       [0, 1]])"
      ]
     },
     "execution_count": 54,
     "metadata": {},
     "output_type": "execute_result"
    }
   ],
   "source": [
    "np.eye(2, dtype=int)"
   ]
  },
  {
   "cell_type": "code",
   "execution_count": 55,
   "metadata": {},
   "outputs": [
    {
     "data": {
      "text/plain": [
       "array([[1., 0., 0., 0.],\n",
       "       [0., 1., 0., 0.],\n",
       "       [0., 0., 1., 0.]])"
      ]
     },
     "execution_count": 55,
     "metadata": {},
     "output_type": "execute_result"
    }
   ],
   "source": [
    "np.eye(3,4)"
   ]
  },
  {
   "cell_type": "code",
   "execution_count": 56,
   "metadata": {},
   "outputs": [
    {
     "data": {
      "text/plain": [
       "array([[0., 1., 0., 0.],\n",
       "       [0., 0., 1., 0.],\n",
       "       [0., 0., 0., 1.]])"
      ]
     },
     "execution_count": 56,
     "metadata": {},
     "output_type": "execute_result"
    }
   ],
   "source": [
    "a= np.eye(3,4,1)\n",
    "a"
   ]
  },
  {
   "cell_type": "code",
   "execution_count": 57,
   "metadata": {},
   "outputs": [
    {
     "data": {
      "text/plain": [
       "array([[0., 0., 0., 0.],\n",
       "       [1., 0., 0., 0.],\n",
       "       [0., 1., 0., 0.]])"
      ]
     },
     "execution_count": 57,
     "metadata": {},
     "output_type": "execute_result"
    }
   ],
   "source": [
    "b = np.eye(3,4,-1)\n",
    "b"
   ]
  },
  {
   "cell_type": "code",
   "execution_count": 58,
   "metadata": {},
   "outputs": [
    {
     "data": {
      "text/plain": [
       "array([[0., 0., 0., 0.],\n",
       "       [0., 0., 0., 0.],\n",
       "       [1., 0., 0., 0.]])"
      ]
     },
     "execution_count": 58,
     "metadata": {},
     "output_type": "execute_result"
    }
   ],
   "source": [
    "np.eye(3,4,-2)"
   ]
  },
  {
   "cell_type": "code",
   "execution_count": 59,
   "metadata": {},
   "outputs": [
    {
     "data": {
      "text/plain": [
       "array([[30, 30, 30],\n",
       "       [30, 30, 30]])"
      ]
     },
     "execution_count": 59,
     "metadata": {},
     "output_type": "execute_result"
    }
   ],
   "source": [
    "np.full([2,3], 30)"
   ]
  },
  {
   "cell_type": "code",
   "execution_count": 60,
   "metadata": {},
   "outputs": [
    {
     "data": {
      "text/plain": [
       "array([[1, 2, 3],\n",
       "       [1, 2, 3]])"
      ]
     },
     "execution_count": 60,
     "metadata": {},
     "output_type": "execute_result"
    }
   ],
   "source": [
    "np.full([2,3], (1,2,3))"
   ]
  },
  {
   "cell_type": "code",
   "execution_count": 61,
   "metadata": {},
   "outputs": [
    {
     "ename": "ValueError",
     "evalue": "could not broadcast input array from shape (2,) into shape (2,3)",
     "output_type": "error",
     "traceback": [
      "\u001b[1;31m---------------------------------------------------------------------------\u001b[0m",
      "\u001b[1;31mValueError\u001b[0m                                Traceback (most recent call last)",
      "Cell \u001b[1;32mIn[61], line 1\u001b[0m\n\u001b[1;32m----> 1\u001b[0m \u001b[43mnp\u001b[49m\u001b[38;5;241;43m.\u001b[39;49m\u001b[43mfull\u001b[49m\u001b[43m(\u001b[49m\u001b[43m[\u001b[49m\u001b[38;5;241;43m2\u001b[39;49m\u001b[43m,\u001b[49m\u001b[38;5;241;43m3\u001b[39;49m\u001b[43m]\u001b[49m\u001b[43m,\u001b[49m\u001b[43m \u001b[49m\u001b[43m(\u001b[49m\u001b[38;5;241;43m1\u001b[39;49m\u001b[43m,\u001b[49m\u001b[38;5;241;43m2\u001b[39;49m\u001b[43m)\u001b[49m\u001b[43m)\u001b[49m\n",
      "File \u001b[1;32mc:\\Users\\109-1\\AppData\\Local\\Programs\\Python\\Python312\\Lib\\site-packages\\numpy\\_core\\numeric.py:366\u001b[0m, in \u001b[0;36mfull\u001b[1;34m(shape, fill_value, dtype, order, device, like)\u001b[0m\n\u001b[0;32m    364\u001b[0m     dtype \u001b[38;5;241m=\u001b[39m fill_value\u001b[38;5;241m.\u001b[39mdtype\n\u001b[0;32m    365\u001b[0m a \u001b[38;5;241m=\u001b[39m empty(shape, dtype, order, device\u001b[38;5;241m=\u001b[39mdevice)\n\u001b[1;32m--> 366\u001b[0m \u001b[43mmultiarray\u001b[49m\u001b[38;5;241;43m.\u001b[39;49m\u001b[43mcopyto\u001b[49m\u001b[43m(\u001b[49m\u001b[43ma\u001b[49m\u001b[43m,\u001b[49m\u001b[43m \u001b[49m\u001b[43mfill_value\u001b[49m\u001b[43m,\u001b[49m\u001b[43m \u001b[49m\u001b[43mcasting\u001b[49m\u001b[38;5;241;43m=\u001b[39;49m\u001b[38;5;124;43m'\u001b[39;49m\u001b[38;5;124;43munsafe\u001b[39;49m\u001b[38;5;124;43m'\u001b[39;49m\u001b[43m)\u001b[49m\n\u001b[0;32m    367\u001b[0m \u001b[38;5;28;01mreturn\u001b[39;00m a\n",
      "\u001b[1;31mValueError\u001b[0m: could not broadcast input array from shape (2,) into shape (2,3)"
     ]
    }
   ],
   "source": [
    "np.full([2,3], (1,2)) #원소의 개수가 같아야 함"
   ]
  },
  {
   "cell_type": "code",
   "execution_count": 62,
   "metadata": {},
   "outputs": [
    {
     "data": {
      "text/plain": [
       "array([[0, 1, 2, 3],\n",
       "       [0, 1, 2, 3],\n",
       "       [0, 1, 2, 3]])"
      ]
     },
     "execution_count": 62,
     "metadata": {},
     "output_type": "execute_result"
    }
   ],
   "source": [
    "np.full([3,4], range(4)) #np.full([3,4], [0,1,2,3])"
   ]
  },
  {
   "cell_type": "code",
   "execution_count": 64,
   "metadata": {},
   "outputs": [
    {
     "data": {
      "text/plain": [
       "array([[0, 0, 0],\n",
       "       [1, 1, 1],\n",
       "       [2, 2, 2],\n",
       "       [3, 3, 3]])"
      ]
     },
     "execution_count": 64,
     "metadata": {},
     "output_type": "execute_result"
    }
   ],
   "source": [
    "np.full([4,3], fill_value=np.arange(4).reshape(4,1)) # reshape  때문에 세로로 모양에 맞추어 들어감"
   ]
  },
  {
   "cell_type": "code",
   "execution_count": 65,
   "metadata": {},
   "outputs": [
    {
     "data": {
      "text/plain": [
       "array([4.9e-324, 9.9e-324, 1.5e-323])"
      ]
     },
     "execution_count": 65,
     "metadata": {},
     "output_type": "execute_result"
    }
   ],
   "source": [
    "np.empty(3)"
   ]
  },
  {
   "cell_type": "code",
   "execution_count": 66,
   "metadata": {},
   "outputs": [
    {
     "data": {
      "text/plain": [
       "array([[0.0e+000, 4.9e-324],\n",
       "       [9.9e-324, 1.5e-323]])"
      ]
     },
     "execution_count": 66,
     "metadata": {},
     "output_type": "execute_result"
    }
   ],
   "source": [
    "np.empty([2,2])"
   ]
  },
  {
   "cell_type": "code",
   "execution_count": 67,
   "metadata": {},
   "outputs": [
    {
     "data": {
      "text/plain": [
       "array([[25895968444448860, 23925768161198147, 32370111954616435],\n",
       "       [16044279834148956, 18296268626395181, 27303364806049904]])"
      ]
     },
     "execution_count": 67,
     "metadata": {},
     "output_type": "execute_result"
    }
   ],
   "source": [
    "np.empty([2,3],dtype=int)"
   ]
  },
  {
   "cell_type": "code",
   "execution_count": 78,
   "metadata": {},
   "outputs": [
    {
     "data": {
      "text/plain": [
       "array([[[            nan, 1.08646184e-311, 1.20552018e-320],\n",
       "        [4.94065646e-324, 1.20552018e-320, 2.03060980e-321]],\n",
       "\n",
       "       [[8.89318163e-321, 1.36232130e-311, 1.19761513e-320],\n",
       "        [1.36232130e-311, 1.36350333e-311, 0.00000000e+000]],\n",
       "\n",
       "       [[0.00000000e+000, 0.00000000e+000, 0.00000000e+000],\n",
       "        [0.00000000e+000, 0.00000000e+000, 0.00000000e+000]]])"
      ]
     },
     "execution_count": 78,
     "metadata": {},
     "output_type": "execute_result"
    }
   ],
   "source": [
    "np.empty([3,2, 3], float)"
   ]
  },
  {
   "cell_type": "code",
   "execution_count": 112,
   "metadata": {},
   "outputs": [
    {
     "data": {
      "text/plain": [
       "array([[[25895968444448860, 23925768161198179, 32370111954616435],\n",
       "        [16044279834148956, 18296268626395181, 27303364806049904]],\n",
       "\n",
       "       [[21392493373358196, 30399714103066735, 31244212046397532],\n",
       "        [30681189080760423, 34058815785402483, 30962724186357876]],\n",
       "\n",
       "       [[32651616994721884, 14355696265920616, 21392493370277937],\n",
       "        [33495917371981929, 32088598323331187, 11822344165523557]]])"
      ]
     },
     "execution_count": 112,
     "metadata": {},
     "output_type": "execute_result"
    }
   ],
   "source": [
    "np.empty([3,2, 3], int)"
   ]
  },
  {
   "cell_type": "code",
   "execution_count": 70,
   "metadata": {},
   "outputs": [
    {
     "data": {
      "text/plain": [
       "array([[0, 1, 2, 3],\n",
       "       [4, 5, 6, 7]])"
      ]
     },
     "execution_count": 70,
     "metadata": {},
     "output_type": "execute_result"
    }
   ],
   "source": [
    "import numpy as np\n",
    "\n",
    "a = np.arange(8).reshape(2,4)\n",
    "a"
   ]
  },
  {
   "cell_type": "code",
   "execution_count": 71,
   "metadata": {},
   "outputs": [
    {
     "data": {
      "text/plain": [
       "array([[0, 0, 0, 0],\n",
       "       [0, 0, 0, 0]])"
      ]
     },
     "execution_count": 71,
     "metadata": {},
     "output_type": "execute_result"
    }
   ],
   "source": [
    "np.zeros_like(a)"
   ]
  },
  {
   "cell_type": "code",
   "execution_count": 72,
   "metadata": {},
   "outputs": [
    {
     "data": {
      "text/plain": [
       "array([[1, 1, 1, 1],\n",
       "       [1, 1, 1, 1]])"
      ]
     },
     "execution_count": 72,
     "metadata": {},
     "output_type": "execute_result"
    }
   ],
   "source": [
    "np.ones_like(a)"
   ]
  },
  {
   "cell_type": "code",
   "execution_count": 73,
   "metadata": {},
   "outputs": [
    {
     "data": {
      "text/plain": [
       "array([[5, 5, 5, 5],\n",
       "       [5, 5, 5, 5]])"
      ]
     },
     "execution_count": 73,
     "metadata": {},
     "output_type": "execute_result"
    }
   ],
   "source": [
    "np.full_like(a, 5)"
   ]
  },
  {
   "cell_type": "code",
   "execution_count": 74,
   "metadata": {},
   "outputs": [
    {
     "data": {
      "text/plain": [
       "array([[0, 1, 2, 3],\n",
       "       [0, 1, 2, 3]])"
      ]
     },
     "execution_count": 74,
     "metadata": {},
     "output_type": "execute_result"
    }
   ],
   "source": [
    "np.full_like(a, range(4))"
   ]
  },
  {
   "cell_type": "code",
   "execution_count": 141,
   "metadata": {},
   "outputs": [
    {
     "data": {
      "text/plain": [
       "array([0, 1, 2])"
      ]
     },
     "execution_count": 141,
     "metadata": {},
     "output_type": "execute_result"
    }
   ],
   "source": [
    "import numpy as np\n",
    "a = np.arange(3)\n",
    "a"
   ]
  },
  {
   "cell_type": "code",
   "execution_count": 142,
   "metadata": {},
   "outputs": [
    {
     "name": "stdout",
     "output_type": "stream",
     "text": [
      "[2 3 4]\n",
      "[-2 -1  0]\n",
      "[0 2 4]\n",
      "[0.  0.5 1. ]\n"
     ]
    }
   ],
   "source": [
    "print(a+2)\n",
    "print(a-2)\n",
    "print(a*2)\n",
    "print(a/2)"
   ]
  },
  {
   "cell_type": "code",
   "execution_count": 166,
   "metadata": {},
   "outputs": [
    {
     "data": {
      "text/plain": [
       "array([[1, 2],\n",
       "       [3, 4],\n",
       "       [5, 6]])"
      ]
     },
     "execution_count": 166,
     "metadata": {},
     "output_type": "execute_result"
    }
   ],
   "source": [
    "a = np.arange(1, 7).reshape(3,2)\n",
    "a"
   ]
  },
  {
   "cell_type": "code",
   "execution_count": 167,
   "metadata": {},
   "outputs": [
    {
     "ename": "ValueError",
     "evalue": "could not broadcast input array from shape (3,) into shape (3,2)",
     "output_type": "error",
     "traceback": [
      "\u001b[1;31m---------------------------------------------------------------------------\u001b[0m",
      "\u001b[1;31mValueError\u001b[0m                                Traceback (most recent call last)",
      "Cell \u001b[1;32mIn[167], line 1\u001b[0m\n\u001b[1;32m----> 1\u001b[0m b \u001b[38;5;241m=\u001b[39m \u001b[43mnp\u001b[49m\u001b[38;5;241;43m.\u001b[39;49m\u001b[43mfull_like\u001b[49m\u001b[43m(\u001b[49m\u001b[43ma\u001b[49m\u001b[43m,\u001b[49m\u001b[43m \u001b[49m\u001b[43m[\u001b[49m\u001b[38;5;241;43m1\u001b[39;49m\u001b[43m,\u001b[49m\u001b[38;5;241;43m2\u001b[39;49m\u001b[43m,\u001b[49m\u001b[38;5;241;43m3\u001b[39;49m\u001b[43m]\u001b[49m\u001b[43m)\u001b[49m\n\u001b[0;32m      2\u001b[0m b\n",
      "File \u001b[1;32mc:\\Users\\109-1\\AppData\\Local\\Programs\\Python\\Python312\\Lib\\site-packages\\numpy\\_core\\numeric.py:457\u001b[0m, in \u001b[0;36mfull_like\u001b[1;34m(a, fill_value, dtype, order, subok, shape, device)\u001b[0m\n\u001b[0;32m    385\u001b[0m \u001b[38;5;250m\u001b[39m\u001b[38;5;124;03m\"\"\"\u001b[39;00m\n\u001b[0;32m    386\u001b[0m \u001b[38;5;124;03mReturn a full array with the same shape and type as a given array.\u001b[39;00m\n\u001b[0;32m    387\u001b[0m \n\u001b[1;32m   (...)\u001b[0m\n\u001b[0;32m    452\u001b[0m \u001b[38;5;124;03m        [  0,   0, 255]]])\u001b[39;00m\n\u001b[0;32m    453\u001b[0m \u001b[38;5;124;03m\"\"\"\u001b[39;00m\n\u001b[0;32m    454\u001b[0m res \u001b[38;5;241m=\u001b[39m empty_like(\n\u001b[0;32m    455\u001b[0m     a, dtype\u001b[38;5;241m=\u001b[39mdtype, order\u001b[38;5;241m=\u001b[39morder, subok\u001b[38;5;241m=\u001b[39msubok, shape\u001b[38;5;241m=\u001b[39mshape, device\u001b[38;5;241m=\u001b[39mdevice\n\u001b[0;32m    456\u001b[0m )\n\u001b[1;32m--> 457\u001b[0m \u001b[43mmultiarray\u001b[49m\u001b[38;5;241;43m.\u001b[39;49m\u001b[43mcopyto\u001b[49m\u001b[43m(\u001b[49m\u001b[43mres\u001b[49m\u001b[43m,\u001b[49m\u001b[43m \u001b[49m\u001b[43mfill_value\u001b[49m\u001b[43m,\u001b[49m\u001b[43m \u001b[49m\u001b[43mcasting\u001b[49m\u001b[38;5;241;43m=\u001b[39;49m\u001b[38;5;124;43m'\u001b[39;49m\u001b[38;5;124;43munsafe\u001b[39;49m\u001b[38;5;124;43m'\u001b[39;49m\u001b[43m)\u001b[49m\n\u001b[0;32m    458\u001b[0m \u001b[38;5;28;01mreturn\u001b[39;00m res\n",
      "\u001b[1;31mValueError\u001b[0m: could not broadcast input array from shape (3,) into shape (3,2)"
     ]
    }
   ],
   "source": [
    "b = np.full_like(a, [1,2,3])\n",
    "b"
   ]
  },
  {
   "cell_type": "code",
   "execution_count": 168,
   "metadata": {},
   "outputs": [
    {
     "ename": "ValueError",
     "evalue": "operands could not be broadcast together with shapes (3,2) (2,3) ",
     "output_type": "error",
     "traceback": [
      "\u001b[1;31m---------------------------------------------------------------------------\u001b[0m",
      "\u001b[1;31mValueError\u001b[0m                                Traceback (most recent call last)",
      "Cell \u001b[1;32mIn[168], line 1\u001b[0m\n\u001b[1;32m----> 1\u001b[0m \u001b[38;5;28mprint\u001b[39m(\u001b[43ma\u001b[49m\u001b[38;5;241;43m+\u001b[39;49m\u001b[43mb\u001b[49m)\n\u001b[0;32m      2\u001b[0m \u001b[38;5;28mprint\u001b[39m(a\u001b[38;5;241m-\u001b[39mb)\n\u001b[0;32m      3\u001b[0m \u001b[38;5;28mprint\u001b[39m(a\u001b[38;5;241m*\u001b[39mb)\n",
      "\u001b[1;31mValueError\u001b[0m: operands could not be broadcast together with shapes (3,2) (2,3) "
     ]
    }
   ],
   "source": [
    "print(a+b)\n",
    "print(a-b)\n",
    "print(a*b)\n",
    "print(a/b)"
   ]
  },
  {
   "cell_type": "code",
   "execution_count": 146,
   "metadata": {},
   "outputs": [
    {
     "data": {
      "text/plain": [
       "array([0, 1, 2, 3])"
      ]
     },
     "execution_count": 146,
     "metadata": {},
     "output_type": "execute_result"
    }
   ],
   "source": [
    "a = np.arange(4)\n",
    "a"
   ]
  },
  {
   "cell_type": "code",
   "execution_count": 130,
   "metadata": {},
   "outputs": [
    {
     "data": {
      "text/plain": [
       "array([0.5, 1.5, 2.5, 3.5])"
      ]
     },
     "execution_count": 130,
     "metadata": {},
     "output_type": "execute_result"
    }
   ],
   "source": [
    "b = np.arange(0.5 , 4, 1)\n",
    "b"
   ]
  },
  {
   "cell_type": "code",
   "execution_count": 123,
   "metadata": {},
   "outputs": [
    {
     "ename": "UFuncTypeError",
     "evalue": "Cannot cast ufunc 'add' output from dtype('float64') to dtype('int64') with casting rule 'same_kind'",
     "output_type": "error",
     "traceback": [
      "\u001b[1;31m---------------------------------------------------------------------------\u001b[0m",
      "\u001b[1;31mUFuncTypeError\u001b[0m                            Traceback (most recent call last)",
      "Cell \u001b[1;32mIn[123], line 1\u001b[0m\n\u001b[1;32m----> 1\u001b[0m \u001b[43ma\u001b[49m\u001b[43m \u001b[49m\u001b[38;5;241;43m+\u001b[39;49m\u001b[38;5;241;43m=\u001b[39;49m\u001b[43mb\u001b[49m \n",
      "\u001b[1;31mUFuncTypeError\u001b[0m: Cannot cast ufunc 'add' output from dtype('float64') to dtype('int64') with casting rule 'same_kind'"
     ]
    }
   ],
   "source": [
    "a +=b "
   ]
  },
  {
   "cell_type": "code",
   "execution_count": 131,
   "metadata": {},
   "outputs": [
    {
     "data": {
      "text/plain": [
       "array([0.5, 2.5, 4.5, 6.5])"
      ]
     },
     "execution_count": 131,
     "metadata": {},
     "output_type": "execute_result"
    }
   ],
   "source": [
    "b += a\n",
    "b"
   ]
  },
  {
   "cell_type": "code",
   "execution_count": 148,
   "metadata": {},
   "outputs": [
    {
     "data": {
      "text/plain": [
       "array([[1, 2, 3],\n",
       "       [1, 2, 3]])"
      ]
     },
     "execution_count": 148,
     "metadata": {},
     "output_type": "execute_result"
    }
   ],
   "source": [
    "a = np.full((2,3), [ 1,2,3])\n",
    "a"
   ]
  },
  {
   "cell_type": "code",
   "execution_count": 149,
   "metadata": {},
   "outputs": [
    {
     "data": {
      "text/plain": [
       "array([[2, 1],\n",
       "       [2, 1],\n",
       "       [2, 1]])"
      ]
     },
     "execution_count": 149,
     "metadata": {},
     "output_type": "execute_result"
    }
   ],
   "source": [
    "b = np.full((3,2), [2,1])\n",
    "b"
   ]
  },
  {
   "cell_type": "code",
   "execution_count": 134,
   "metadata": {},
   "outputs": [
    {
     "data": {
      "text/plain": [
       "array([[12,  6],\n",
       "       [12,  6]])"
      ]
     },
     "execution_count": 134,
     "metadata": {},
     "output_type": "execute_result"
    }
   ],
   "source": [
    "a@b"
   ]
  },
  {
   "cell_type": "code",
   "execution_count": 135,
   "metadata": {},
   "outputs": [
    {
     "data": {
      "text/plain": [
       "array([[12,  6],\n",
       "       [12,  6]])"
      ]
     },
     "execution_count": 135,
     "metadata": {},
     "output_type": "execute_result"
    }
   ],
   "source": [
    "a.dot(b)"
   ]
  },
  {
   "cell_type": "code",
   "execution_count": 138,
   "metadata": {},
   "outputs": [
    {
     "data": {
      "text/plain": [
       "array([[3, 6, 9],\n",
       "       [3, 6, 9],\n",
       "       [3, 6, 9]])"
      ]
     },
     "execution_count": 138,
     "metadata": {},
     "output_type": "execute_result"
    }
   ],
   "source": [
    "b.dot(a)"
   ]
  },
  {
   "cell_type": "code",
   "execution_count": 150,
   "metadata": {},
   "outputs": [
    {
     "name": "stdout",
     "output_type": "stream",
     "text": [
      "[[12  6]\n",
      " [12  6]]\n",
      "[[3 6 9]\n",
      " [3 6 9]\n",
      " [3 6 9]]\n"
     ]
    }
   ],
   "source": [
    "import numpy as np\n",
    "print(np.matmul(a,b))\n",
    "print(np.matmul(b,a))"
   ]
  },
  {
   "cell_type": "code",
   "execution_count": 152,
   "metadata": {},
   "outputs": [
    {
     "data": {
      "text/plain": [
       "array([[10, 20],\n",
       "       [ 5,  8],\n",
       "       [ 1,  2]])"
      ]
     },
     "execution_count": 152,
     "metadata": {},
     "output_type": "execute_result"
    }
   ],
   "source": [
    "a = np.array([[10,20],[5,8], [1,2]])\n",
    "a"
   ]
  },
  {
   "cell_type": "code",
   "execution_count": 153,
   "metadata": {},
   "outputs": [
    {
     "data": {
      "text/plain": [
       "np.int64(46)"
      ]
     },
     "execution_count": 153,
     "metadata": {},
     "output_type": "execute_result"
    }
   ],
   "source": [
    "a.sum()"
   ]
  },
  {
   "cell_type": "code",
   "execution_count": 154,
   "metadata": {},
   "outputs": [
    {
     "data": {
      "text/plain": [
       "array([16, 30])"
      ]
     },
     "execution_count": 154,
     "metadata": {},
     "output_type": "execute_result"
    }
   ],
   "source": [
    "a.sum(axis=0)"
   ]
  },
  {
   "cell_type": "code",
   "execution_count": 155,
   "metadata": {},
   "outputs": [
    {
     "data": {
      "text/plain": [
       "array([30, 13,  3])"
      ]
     },
     "execution_count": 155,
     "metadata": {},
     "output_type": "execute_result"
    }
   ],
   "source": [
    "a.sum(axis=1)"
   ]
  },
  {
   "cell_type": "code",
   "execution_count": 156,
   "metadata": {},
   "outputs": [
    {
     "name": "stdout",
     "output_type": "stream",
     "text": [
      "46\n",
      "[16 30]\n",
      "[30 13  3]\n"
     ]
    }
   ],
   "source": [
    "import numpy as np\n",
    "\n",
    "print(np.sum(a))\n",
    "print(np.sum(a, axis=0))\n",
    "print(np.sum(a, axis=1))"
   ]
  },
  {
   "cell_type": "code",
   "execution_count": 157,
   "metadata": {},
   "outputs": [
    {
     "data": {
      "text/plain": [
       "array([[3, 5, 8],\n",
       "       [1, 2, 3]])"
      ]
     },
     "execution_count": 157,
     "metadata": {},
     "output_type": "execute_result"
    }
   ],
   "source": [
    "a = np.array([[3,5,8], [1,2,3]])\n",
    "a"
   ]
  },
  {
   "cell_type": "code",
   "execution_count": 158,
   "metadata": {},
   "outputs": [
    {
     "data": {
      "text/plain": [
       "array([ 3,  8, 16, 17, 19, 22])"
      ]
     },
     "execution_count": 158,
     "metadata": {},
     "output_type": "execute_result"
    }
   ],
   "source": [
    "a.cumsum() #차원을 펼져서 계산"
   ]
  },
  {
   "cell_type": "code",
   "execution_count": 159,
   "metadata": {},
   "outputs": [
    {
     "data": {
      "text/plain": [
       "array([[ 3,  5,  8],\n",
       "       [ 4,  7, 11]])"
      ]
     },
     "execution_count": 159,
     "metadata": {},
     "output_type": "execute_result"
    }
   ],
   "source": [
    "a.cumsum(axis=0)"
   ]
  },
  {
   "cell_type": "code",
   "execution_count": 160,
   "metadata": {},
   "outputs": [
    {
     "data": {
      "text/plain": [
       "array([[ 3,  8, 16],\n",
       "       [ 1,  3,  6]])"
      ]
     },
     "execution_count": 160,
     "metadata": {},
     "output_type": "execute_result"
    }
   ],
   "source": [
    "a.cumsum(axis=1)"
   ]
  },
  {
   "cell_type": "code",
   "execution_count": 169,
   "metadata": {},
   "outputs": [
    {
     "data": {
      "text/plain": [
       "array([1., 2., 3.])"
      ]
     },
     "execution_count": 169,
     "metadata": {},
     "output_type": "execute_result"
    }
   ],
   "source": [
    "import numpy as np\n",
    "a= np.array([1,4,9])\n",
    "np.sqrt(a)"
   ]
  },
  {
   "cell_type": "code",
   "execution_count": 170,
   "metadata": {},
   "outputs": [
    {
     "data": {
      "text/plain": [
       "array([0.        , 1.38629436, 2.19722458])"
      ]
     },
     "execution_count": 170,
     "metadata": {},
     "output_type": "execute_result"
    }
   ],
   "source": [
    "np.log(a)"
   ]
  },
  {
   "cell_type": "code",
   "execution_count": 171,
   "metadata": {},
   "outputs": [
    {
     "data": {
      "text/plain": [
       "array([1, 4, 9])"
      ]
     },
     "execution_count": 171,
     "metadata": {},
     "output_type": "execute_result"
    }
   ],
   "source": [
    "import numpy as np\n",
    "\n",
    "a =np.array([1,4,9])\n",
    "a"
   ]
  },
  {
   "cell_type": "code",
   "execution_count": 172,
   "metadata": {},
   "outputs": [
    {
     "data": {
      "text/plain": [
       "array([2, 2, 2])"
      ]
     },
     "execution_count": 172,
     "metadata": {},
     "output_type": "execute_result"
    }
   ],
   "source": [
    "b = np.full_like(a, 2)\n",
    "b"
   ]
  },
  {
   "cell_type": "code",
   "execution_count": 173,
   "metadata": {},
   "outputs": [
    {
     "data": {
      "text/plain": [
       "array([ 3,  6, 11])"
      ]
     },
     "execution_count": 173,
     "metadata": {},
     "output_type": "execute_result"
    }
   ],
   "source": [
    "np.add(a,b)"
   ]
  },
  {
   "cell_type": "code",
   "execution_count": 174,
   "metadata": {},
   "outputs": [
    {
     "data": {
      "text/plain": [
       "array([0.5, 2. , 4.5])"
      ]
     },
     "execution_count": 174,
     "metadata": {},
     "output_type": "execute_result"
    }
   ],
   "source": [
    "np.divide(a,b)"
   ]
  },
  {
   "cell_type": "code",
   "execution_count": 175,
   "metadata": {},
   "outputs": [
    {
     "data": {
      "text/plain": [
       "array([ 1, 16, 81])"
      ]
     },
     "execution_count": 175,
     "metadata": {},
     "output_type": "execute_result"
    }
   ],
   "source": [
    "np.power(a,b)"
   ]
  },
  {
   "cell_type": "code",
   "execution_count": 176,
   "metadata": {},
   "outputs": [
    {
     "data": {
      "text/plain": [
       "array([ 0,  1,  4,  9, 16, 25, 36, 49, 64, 81])"
      ]
     },
     "execution_count": 176,
     "metadata": {},
     "output_type": "execute_result"
    }
   ],
   "source": [
    "import numpy as np\n",
    "\n",
    "a = np.power(np.arange(10),2)\n",
    "a"
   ]
  },
  {
   "cell_type": "code",
   "execution_count": 177,
   "metadata": {},
   "outputs": [
    {
     "name": "stdout",
     "output_type": "stream",
     "text": [
      "9\n",
      "64\n"
     ]
    }
   ],
   "source": [
    "print(a[3])\n",
    "print(a[-2])"
   ]
  },
  {
   "cell_type": "code",
   "execution_count": 178,
   "metadata": {},
   "outputs": [
    {
     "name": "stdout",
     "output_type": "stream",
     "text": [
      "[1 4 9]\n",
      "[25 36 49 64]\n"
     ]
    }
   ],
   "source": [
    "print(a[1:4])\n",
    "print(a[-5:-1])"
   ]
  },
  {
   "cell_type": "code",
   "execution_count": 179,
   "metadata": {},
   "outputs": [
    {
     "name": "stdout",
     "output_type": "stream",
     "text": [
      "[64 49 36 25 16  9]\n",
      "[81 64 49 36 25 16]\n"
     ]
    }
   ],
   "source": [
    "print(a[8:2:-1])\n",
    "print(a[-1:-7:-1])"
   ]
  },
  {
   "cell_type": "code",
   "execution_count": 180,
   "metadata": {},
   "outputs": [
    {
     "data": {
      "text/plain": [
       "array([81, 64, 49, 36, 25, 16,  9,  4,  1,  0])"
      ]
     },
     "execution_count": 180,
     "metadata": {},
     "output_type": "execute_result"
    }
   ],
   "source": [
    "a[::-1]"
   ]
  },
  {
   "cell_type": "code",
   "execution_count": 181,
   "metadata": {},
   "outputs": [
    {
     "data": {
      "text/plain": [
       "array([81, 49, 25,  9,  1])"
      ]
     },
     "execution_count": 181,
     "metadata": {},
     "output_type": "execute_result"
    }
   ],
   "source": [
    "a[::-2]"
   ]
  },
  {
   "cell_type": "code",
   "execution_count": 182,
   "metadata": {},
   "outputs": [
    {
     "data": {
      "text/plain": [
       "array([   0,    1, -100, -100, -100,   25,   36,   49,   64,   81])"
      ]
     },
     "execution_count": 182,
     "metadata": {},
     "output_type": "execute_result"
    }
   ],
   "source": [
    "a[2:5] = -100\n",
    "a"
   ]
  },
  {
   "cell_type": "code",
   "execution_count": 183,
   "metadata": {},
   "outputs": [
    {
     "data": {
      "text/plain": [
       "array([ 0,  1, -5, -5, -5, 25, 36, 49, 64, 81])"
      ]
     },
     "execution_count": 183,
     "metadata": {},
     "output_type": "execute_result"
    }
   ],
   "source": [
    "a[2: 5] = [-5, -5, -5]\n",
    "a"
   ]
  },
  {
   "cell_type": "code",
   "execution_count": 184,
   "metadata": {},
   "outputs": [
    {
     "ename": "ValueError",
     "evalue": "could not broadcast input array from shape (2,) into shape (3,)",
     "output_type": "error",
     "traceback": [
      "\u001b[1;31m---------------------------------------------------------------------------\u001b[0m",
      "\u001b[1;31mValueError\u001b[0m                                Traceback (most recent call last)",
      "Cell \u001b[1;32mIn[184], line 1\u001b[0m\n\u001b[1;32m----> 1\u001b[0m \u001b[43ma\u001b[49m\u001b[43m[\u001b[49m\u001b[38;5;241;43m2\u001b[39;49m\u001b[43m:\u001b[49m\u001b[43m \u001b[49m\u001b[38;5;241;43m5\u001b[39;49m\u001b[43m]\u001b[49m \u001b[38;5;241m=\u001b[39m [\u001b[38;5;241m-\u001b[39m\u001b[38;5;241m5\u001b[39m, \u001b[38;5;241m-\u001b[39m\u001b[38;5;241m5\u001b[39m]\n\u001b[0;32m      2\u001b[0m a\n",
      "\u001b[1;31mValueError\u001b[0m: could not broadcast input array from shape (2,) into shape (3,)"
     ]
    }
   ],
   "source": [
    "a[2: 5] = [-5, -5]\n",
    "a"
   ]
  },
  {
   "cell_type": "code",
   "execution_count": 185,
   "metadata": {},
   "outputs": [
    {
     "ename": "ValueError",
     "evalue": "could not broadcast input array from shape (2,) into shape (4,)",
     "output_type": "error",
     "traceback": [
      "\u001b[1;31m---------------------------------------------------------------------------\u001b[0m",
      "\u001b[1;31mValueError\u001b[0m                                Traceback (most recent call last)",
      "Cell \u001b[1;32mIn[185], line 1\u001b[0m\n\u001b[1;32m----> 1\u001b[0m \u001b[43ma\u001b[49m\u001b[43m[\u001b[49m\u001b[38;5;241;43m2\u001b[39;49m\u001b[43m:\u001b[49m\u001b[43m \u001b[49m\u001b[38;5;241;43m6\u001b[39;49m\u001b[43m]\u001b[49m \u001b[38;5;241m=\u001b[39m [\u001b[38;5;241m-\u001b[39m\u001b[38;5;241m5\u001b[39m, \u001b[38;5;241m-\u001b[39m\u001b[38;5;241m5\u001b[39m]\n\u001b[0;32m      2\u001b[0m a\n",
      "\u001b[1;31mValueError\u001b[0m: could not broadcast input array from shape (2,) into shape (4,)"
     ]
    }
   ],
   "source": [
    "a[2: 6] = [-5, -5]\n",
    "a"
   ]
  },
  {
   "cell_type": "code",
   "execution_count": 186,
   "metadata": {},
   "outputs": [
    {
     "data": {
      "text/plain": [
       "array([  0,   1, -10, -10, -10,  25,  36,  49,  64,  81])"
      ]
     },
     "execution_count": 186,
     "metadata": {},
     "output_type": "execute_result"
    }
   ],
   "source": [
    "a[2:5] = -10\n",
    "a"
   ]
  },
  {
   "cell_type": "code",
   "execution_count": 187,
   "metadata": {},
   "outputs": [
    {
     "data": {
      "text/plain": [
       "array([5, 5, 5, 5, 5, 5, 5, 5, 5, 5])"
      ]
     },
     "execution_count": 187,
     "metadata": {},
     "output_type": "execute_result"
    }
   ],
   "source": [
    "b = np.array([5] * 10)\n",
    "b"
   ]
  },
  {
   "cell_type": "code",
   "execution_count": 188,
   "metadata": {},
   "outputs": [
    {
     "data": {
      "text/plain": [
       "array([-10,   5, -10,   5, -10,   5, -10,   5, -10,   5])"
      ]
     },
     "execution_count": 188,
     "metadata": {},
     "output_type": "execute_result"
    }
   ],
   "source": [
    "b[::2] = -10\n",
    "b"
   ]
  },
  {
   "cell_type": "code",
   "execution_count": 189,
   "metadata": {},
   "outputs": [
    {
     "data": {
      "text/plain": [
       "array([0, 5, 1, 5, 2, 5, 3, 5, 4, 5])"
      ]
     },
     "execution_count": 189,
     "metadata": {},
     "output_type": "execute_result"
    }
   ],
   "source": [
    "b[::2] = np.arange(5)\n",
    "b"
   ]
  },
  {
   "cell_type": "code",
   "execution_count": 190,
   "metadata": {},
   "outputs": [
    {
     "data": {
      "text/plain": [
       "array([[ 0,  1,  2,  3,  4,  5],\n",
       "       [ 6,  7,  8,  9, 10, 11],\n",
       "       [12, 13, 14, 15, 16, 17],\n",
       "       [18, 19, 20, 21, 22, 23],\n",
       "       [24, 25, 26, 27, 28, 29]])"
      ]
     },
     "execution_count": 190,
     "metadata": {},
     "output_type": "execute_result"
    }
   ],
   "source": [
    "a = np.arange(30).reshape(5,6)\n",
    "a"
   ]
  },
  {
   "cell_type": "code",
   "execution_count": 191,
   "metadata": {},
   "outputs": [
    {
     "data": {
      "text/plain": [
       "array([18, 19, 20, 21, 22, 23])"
      ]
     },
     "execution_count": 191,
     "metadata": {},
     "output_type": "execute_result"
    }
   ],
   "source": [
    "a[3]"
   ]
  },
  {
   "cell_type": "code",
   "execution_count": 192,
   "metadata": {},
   "outputs": [
    {
     "data": {
      "text/plain": [
       "array([24, 25, 26, 27, 28, 29])"
      ]
     },
     "execution_count": 192,
     "metadata": {},
     "output_type": "execute_result"
    }
   ],
   "source": [
    "a[-1]"
   ]
  },
  {
   "cell_type": "code",
   "execution_count": 193,
   "metadata": {},
   "outputs": [
    {
     "data": {
      "text/plain": [
       "array([18, 19, 20, 21, 22, 23])"
      ]
     },
     "execution_count": 193,
     "metadata": {},
     "output_type": "execute_result"
    }
   ],
   "source": [
    "a[-2, :]"
   ]
  },
  {
   "cell_type": "code",
   "execution_count": 194,
   "metadata": {},
   "outputs": [
    {
     "data": {
      "text/plain": [
       "array([18, 19, 20, 21, 22, 23])"
      ]
     },
     "execution_count": 194,
     "metadata": {},
     "output_type": "execute_result"
    }
   ],
   "source": [
    "a[-2,]"
   ]
  },
  {
   "cell_type": "code",
   "execution_count": 195,
   "metadata": {},
   "outputs": [
    {
     "data": {
      "text/plain": [
       "array([[12, 13, 14, 15, 16, 17],\n",
       "       [18, 19, 20, 21, 22, 23]])"
      ]
     },
     "execution_count": 195,
     "metadata": {},
     "output_type": "execute_result"
    }
   ],
   "source": [
    "a[2:4]"
   ]
  },
  {
   "cell_type": "code",
   "execution_count": 196,
   "metadata": {},
   "outputs": [
    {
     "data": {
      "text/plain": [
       "array([[ 6,  7,  8,  9, 10, 11],\n",
       "       [18, 19, 20, 21, 22, 23]])"
      ]
     },
     "execution_count": 196,
     "metadata": {},
     "output_type": "execute_result"
    }
   ],
   "source": [
    "a[1:5:2]"
   ]
  },
  {
   "cell_type": "code",
   "execution_count": 198,
   "metadata": {},
   "outputs": [
    {
     "ename": "SyntaxError",
     "evalue": "invalid syntax (3819423678.py, line 1)",
     "output_type": "error",
     "traceback": [
      "\u001b[1;36m  Cell \u001b[1;32mIn[198], line 1\u001b[1;36m\u001b[0m\n\u001b[1;33m    a[,1]\u001b[0m\n\u001b[1;37m      ^\u001b[0m\n\u001b[1;31mSyntaxError\u001b[0m\u001b[1;31m:\u001b[0m invalid syntax\n"
     ]
    }
   ],
   "source": [
    "a[,1]"
   ]
  },
  {
   "cell_type": "code",
   "execution_count": 199,
   "metadata": {},
   "outputs": [
    {
     "data": {
      "text/plain": [
       "array([ 1,  7, 13, 19, 25])"
      ]
     },
     "execution_count": 199,
     "metadata": {},
     "output_type": "execute_result"
    }
   ],
   "source": [
    "a[:, 1]"
   ]
  },
  {
   "cell_type": "code",
   "execution_count": 200,
   "metadata": {},
   "outputs": [
    {
     "data": {
      "text/plain": [
       "array([[ 1,  2,  3,  4,  5],\n",
       "       [ 7,  8,  9, 10, 11],\n",
       "       [13, 14, 15, 16, 17],\n",
       "       [19, 20, 21, 22, 23],\n",
       "       [25, 26, 27, 28, 29]])"
      ]
     },
     "execution_count": 200,
     "metadata": {},
     "output_type": "execute_result"
    }
   ],
   "source": [
    "a[:, 1:6]"
   ]
  },
  {
   "cell_type": "code",
   "execution_count": 201,
   "metadata": {},
   "outputs": [
    {
     "data": {
      "text/plain": [
       "array([[ 0,  2,  4],\n",
       "       [ 6,  8, 10],\n",
       "       [12, 14, 16],\n",
       "       [18, 20, 22],\n",
       "       [24, 26, 28]])"
      ]
     },
     "execution_count": 201,
     "metadata": {},
     "output_type": "execute_result"
    }
   ],
   "source": [
    "a[:, ::2]"
   ]
  },
  {
   "cell_type": "code",
   "execution_count": 203,
   "metadata": {},
   "outputs": [
    {
     "data": {
      "text/plain": [
       "array([[ 0,  1,  2,  3,  4,  5],\n",
       "       [12, 13, 14, 15, 16, 17],\n",
       "       [24, 25, 26, 27, 28, 29]])"
      ]
     },
     "execution_count": 203,
     "metadata": {},
     "output_type": "execute_result"
    }
   ],
   "source": [
    "a[::2]"
   ]
  },
  {
   "cell_type": "code",
   "execution_count": 204,
   "metadata": {},
   "outputs": [
    {
     "data": {
      "text/plain": [
       "np.int64(16)"
      ]
     },
     "execution_count": 204,
     "metadata": {},
     "output_type": "execute_result"
    }
   ],
   "source": [
    "a[2,4]"
   ]
  },
  {
   "cell_type": "code",
   "execution_count": 205,
   "metadata": {},
   "outputs": [
    {
     "data": {
      "text/plain": [
       "np.int64(16)"
      ]
     },
     "execution_count": 205,
     "metadata": {},
     "output_type": "execute_result"
    }
   ],
   "source": [
    "a[2][4]"
   ]
  },
  {
   "cell_type": "code",
   "execution_count": 206,
   "metadata": {},
   "outputs": [
    {
     "data": {
      "text/plain": [
       "array([[ 8,  9, 10],\n",
       "       [14, 15, 16]])"
      ]
     },
     "execution_count": 206,
     "metadata": {},
     "output_type": "execute_result"
    }
   ],
   "source": [
    "a[1:3, 2:5]"
   ]
  },
  {
   "cell_type": "code",
   "execution_count": 207,
   "metadata": {},
   "outputs": [
    {
     "data": {
      "text/plain": [
       "array([[ 0,  1,  2,  3,  4,  5],\n",
       "       [ 6,  7,  8,  9, 10, 11],\n",
       "       [12, 13, 14, 15, 16, 17],\n",
       "       [18, 19, 20, 21, 22, 23],\n",
       "       [24, 25, 26, 27, 28, 29]])"
      ]
     },
     "execution_count": 207,
     "metadata": {},
     "output_type": "execute_result"
    }
   ],
   "source": [
    "a[:, :]"
   ]
  },
  {
   "cell_type": "code",
   "execution_count": 208,
   "metadata": {},
   "outputs": [
    {
     "data": {
      "text/plain": [
       "array([[ 0,  1,  2,  3,  4,  5],\n",
       "       [ 6,  7,  8,  9, 10, 11],\n",
       "       [12, 13, 14, 15, 16, 17],\n",
       "       [18, 19, 20, 21, 22, 23],\n",
       "       [24, 25, 26, 27, 28, 29]])"
      ]
     },
     "execution_count": 208,
     "metadata": {},
     "output_type": "execute_result"
    }
   ],
   "source": [
    "a[:,]"
   ]
  },
  {
   "cell_type": "code",
   "execution_count": 209,
   "metadata": {},
   "outputs": [
    {
     "data": {
      "text/plain": [
       "array([[ 0,  1,  2,  3,  4,  5],\n",
       "       [ 6,  7,  8,  9, 10, 11],\n",
       "       [12, 13, 14, 15, 16, 17],\n",
       "       [18, 19, 20, 21, 22, 23],\n",
       "       [24, 25, 26, 27, 28, 29]])"
      ]
     },
     "execution_count": 209,
     "metadata": {},
     "output_type": "execute_result"
    }
   ],
   "source": [
    "a[:]"
   ]
  },
  {
   "cell_type": "code",
   "execution_count": 210,
   "metadata": {},
   "outputs": [
    {
     "data": {
      "text/plain": [
       "array([[29, 28, 27, 26, 25, 24],\n",
       "       [23, 22, 21, 20, 19, 18],\n",
       "       [17, 16, 15, 14, 13, 12],\n",
       "       [11, 10,  9,  8,  7,  6],\n",
       "       [ 5,  4,  3,  2,  1,  0]])"
      ]
     },
     "execution_count": 210,
     "metadata": {},
     "output_type": "execute_result"
    }
   ],
   "source": [
    "a[::-1, ::-1]"
   ]
  },
  {
   "cell_type": "code",
   "execution_count": 211,
   "metadata": {},
   "outputs": [
    {
     "data": {
      "text/plain": [
       "array([[ 0,  1,  2,  3,  4],\n",
       "       [ 6,  7,  8,  9, 10],\n",
       "       [12, 13, 14, 15, 16],\n",
       "       [18, 19, 20, 21, 22]])"
      ]
     },
     "execution_count": 211,
     "metadata": {},
     "output_type": "execute_result"
    }
   ],
   "source": [
    "a[:-1, :-1]"
   ]
  },
  {
   "cell_type": "code",
   "execution_count": 213,
   "metadata": {},
   "outputs": [
    {
     "data": {
      "text/plain": [
       "array([[[ 0,  1,  2,  3],\n",
       "        [ 4,  5,  6,  7],\n",
       "        [ 8,  9, 10, 11]],\n",
       "\n",
       "       [[12, 13, 14, 15],\n",
       "        [16, 17, 18, 19],\n",
       "        [20, 21, 22, 23]]])"
      ]
     },
     "execution_count": 213,
     "metadata": {},
     "output_type": "execute_result"
    }
   ],
   "source": [
    "a= np.arange(24).reshape(2,3,4)\n",
    "a"
   ]
  },
  {
   "cell_type": "code",
   "execution_count": 214,
   "metadata": {},
   "outputs": [
    {
     "data": {
      "text/plain": [
       "array([[12, 13, 14, 15],\n",
       "       [16, 17, 18, 19],\n",
       "       [20, 21, 22, 23]])"
      ]
     },
     "execution_count": 214,
     "metadata": {},
     "output_type": "execute_result"
    }
   ],
   "source": [
    "a[1]"
   ]
  },
  {
   "cell_type": "code",
   "execution_count": 215,
   "metadata": {},
   "outputs": [
    {
     "data": {
      "text/plain": [
       "array([[ 4,  5,  6,  7],\n",
       "       [16, 17, 18, 19]])"
      ]
     },
     "execution_count": 215,
     "metadata": {},
     "output_type": "execute_result"
    }
   ],
   "source": [
    "a[:,1]"
   ]
  },
  {
   "cell_type": "code",
   "execution_count": 216,
   "metadata": {},
   "outputs": [
    {
     "data": {
      "text/plain": [
       "array([ 5, 17])"
      ]
     },
     "execution_count": 216,
     "metadata": {},
     "output_type": "execute_result"
    }
   ],
   "source": [
    "a[:,1,1]"
   ]
  },
  {
   "cell_type": "code",
   "execution_count": 217,
   "metadata": {},
   "outputs": [
    {
     "data": {
      "text/plain": [
       "array([[ 1,  5,  9],\n",
       "       [13, 17, 21]])"
      ]
     },
     "execution_count": 217,
     "metadata": {},
     "output_type": "execute_result"
    }
   ],
   "source": [
    "a[:,:,1]"
   ]
  },
  {
   "cell_type": "code",
   "execution_count": 218,
   "metadata": {},
   "outputs": [
    {
     "data": {
      "text/plain": [
       "array([[ 1,  5,  9],\n",
       "       [13, 17, 21]])"
      ]
     },
     "execution_count": 218,
     "metadata": {},
     "output_type": "execute_result"
    }
   ],
   "source": [
    "a[...,1]"
   ]
  },
  {
   "cell_type": "code",
   "execution_count": 219,
   "metadata": {},
   "outputs": [
    {
     "data": {
      "text/plain": [
       "array([13, 17, 21])"
      ]
     },
     "execution_count": 219,
     "metadata": {},
     "output_type": "execute_result"
    }
   ],
   "source": [
    "a[1,...,1]"
   ]
  },
  {
   "cell_type": "code",
   "execution_count": 220,
   "metadata": {},
   "outputs": [
    {
     "data": {
      "text/plain": [
       "array([[ 0,  1,  2,  3],\n",
       "       [ 4,  5,  6,  7],\n",
       "       [ 8,  9, 10, 11]])"
      ]
     },
     "execution_count": 220,
     "metadata": {},
     "output_type": "execute_result"
    }
   ],
   "source": [
    "a[0,...]"
   ]
  },
  {
   "cell_type": "code",
   "execution_count": 221,
   "metadata": {},
   "outputs": [
    {
     "data": {
      "text/plain": [
       "array([[ 0,  1,  2,  3],\n",
       "       [ 4,  5,  6,  7],\n",
       "       [ 8,  9, 10, 11]])"
      ]
     },
     "execution_count": 221,
     "metadata": {},
     "output_type": "execute_result"
    }
   ],
   "source": [
    "a[0]"
   ]
  },
  {
   "cell_type": "code",
   "execution_count": 222,
   "metadata": {},
   "outputs": [
    {
     "data": {
      "text/plain": [
       "array([[[ 2,  3],\n",
       "        [ 6,  7],\n",
       "        [10, 11]],\n",
       "\n",
       "       [[14, 15],\n",
       "        [18, 19],\n",
       "        [22, 23]]])"
      ]
     },
     "execution_count": 222,
     "metadata": {},
     "output_type": "execute_result"
    }
   ],
   "source": [
    "a[:, :,2:]"
   ]
  },
  {
   "cell_type": "code",
   "execution_count": 223,
   "metadata": {},
   "outputs": [
    {
     "data": {
      "text/plain": [
       "array([[[ 3],\n",
       "        [ 7],\n",
       "        [11]],\n",
       "\n",
       "       [[15],\n",
       "        [19],\n",
       "        [23]]])"
      ]
     },
     "execution_count": 223,
     "metadata": {},
     "output_type": "execute_result"
    }
   ],
   "source": [
    "a[:,:,3:]"
   ]
  },
  {
   "cell_type": "code",
   "execution_count": 224,
   "metadata": {},
   "outputs": [
    {
     "data": {
      "text/plain": [
       "array([[ 3,  7, 11],\n",
       "       [15, 19, 23]])"
      ]
     },
     "execution_count": 224,
     "metadata": {},
     "output_type": "execute_result"
    }
   ],
   "source": [
    "a[:,:,3]"
   ]
  },
  {
   "cell_type": "code",
   "execution_count": 225,
   "metadata": {},
   "outputs": [
    {
     "data": {
      "text/plain": [
       "array([[[ 0,  1],\n",
       "        [ 2,  3],\n",
       "        [ 4,  5]],\n",
       "\n",
       "       [[ 6,  7],\n",
       "        [ 8,  9],\n",
       "        [10, 11]]])"
      ]
     },
     "execution_count": 225,
     "metadata": {},
     "output_type": "execute_result"
    }
   ],
   "source": [
    "a= np.arange(12).reshape(2,3,2)\n",
    "a"
   ]
  },
  {
   "cell_type": "code",
   "execution_count": 226,
   "metadata": {},
   "outputs": [
    {
     "data": {
      "text/plain": [
       "array([ 0,  1,  2,  3,  4,  5,  6,  7,  8,  9, 10, 11])"
      ]
     },
     "execution_count": 226,
     "metadata": {},
     "output_type": "execute_result"
    }
   ],
   "source": [
    "b= a.ravel()\n",
    "b"
   ]
  },
  {
   "cell_type": "code",
   "execution_count": 227,
   "metadata": {},
   "outputs": [
    {
     "data": {
      "text/plain": [
       "array([100,   1,   2,   3,   4,   5,   6,   7,   8,   9,  10,  11])"
      ]
     },
     "execution_count": 227,
     "metadata": {},
     "output_type": "execute_result"
    }
   ],
   "source": [
    "b[0] = 100\n",
    "b"
   ]
  },
  {
   "cell_type": "code",
   "execution_count": 228,
   "metadata": {},
   "outputs": [
    {
     "data": {
      "text/plain": [
       "array([[[100,   1],\n",
       "        [  2,   3],\n",
       "        [  4,   5]],\n",
       "\n",
       "       [[  6,   7],\n",
       "        [  8,   9],\n",
       "        [ 10,  11]]])"
      ]
     },
     "execution_count": 228,
     "metadata": {},
     "output_type": "execute_result"
    }
   ],
   "source": [
    "a"
   ]
  },
  {
   "cell_type": "code",
   "execution_count": 229,
   "metadata": {},
   "outputs": [
    {
     "data": {
      "text/plain": [
       "array([[1, 2, 3],\n",
       "       [4, 5, 6]])"
      ]
     },
     "execution_count": 229,
     "metadata": {},
     "output_type": "execute_result"
    }
   ],
   "source": [
    "a = np.arange(1,7).reshape(2,3)\n",
    "a"
   ]
  },
  {
   "cell_type": "code",
   "execution_count": 230,
   "metadata": {},
   "outputs": [
    {
     "data": {
      "text/plain": [
       "array([[1, 4],\n",
       "       [2, 5],\n",
       "       [3, 6]])"
      ]
     },
     "execution_count": 230,
     "metadata": {},
     "output_type": "execute_result"
    }
   ],
   "source": [
    "np.transpose(a)"
   ]
  },
  {
   "cell_type": "code",
   "execution_count": 231,
   "metadata": {},
   "outputs": [
    {
     "data": {
      "text/plain": [
       "array([[1, 4],\n",
       "       [2, 5],\n",
       "       [3, 6]])"
      ]
     },
     "execution_count": 231,
     "metadata": {},
     "output_type": "execute_result"
    }
   ],
   "source": [
    "a.transpose()"
   ]
  },
  {
   "cell_type": "code",
   "execution_count": 232,
   "metadata": {},
   "outputs": [
    {
     "data": {
      "text/plain": [
       "array([[1, 4],\n",
       "       [2, 5],\n",
       "       [3, 6]])"
      ]
     },
     "execution_count": 232,
     "metadata": {},
     "output_type": "execute_result"
    }
   ],
   "source": [
    "a.T"
   ]
  },
  {
   "cell_type": "code",
   "execution_count": 233,
   "metadata": {},
   "outputs": [
    {
     "data": {
      "text/plain": [
       "array([[1, 2, 3],\n",
       "       [4, 5, 6]])"
      ]
     },
     "execution_count": 233,
     "metadata": {},
     "output_type": "execute_result"
    }
   ],
   "source": [
    "np.transpose(a,(0,1))"
   ]
  },
  {
   "cell_type": "code",
   "execution_count": 234,
   "metadata": {},
   "outputs": [
    {
     "data": {
      "text/plain": [
       "array([[1, 4],\n",
       "       [2, 5],\n",
       "       [3, 6]])"
      ]
     },
     "execution_count": 234,
     "metadata": {},
     "output_type": "execute_result"
    }
   ],
   "source": [
    "np.transpose(a,(1,0))"
   ]
  },
  {
   "cell_type": "code",
   "execution_count": 235,
   "metadata": {},
   "outputs": [
    {
     "data": {
      "text/plain": [
       "array([[[ 1,  2],\n",
       "        [ 3,  4]],\n",
       "\n",
       "       [[ 5,  6],\n",
       "        [ 7,  8]],\n",
       "\n",
       "       [[ 9, 10],\n",
       "        [11, 12]]])"
      ]
     },
     "execution_count": 235,
     "metadata": {},
     "output_type": "execute_result"
    }
   ],
   "source": [
    "b = np.arange(1,13).reshape(3,2,2)\n",
    "b"
   ]
  },
  {
   "cell_type": "code",
   "execution_count": 236,
   "metadata": {},
   "outputs": [
    {
     "data": {
      "text/plain": [
       "array([[[ 1,  5,  9],\n",
       "        [ 3,  7, 11]],\n",
       "\n",
       "       [[ 2,  6, 10],\n",
       "        [ 4,  8, 12]]])"
      ]
     },
     "execution_count": 236,
     "metadata": {},
     "output_type": "execute_result"
    }
   ],
   "source": [
    "b.T"
   ]
  },
  {
   "cell_type": "code",
   "execution_count": 237,
   "metadata": {},
   "outputs": [
    {
     "data": {
      "text/plain": [
       "array([[[ 1,  2],\n",
       "        [ 3,  4]],\n",
       "\n",
       "       [[ 5,  6],\n",
       "        [ 7,  8]],\n",
       "\n",
       "       [[ 9, 10],\n",
       "        [11, 12]]])"
      ]
     },
     "execution_count": 237,
     "metadata": {},
     "output_type": "execute_result"
    }
   ],
   "source": [
    "np.transpose(b,(0,1,2))"
   ]
  },
  {
   "cell_type": "code",
   "execution_count": 238,
   "metadata": {},
   "outputs": [
    {
     "data": {
      "text/plain": [
       "array([[[ 1,  5,  9],\n",
       "        [ 3,  7, 11]],\n",
       "\n",
       "       [[ 2,  6, 10],\n",
       "        [ 4,  8, 12]]])"
      ]
     },
     "execution_count": 238,
     "metadata": {},
     "output_type": "execute_result"
    }
   ],
   "source": [
    "np.transpose(b,(2,1,0))"
   ]
  },
  {
   "cell_type": "code",
   "execution_count": 239,
   "metadata": {},
   "outputs": [
    {
     "data": {
      "text/plain": [
       "array([[[ 1,  3],\n",
       "        [ 2,  4]],\n",
       "\n",
       "       [[ 5,  7],\n",
       "        [ 6,  8]],\n",
       "\n",
       "       [[ 9, 11],\n",
       "        [10, 12]]])"
      ]
     },
     "execution_count": 239,
     "metadata": {},
     "output_type": "execute_result"
    }
   ],
   "source": [
    "np.transpose(b,(0,2,1))"
   ]
  },
  {
   "cell_type": "code",
   "execution_count": 240,
   "metadata": {},
   "outputs": [
    {
     "data": {
      "text/plain": [
       "array([[[ 1,  2,  3],\n",
       "        [ 4,  5,  6]],\n",
       "\n",
       "       [[ 7,  8,  9],\n",
       "        [10, 11, 12]]])"
      ]
     },
     "execution_count": 240,
     "metadata": {},
     "output_type": "execute_result"
    }
   ],
   "source": [
    "c = np.arange(1,13).reshape(2,2,3)\n",
    "c"
   ]
  },
  {
   "cell_type": "code",
   "execution_count": 241,
   "metadata": {},
   "outputs": [
    {
     "data": {
      "text/plain": [
       "array([[[ 1,  7],\n",
       "        [ 2,  8],\n",
       "        [ 3,  9]],\n",
       "\n",
       "       [[ 4, 10],\n",
       "        [ 5, 11],\n",
       "        [ 6, 12]]])"
      ]
     },
     "execution_count": 241,
     "metadata": {},
     "output_type": "execute_result"
    }
   ],
   "source": [
    "c.transpose(1,2,0)"
   ]
  },
  {
   "cell_type": "code",
   "execution_count": 242,
   "metadata": {},
   "outputs": [
    {
     "data": {
      "text/plain": [
       "array([[[ 1,  7],\n",
       "        [ 2,  8],\n",
       "        [ 3,  9]],\n",
       "\n",
       "       [[ 4, 10],\n",
       "        [ 5, 11],\n",
       "        [ 6, 12]]])"
      ]
     },
     "execution_count": 242,
     "metadata": {},
     "output_type": "execute_result"
    }
   ],
   "source": [
    "np.transpose(c,(1,2,0))"
   ]
  },
  {
   "cell_type": "code",
   "execution_count": 243,
   "metadata": {},
   "outputs": [
    {
     "data": {
      "text/plain": [
       "array([[[ 1,  7],\n",
       "        [ 4, 10]],\n",
       "\n",
       "       [[ 2,  8],\n",
       "        [ 5, 11]],\n",
       "\n",
       "       [[ 3,  9],\n",
       "        [ 6, 12]]])"
      ]
     },
     "execution_count": 243,
     "metadata": {},
     "output_type": "execute_result"
    }
   ],
   "source": [
    "np.transpose(c)"
   ]
  },
  {
   "cell_type": "code",
   "execution_count": null,
   "metadata": {},
   "outputs": [],
   "source": []
  }
 ],
 "metadata": {
  "kernelspec": {
   "display_name": "Python 3",
   "language": "python",
   "name": "python3"
  },
  "language_info": {
   "codemirror_mode": {
    "name": "ipython",
    "version": 3
   },
   "file_extension": ".py",
   "mimetype": "text/x-python",
   "name": "python",
   "nbconvert_exporter": "python",
   "pygments_lexer": "ipython3",
   "version": "3.12.4"
  }
 },
 "nbformat": 4,
 "nbformat_minor": 2
}
